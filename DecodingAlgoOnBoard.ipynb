{
 "cells": [
  {
   "cell_type": "code",
   "execution_count": 196,
   "metadata": {},
   "outputs": [
    {
     "name": "stdout",
     "output_type": "stream",
     "text": [
      "\u001b[34mConnecting to --port=COM5 --baud=115200 \u001b[0m\n",
      "Traceback (most recent call last):\n",
      "  File \"main.py\", line 29, in <module>\n",
      "  File \"main.py\", line 29, in <dictcomp>\n",
      "KeyboardInterrupt: \n",
      "MicroPython 94a9b50-dirty on 2022-03-20; ESP32 module with ESP32\n",
      "Type \"help()\" for more information.\n",
      ">>> \n",
      ">>> \n",
      "raw REPL; CTRL-B to exit\n",
      ">\u001b[34mReady.\n",
      "\u001b[0m"
     ]
    }
   ],
   "source": [
    "%serialconnect to --port=\"COM5\" --baud=115200"
   ]
  },
  {
   "cell_type": "code",
   "execution_count": 150,
   "metadata": {},
   "outputs": [
    {
     "name": "stdout",
     "output_type": "stream",
     "text": [
      "Sent 248 lines (8271 bytes) to lib/runner.py.\n"
     ]
    }
   ],
   "source": [
    "%sendtofile lib/runner.py --source micropython/lib/runner.py"
   ]
  },
  {
   "cell_type": "code",
   "execution_count": 197,
   "metadata": {},
   "outputs": [
    {
     "name": "stdout",
     "output_type": "stream",
     "text": [
      "84640\n"
     ]
    }
   ],
   "source": [
    "print(gc.mem_free())\n",
    "gc.collect()"
   ]
  },
  {
   "cell_type": "code",
   "execution_count": 205,
   "metadata": {},
   "outputs": [
    {
     "name": "stdout",
     "output_type": "stream",
     "text": [
      "before import: 50352\n",
      "after import: 50304\n",
      "network config: ('192.168.0.88', '255.255.255.0', '192.168.0.1', '194.168.4.100')\n",
      "after wifi: 50144\n",
      "before setup: 50112\n",
      "ADC initialised\n",
      "SPI initialised\n",
      "DigiPot set to 255 = gain of 17.57861814046062\n",
      "after import: 54736\n",
      "before second import: 54848\n",
      "after second import: 54832\n",
      "before delete import: 36352\n",
      "before calibration: 54864\n",
      "after calibration: 13392\n"
     ]
    }
   ],
   "source": [
    "print('before import:', gc.mem_free())\n",
    "\n",
    "from lib.runner import Runner\n",
    "from lib.utils import connect_wifi\n",
    "from lib.requests import MicroWebCli as requests\n",
    "\n",
    "print('after import:', gc.mem_free())\n",
    "\n",
    "ssid = 'TP-Link_AP_4C04'\n",
    "password = '63525465'\n",
    "connect_wifi(ssid, password)\n",
    "\n",
    "print('after wifi:', gc.mem_free())\n",
    "\n",
    "Nc = 1\n",
    "Ns = 50\n",
    "\n",
    "# stim_freqs = [8, 10, 12]\n",
    "stim_freqs = [8, 10, 12]\n",
    "# Here, we select the algorithm. Can be one of ['MsetCCA', 'GCCA', 'CCA']\n",
    "decoding_algo = 'MsetCCA'\n",
    "# decoding_algo = 'GCCA'\n",
    "\n",
    "print('before setup:', gc.mem_free())\n",
    "\n",
    "runner = Runner(decoding_algo, buffer_size=Ns, stimulus_freqs=stim_freqs) # initialise a base runner\n",
    "runner.setup() # setup peripherals and memory buffers\n",
    "\n",
    "print('after import:', gc.mem_free())\n",
    "\n",
    "gc.collect()\n",
    "\n",
    "calibration_data = {}\n",
    "\n",
    "print('before second import:', gc.mem_free())\n",
    "\n",
    "import ujson as json\n",
    "from ulab import numpy as np\n",
    "\n",
    "print('after second import:', gc.mem_free())\n",
    "\n",
    "number = 1\n",
    "\n",
    "data = requests.GETRequest(\"http://192.168.0.37:5001/calib_{n}_7\".format(n=number))\n",
    "calibration_data[8] = np.array(json.loads(data)['7'])\n",
    "\n",
    "gc.collect()\n",
    "\n",
    "data = requests.GETRequest(\"http://192.168.0.37:5001/calib_{n}_10\".format(n=number))\n",
    "calibration_data[10] = np.array(json.loads(data)['10'])\n",
    "\n",
    "gc.collect()\n",
    "\n",
    "data = requests.GETRequest(\"http://192.168.0.37:5001/calib_{n}_12\".format(n=number))\n",
    "calibration_data[12] = np.array(json.loads(data)['12'])\n",
    "\n",
    "print('before delete import:', gc.mem_free())\n",
    "\n",
    "del json\n",
    "del np\n",
    "gc.collect()\n",
    "\n",
    "print('before calibration:', gc.mem_free())\n",
    "\n",
    "runner.calibrate(calibration_data)\n",
    "\n",
    "print('after calibration:', gc.mem_free())\n",
    "\n",
    "# calibration_data = #import json saved on ROM\n",
    "# runner.calibrate(calibration_data)\n",
    "gc.collect()"
   ]
  },
  {
   "cell_type": "code",
   "execution_count": 206,
   "metadata": {},
   "outputs": [
    {
     "name": "stdout",
     "output_type": "stream",
     "text": [
      "....0.6153846153846154 0.6153846153846154 0.7307692307692307\n"
     ]
    }
   ],
   "source": [
    "from ulab import numpy as np\n",
    "import ujson as json\n",
    "\n",
    "#8hz\n",
    "count8 = 0\n",
    "for count in range(26):\n",
    "    test = requests.GETRequest(\"http://192.168.0.37:5001/test_7_{n}\".format(n=number),{'count':count})\n",
    "    test = np.array(json.loads(test)['test'])\n",
    "    result = runner.decoder.classify(test)\n",
    "    if max(result, key=result.get) == 8:\n",
    "        count8+=1\n",
    "\n",
    "gc.collect()\n",
    "count10 = 0\n",
    "for count in range(26):\n",
    "    test = requests.GETRequest(\"http://192.168.0.37:5001/test_10_{n}\".format(n=number),{'count':count})\n",
    "    test = np.array(json.loads(test)['test'])\n",
    "    result = runner.decoder.classify(test)\n",
    "    if max(result, key=result.get) == 10:\n",
    "        count10+=1\n",
    "        \n",
    "gc.collect()\n",
    "count12 = 0\n",
    "for count in range(26):\n",
    "    test = requests.GETRequest(\"http://192.168.0.37:5001/test_12_{n}\".format(n=number),{'count':count})\n",
    "    test = np.array(json.loads(test)['test'])\n",
    "    result = runner.decoder.classify(test)\n",
    "    if max(result, key=result.get) == 12:\n",
    "        count12+=1\n",
    "        \n",
    "gc.collect()\n",
    "print(count8/26,count10/26,count12/26)\n",
    "# print(count8/26,count12/26)"
   ]
  },
  {
   "cell_type": "code",
   "execution_count": null,
   "metadata": {},
   "outputs": [],
   "source": []
  }
 ],
 "metadata": {
  "kernelspec": {
   "display_name": "MicroPython - USB",
   "language": "micropython",
   "name": "micropython"
  },
  "language_info": {
   "codemirror_mode": "python",
   "file_extension": ".py",
   "mimetype": "text/python",
   "name": "micropython"
  }
 },
 "nbformat": 4,
 "nbformat_minor": 4
}
