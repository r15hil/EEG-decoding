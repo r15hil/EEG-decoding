{
 "cells": [
  {
   "cell_type": "code",
   "execution_count": 99,
   "metadata": {},
   "outputs": [
    {
     "name": "stdout",
     "output_type": "stream",
     "text": [
      "\u001b[34mConnecting to --port=COM5 --baud=115200 \u001b[0m\n",
      "Traceback (most recent call last):\n",
      "  File \"main.py\", line 29, in <module>\n",
      "  File \"main.py\", line 29, in <dictcomp>\n",
      "KeyboardInterrupt: \n",
      "MicroPython 94a9b50-dirty on 2022-03-20; ESP32 module with ESP32\n",
      "Type \"help()\" for more information.\n",
      ">>> \n",
      ">>> \n",
      "raw REPL; CTRL-B to exit\n",
      ">\u001b[34mReady.\n",
      "\u001b[0m"
     ]
    }
   ],
   "source": [
    "%serialconnect to --port=\"COM5\" --baud=115200"
   ]
  },
  {
   "cell_type": "code",
   "execution_count": 100,
   "metadata": {},
   "outputs": [
    {
     "name": "stdout",
     "output_type": "stream",
     "text": [
      "connecting to network...\n",
      ".network config: ('192.168.0.88', '255.255.255.0', '192.168.0.1', '194.168.4.100')\n",
      "ADC initialised\n",
      "SPI initialised\n",
      "DigiPot set to 255 = gain of 17.57861814046062\n"
     ]
    }
   ],
   "source": [
    "from lib.runner import Runner\n",
    "from lib.utils import connect_wifi\n",
    "from lib.requests import MicroWebCli as requests\n",
    "\n",
    "ssid = 'TP-Link_AP_4C04'\n",
    "password = '63525465'\n",
    "connect_wifi(ssid, password)\n",
    "\n",
    "Nc = 1\n",
    "Ns = 50\n",
    "\n",
    "stim_freqs = [7, 10, 12]\n",
    "\n",
    "# Here, we select the algorithm. Can be one of ['MsetCCA', 'GCCA', 'CCA']\n",
    "decoding_algo = 'MsetCCA'\n",
    "\n",
    "runner = Runner(decoding_algo, buffer_size=Ns) # initialise a base runner\n",
    "runner.setup() # setup peripherals and memory buffers\n",
    "\n",
    "gc.collect()\n",
    "\n",
    "calibration_data = {}\n",
    "\n",
    "import ujson as json\n",
    "from ulab import numpy as np\n",
    "\n",
    "data = requests.GETRequest(\"http://192.168.0.37:5001/calib_1_7\")\n",
    "calibration_data[7] = np.array(json.loads(data)['7'])\n",
    "\n",
    "gc.collect()\n",
    "\n",
    "data = requests.GETRequest(\"http://192.168.0.37:5001/calib_1_10\")\n",
    "calibration_data[10] = np.array(json.loads(data)['10'])\n",
    "\n",
    "gc.collect()\n",
    "\n",
    "data = requests.GETRequest(\"http://192.168.0.37:5001/calib_1_12\")\n",
    "calibration_data[12] = np.array(json.loads(data)['12'])\n",
    "\n",
    "runner.calibrate(calibration_data)\n",
    "\n",
    "# calibration_data = #import json saved on ROM\n",
    "# runner.calibrate(calibration_data)\n",
    "gc.collect()\n",
    "    "
   ]
  },
  {
   "cell_type": "code",
   "execution_count": 110,
   "metadata": {},
   "outputs": [
    {
     "name": "stdout",
     "output_type": "stream",
     "text": [
      "{12: 0.353692236735091, 10: 0.1684230887620481, 7: 0.3213921672094082}\n"
     ]
    }
   ],
   "source": [
    "for count in range(26):\n",
    "    test = requests.GETRequest(\"http://192.168.0.37:5001/test_7_1\",{'count':count})\n",
    "    test = np.array(json.loads(test)['test'])\n",
    "    print(runner.decoder.classify(test))"
   ]
  },
  {
   "cell_type": "code",
   "execution_count": 71,
   "metadata": {},
   "outputs": [
    {
     "name": "stdout",
     "output_type": "stream",
     "text": [
      "{'7': [[-4.39086, -1.517698, -2.567706, -0.9628060000000001, -0.35166, -6.026739999999999, 5.372126, 3.1714366, -4.069384, -5.93382, -2.073244, 0.220948, -5.424259999999999, -8.522459999999999, -4.64647, -3.13742, 2.3625, 2.942354, 1.251274, -3.7493158, 2.13166, -3.8074, -0.722114, 5.58588, 4.181900000000001, 3.2131, 5.337072, -1.8962294, -3.51056, -0.09456000000000007, 4.66236, 3.95916, 0.1104499999999999, 1.886844, -0.91294, -4.27594, 4.172680000000001, 1.4868, 2.284958, 5.54468, -0.7515880000000001, -1.221656, 0.512116, 6.877660000000001, 3.130644, 3.94192, 3.900416, -5.9847, -3.2161, -0.2231540000000002], [-0.5553999999999998, -5.620659999999999, -3.380139999999999, -5.270160000000001, -4.79872, 1.59459, -2.706598000000001, 0.16388, 13.31864, 8.232339999999999, -5.060239999999999, 6.168646, 2.31429, 0.2420080000000001, -1.838674, 1.65052, -1.985932, 0.64594, 1.14461, -2.6032, 3.613, 5.77638, -5.384506, -7.10416, -5.14444, -2.44932, 5.008519999999999, 1.093496, 6.65436, -1.560442000000001, 2.9915, -2.128748, 6.461112, 6.9651, -1.1836, -7.470940000000001, -2.569926, 1.080316, 2.31392, 6.26492, 9.224, -1.347864, 3.63999, 0.118138, 3.066679999999999, 3.428234, -1.59916, -0.3127199999999999, -0.1180439999999999, -0.01746080000000001], [-1.983048, 2.2468, 2.325364, -5.759040000000001, -2.53208, 0.311886, -1.807676, 0.5447620000000001, -2.266792, -4.786216, -4.32992, 0.13134, 4.96012, 0.236696, 6.149299999999999, 4.59096, -6.550720000000001, -2.18392, 6.2979, 1.583476, 1.568268, 4.1559, -2.48494, 1.101662, -2.508036, -6.693680000000001, -1.861322, -0.9413820000000001, -6.57466, -4.72354, -0.630376, -5.12914, 1.488054, 0.495718, -0.325956, -1.541756, 2.26022, 3.5265632, 2.86494, 11.4789, 4.864339999999999, 4.7286, 7.831660000000001, 7.488820000000001, 1.2305538, -1.7852, -0.7992748000000001, -2.510428, 3.7213082, 6.97536], [-1.350834, -1.862612, -1.181062, 0.7767400000000001, -6.933539999999999, -3.621542, -5.15752, 0.517276, -1.04983, -1.413724, -6.55702, -0.8722460000000002, -5.40812, -0.3344780000000001, 2.632566, 2.3734692, -0.461816, 1.7808352, -2.743378, -6.10622, 4.775620000000001, 3.90358, -1.39218, 0.09983799999999999, 2.16226, -0.6606400000000001, -2.27138, 2.5735, -3.488, -8.003539999999999, -0.488258, -0.0805600000000001, -0.8164580000000001, 7.2797, 2.723738, -1.726979999999999, 0.231294, 3.659574, 4.053479400000001, 2.387654, 4.7971, 0.7953799999999999, 12.35486, 5.245900000000001, 0.9361988, 3.89262, 3.207812000000001, -3.82774, -4.39012, -4.6317]]}\n"
     ]
    }
   ],
   "source": [
    "import ujson as json\n",
    "print(json.loads(test))"
   ]
  },
  {
   "cell_type": "code",
   "execution_count": null,
   "metadata": {},
   "outputs": [],
   "source": []
  }
 ],
 "metadata": {
  "kernelspec": {
   "display_name": "MicroPython - USB",
   "language": "micropython",
   "name": "micropython"
  },
  "language_info": {
   "codemirror_mode": "python",
   "file_extension": ".py",
   "mimetype": "text/python",
   "name": "micropython"
  }
 },
 "nbformat": 4,
 "nbformat_minor": 4
}
