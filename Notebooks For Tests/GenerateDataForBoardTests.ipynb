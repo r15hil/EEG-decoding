{
 "cells": [
  {
   "cell_type": "code",
   "execution_count": 37,
   "metadata": {},
   "outputs": [],
   "source": [
    "def load_array_data_online(file_path):\n",
    "    data_file = open(file_path, \"r\")\n",
    "    data_file = data_file.read().split(',')            \n",
    "    values = [float(i) for i in data_file]\n",
    "    return values\n",
    "\n",
    "def average_every_n(values, size):\n",
    "    return [sum(group) / size for group in zip(*[iter(values)]*size)]\n",
    "\n",
    "blocks = [i for i in range(1,7)]\n",
    "\n",
    "data = []\n",
    "data_file_7 = []\n",
    "data_file_10 = []\n",
    "data_file_12 = []\n",
    "\n",
    "for channel in [4,8]:\n",
    "    \n",
    "    for block in blocks:\n",
    "        data_file_7 += average_every_n(load_array_data_online(r\"C:\\Users\\RISHI\\Desktop\\FYP\\EEG-decoding\\eeg_lib\\log\\mnakanishi\\8hz\\8hz_channel_0{c}_0{b}\".format(c=channel,b=block)),5)\n",
    "\n",
    "    for block in blocks:\n",
    "        data_file_10 += average_every_n(load_array_data_online(r\"C:\\Users\\RISHI\\Desktop\\FYP\\EEG-decoding\\eeg_lib\\log\\mnakanishi\\10hz\\10hz_channel_0{c}_0{b}\".format(c=channel,b=block)),5)\n",
    "\n",
    "    for block in blocks:\n",
    "        data_file_12 += average_every_n(load_array_data_online(r\"C:\\Users\\RISHI\\Desktop\\FYP\\EEG-decoding\\eeg_lib\\log\\mnakanishi\\12hz\\12hz_channel_0{c}_0{b}\".format(c=channel,b=block)),5)\n"
   ]
  },
  {
   "cell_type": "code",
   "execution_count": 38,
   "metadata": {},
   "outputs": [],
   "source": [
    "data_file_7_split = []\n",
    "data_file_10_split = []\n",
    "data_file_12_split = []\n",
    "\n",
    "train = 4\n",
    "\n",
    "for i in range(0,len(data_file_7),50):\n",
    "    data_file_7_split.append(data_file_7[i:i+50])\n",
    "    data_file_10_split.append(data_file_10[i:i+50])\n",
    "    data_file_12_split.append(data_file_12[i:i+50])\n",
    "\n",
    "# split channels POz, Oz\n",
    "data_file_7_split_1 = data_file_7_split[:30]\n",
    "data_file_7_split_2 = data_file_7_split[30:]\n",
    "data_file_10_split_1 = data_file_10_split[:30]\n",
    "data_file_10_split_2 = data_file_10_split[30:]\n",
    "data_file_12_split_1 = data_file_12_split[:30]\n",
    "data_file_12_split_2 = data_file_12_split[30:]\n",
    "\n",
    "calib_1 = {\n",
    "            7: data_file_7_split_1[:train],\n",
    "           10: data_file_10_split_1[:train],\n",
    "           12: data_file_12_split_1[:train]\n",
    "          }\n",
    "calib_2 = {\n",
    "            7: data_file_7_split_2[:train],\n",
    "           10: data_file_10_split_2[:train],\n",
    "           12: data_file_12_split_2[:train]\n",
    "          }\n",
    "test_1 = {\n",
    "            7: data_file_7_split_1[train:],\n",
    "           10: data_file_10_split_1[train:],\n",
    "           12: data_file_12_split_1[train:]\n",
    "          }\n",
    "test_2 = {\n",
    "            7: data_file_7_split_2[train:],\n",
    "           10: data_file_10_split_2[train:],\n",
    "           12: data_file_12_split_2[train:]\n",
    "          }"
   ]
  },
  {
   "cell_type": "code",
   "execution_count": 39,
   "metadata": {},
   "outputs": [],
   "source": [
    "import json\n",
    "with open('calib_1.json', 'w') as f:\n",
    "    json.dump(calib_1, f)\n",
    "with open('calib_2.json', 'w') as f:\n",
    "    json.dump(calib_2, f)\n",
    "with open('test_1.json', 'w') as f:\n",
    "    json.dump(test_1, f)\n",
    "with open('test_2.json', 'w') as f:\n",
    "    json.dump(test_2, f)\n",
    "    "
   ]
  },
  {
   "cell_type": "code",
   "execution_count": null,
   "metadata": {},
   "outputs": [],
   "source": []
  }
 ],
 "metadata": {
  "kernelspec": {
   "display_name": "Python 3",
   "language": "python",
   "name": "python3"
  },
  "language_info": {
   "codemirror_mode": {
    "name": "ipython",
    "version": 3
   },
   "file_extension": ".py",
   "mimetype": "text/x-python",
   "name": "python",
   "nbconvert_exporter": "python",
   "pygments_lexer": "ipython3",
   "version": "3.8.3"
  }
 },
 "nbformat": 4,
 "nbformat_minor": 4
}
