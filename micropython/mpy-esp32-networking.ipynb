{
 "cells": [
  {
   "cell_type": "code",
   "execution_count": 1,
   "metadata": {},
   "outputs": [
    {
     "name": "stdout",
     "output_type": "stream",
     "text": [
      "\u001b[34mConnecting to --port=/dev/tty.usbserial-0001 --baud=115200 \u001b[0m\n",
      "\u001b[34mReady.\n",
      "\u001b[0m"
     ]
    }
   ],
   "source": [
    "# %serialconnect to --port=\"/dev/tty.usbserial-02EDKZTP\" --baud=115200\n",
    "%serialconnect to --port=\"/dev/tty.usbserial-0001\" --baud=115200"
   ]
  },
  {
   "cell_type": "code",
   "execution_count": 2,
   "metadata": {},
   "outputs": [
    {
     "name": "stderr",
     "output_type": "stream",
     "text": [
      "Traceback (most recent call last):\n",
      "  File \"<stdin>\", line 3, in <module>\n",
      "TypeError: function takes 2 positional arguments but 0 were given\n"
     ]
    }
   ],
   "source": [
    "from lib.utils import connect_wifi\n",
    "\n",
    "connect_wifi()"
   ]
  },
  {
   "cell_type": "code",
   "execution_count": 3,
   "metadata": {},
   "outputs": [],
   "source": [
    "from lib.websockets import BasicServer, BasicClient\n",
    "from lib.scheduling import WsDataScheduler\n",
    "\n",
    "server = BasicServer()\n",
    "data_scheduler = WsDataScheduler(5, server)"
   ]
  },
  {
   "cell_type": "code",
   "execution_count": 4,
   "metadata": {},
   "outputs": [
    {
     "name": "stderr",
     "output_type": "stream",
     "text": [
      "Traceback (most recent call last):\n",
      "  File \"<stdin>\", line 1, in <module>\n",
      "  File \"lib/scheduling.py\", line 53, in start\n",
      "  File \"/lib/websocket/ws_server.py\", line 117, in start\n",
      "  File \"/lib/websocket/ws_server.py\", line 40, in _setup_conn\n",
      "TypeError: function takes 2 positional arguments but 0 were given\n"
     ]
    }
   ],
   "source": [
    "data_scheduler.start()"
   ]
  },
  {
   "cell_type": "code",
   "execution_count": 49,
   "metadata": {},
   "outputs": [
    {
     "name": "stdout",
     "output_type": "stream",
     "text": [
      "[leftinbuffer] [\"Client connection from: ('192.168.0.107', 59991)\"]\n",
      "[leftinbuffer] ['Closing connection.']\n",
      "[leftinbuffer] [\"Client connection from: ('192.168.0.107', 60059)\"]\n",
      "[leftinbuffer] [\"Client connection from: ('192.168.0.107', 60062)\"]\n",
      "Closing connection.\n",
      "Stopped WebSocket server.\n"
     ]
    }
   ],
   "source": [
    "data_scheduler.stop()"
   ]
  },
  {
   "cell_type": "code",
   "execution_count": 276,
   "metadata": {},
   "outputs": [],
   "source": [
    "# %fetchfile --print /websocket/ws_connection.py"
   ]
  }
 ],
 "metadata": {
  "kernelspec": {
   "display_name": "MicroPython - USB",
   "language": "micropython",
   "name": "micropython"
  },
  "language_info": {
   "codemirror_mode": "python",
   "file_extension": ".py",
   "mimetype": "text/python",
   "name": "micropython"
  }
 },
 "nbformat": 4,
 "nbformat_minor": 4
}
