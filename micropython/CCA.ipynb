{
 "cells": [
  {
   "cell_type": "code",
   "execution_count": 25,
   "metadata": {},
   "outputs": [
    {
     "name": "stdout",
     "output_type": "stream",
     "text": [
      "\u001b[34mConnecting to --port=COM5 --baud=115200 \u001b[0m\n",
      "\u001b[34mReady.\n",
      "\u001b[0m"
     ]
    }
   ],
   "source": [
    "%serialconnect to --port=\"COM5\" --baud=115200"
   ]
  },
  {
   "cell_type": "code",
   "execution_count": 24,
   "metadata": {},
   "outputs": [
    {
     "name": "stdout",
     "output_type": "stream",
     "text": [
      "connecting to network...\n",
      "network config: ('192.168.0.103', '255.255.255.0', '192.168.0.1', '194.168.4.100')\n",
      "ADC initialised\n",
      "SPI initialised\n",
      "DigiPot set to 100 = gain of 2.700681460772322\n",
      ".......ets Jul 29 2019 12:21:46\n",
      "\n",
      "rst:0x1 (POWERON_RESET),boot:0x13 (SPI_FAST_FLASH_BOOT)\n",
      "configsip: 0, SPIWP:0xee\n",
      "clk_drv:0x00,q_drv:0x00,d_drv:0x00,cs0_drv:0x00,hd_drv:0x00,wp_drv:0x00\n",
      "mode:DIO, clock div:2\n",
      "load:0x3fff0018,len:4\n",
      "load:0x3fff001c,len:4252\n",
      "load:0x40078000,len:11920\n",
      "load:0x40080400,len:3344\n",
      "entry 0x4008060c\n",
      "MicroPython 94a9b50-dirty on 2022-03-20; ESP32 module with ESP32\n",
      "Type \"help()\" for more information.\n",
      ">>>[reboot detected 0]repl is in normal command mode\n",
      "[\\r\\x03\\x03] b'\\r\\n>>> '\n",
      "[\\r\\x01] b'\\r\\n>>> \\r\\nraw REPL; CTRL-B to exit\\r\\n>' "
     ]
    }
   ],
   "source": [
    "from ulab import numpy as np\n",
    "import utime as time\n",
    "from lib.runner import Runner\n",
    "from lib.utils import connect_wifi\n",
    "from lib.requests import MicroWebCli as requests\n",
    "\n",
    "decode_period_s = 4 # decode every x seconds\n",
    "Nc = 1\n",
    "Ns = 256\n",
    "Nt = 3\n",
    "stim_freqs = [7, 10, 12]\n",
    "decoding_period_s = 4\n",
    "\n",
    "ssid = 'TP-Link_AP_4C04'\n",
    "password = '63525465'\n",
    "connect_wifi(ssid, password)\n",
    "\n",
    "\n",
    "runner = Runner('CCA', buffer_size=Ns)\n",
    "runner.setup()\n",
    "runner.run()\n",
    "\n",
    "while True:\n",
    "    time.sleep(decode_period_s)\n",
    "    toSend = {\"decoded\":runner.decode()}\n",
    "    requests.JSONRequest(\"http://192.168.0.37:5001/decoded\", toSend)"
   ]
  },
  {
   "cell_type": "code",
   "execution_count": 26,
   "metadata": {},
   "outputs": [
    {
     "name": "stdout",
     "output_type": "stream",
     "text": [
      "Sent 26 lines (580 bytes) to main.py.\n"
     ]
    }
   ],
   "source": [
    "%sendtofile main.py --source main.py"
   ]
  },
  {
   "cell_type": "code",
   "execution_count": null,
   "metadata": {},
   "outputs": [],
   "source": []
  }
 ],
 "metadata": {
  "kernelspec": {
   "display_name": "MicroPython - USB",
   "language": "micropython",
   "name": "micropython"
  },
  "language_info": {
   "codemirror_mode": "python",
   "file_extension": ".py",
   "mimetype": "text/python",
   "name": "micropython"
  }
 },
 "nbformat": 4,
 "nbformat_minor": 4
}
