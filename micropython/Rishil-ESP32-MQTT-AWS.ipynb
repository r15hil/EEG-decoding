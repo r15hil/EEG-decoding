{
 "cells": [
  {
   "cell_type": "code",
   "execution_count": 26,
   "metadata": {},
   "outputs": [
    {
     "name": "stdout",
     "output_type": "stream",
     "text": [
      "\u001b[34mConnecting to --port=/dev/tty.usbserial-0001 --baud=115200 \u001b[0m\n",
      "b\"\\x00\\xf0\\x00\\x00\\xf8@\\x00\\xf8\\xf8\\x00\\x00\\x00\\xff\\xf8\\xf1\\xfb\\xfd\\xff\\xfe\\xa9\\x0b\\xff\\xfen\\x98L&'\\xa6\\xd2\\xa2\\xd9\\r\\n\"\n",
      "b'rst\\xff1 \\xe8\\xfd\\xeb%UM\\xffW\\x89I\\xbd\\xbd\\xd1\\xe90x13 (SPI_FAST_FLASH_BOOT)\\r\\n'configsip: 0, SPIWP:0xee\n",
      "clk_drv:0x00,q_drv:0x00,d_drv:0x00,cs0_drv:0x00,hd_drv:0x00,wp_drv:0x00\n",
      "mode:DIO, clock div:2\n",
      "load:0x3fff0018,len:4\n",
      "load:0x3fff001c,len:4252\n",
      "load:0x40078000,len:11920\n",
      "b'load:0x4008040\\xf0K\\xab\\xb9\\xe93344\\r\\n'entry 0x4008060c\n",
      "\u001b[31m[Timed out waiting for recognizable response]\n",
      "\u001b[0m\u001b[31mDisconnecting [paste mode not working]\n",
      "\u001b[0m\u001b[34m  (You may need to reset the device)\u001b[0m"
     ]
    }
   ],
   "source": [
    "%serialconnect to --port=\"/dev/tty.usbserial-0001\" --baud=115200\n",
    "print(1)\n",
    "print(gc.mem_free())"
   ]
  },
  {
   "cell_type": "markdown",
   "metadata": {},
   "source": [
    "# Connect to WiFi"
   ]
  },
  {
   "cell_type": "code",
   "execution_count": 2,
   "metadata": {},
   "outputs": [
    {
     "name": "stdout",
     "output_type": "stream",
     "text": [
      "network config: ('192.168.0.22', '255.255.255.0', '192.168.0.1', '194.168.4.100')\r\n"
     ]
    }
   ],
   "source": [
    "from lib.utils import connect_wifi, load_env_vars\n",
    "\n",
    "env_vars = load_env_vars(\"lib/.env\")\n",
    "# connect WiFI\n",
    "ssid = env_vars.get(\"WIFI_SSID\")\n",
    "password = env_vars.get(\"WIFI_PASSWORD\")\n",
    "connect_wifi(ssid, password)"
   ]
  },
  {
   "cell_type": "code",
   "execution_count": 17,
   "metadata": {},
   "outputs": [
    {
     "name": "stdout",
     "output_type": "stream",
     "text": [
      "Sent 1224 bytes in 41 chunks to ESP32.cert.pem.\n"
     ]
    }
   ],
   "source": [
    "%sendtofile --source /Users/rishil/Desktop/FYP/connect_device_package/ESP32.cert.pem ESP32.cert.pem --binary"
   ]
  },
  {
   "cell_type": "code",
   "execution_count": 18,
   "metadata": {},
   "outputs": [
    {
     "name": "stdout",
     "output_type": "stream",
     "text": [
      "Sent 1675 bytes in 56 chunks to ESP32.private.key.\n"
     ]
    }
   ],
   "source": [
    "%sendtofile --source /Users/rishil/Desktop/FYP/connect_device_package/ESP32.private.key ESP32.private.key --binary"
   ]
  },
  {
   "cell_type": "code",
   "execution_count": 22,
   "metadata": {},
   "outputs": [
    {
     "name": "stdout",
     "output_type": "stream",
     "text": [
      "Sent 207 lines (6445 bytes) to lib/newumqtt.py.\n"
     ]
    }
   ],
   "source": [
    "%sendtofile --source /Users/rishil/Desktop/FYP/EEG-decoding/micropython/lib/newumqtt.py lib/newumqtt.py"
   ]
  },
  {
   "cell_type": "markdown",
   "metadata": {},
   "source": [
    "# Initialise MQTT Client using AWS certs\n",
    "    def __init__(\n",
    "        self,\n",
    "        client_id,\n",
    "        server,\n",
    "        port=0,\n",
    "        user=None,\n",
    "        password=None,\n",
    "        keepalive=0,\n",
    "        ssl=False,\n",
    "        ssl_params={},\n",
    "    ):"
   ]
  },
  {
   "cell_type": "code",
   "execution_count": 23,
   "metadata": {},
   "outputs": [],
   "source": [
    "# python aws-iot-device-sdk-python/samples/basicPubSub/basicPubSub.py\n",
    "# -e a2hzayooigwm6j-ats.iot.eu-west-2.amazonaws.com \n",
    "# -r root-CA.crt -c ESP32.cert.pem -k ESP32.private.key\n",
    "\n",
    "from lib.newumqtt import MQTTClient\n",
    "from lib.networking import setup_mqtt_client\n",
    "\n",
    "with open(\"ESP32.private.key\", 'r') as f:\n",
    "    key = f.read()\n",
    "\n",
    "with open(\"ESP32.cert.pem\", 'r') as f:\n",
    "    cert = f.read()\n",
    "\n",
    "client = MQTTClient(client_id=\"rishil\",\n",
    "                    server = \"a2hzayooigwm6j-ats.iot.eu-west-2.amazonaws.com\",\n",
    "                    port=1883,\n",
    "                    keepalive=4000,\n",
    "                    ssl=True,\n",
    "                    ssl_params={\"key\":key, \"cert\":cert, \"server_side\":False}\n",
    "                    )"
   ]
  },
  {
   "cell_type": "code",
   "execution_count": 24,
   "metadata": {},
   "outputs": [
    {
     "name": "stdout",
     "output_type": "stream",
     "text": [
      "..."
     ]
    },
    {
     "name": "stderr",
     "output_type": "stream",
     "text": [
      "Traceback (most recent call last):\n",
      "  File \"<stdin>\", line 1, in <module>\n",
      "  File \"lib/newumqtt.py\", line 61, in connect\n",
      "OSError: [Errno 113] ECONNABORTED\n"
     ]
    }
   ],
   "source": [
    "client.connect()"
   ]
  },
  {
   "cell_type": "code",
   "execution_count": null,
   "metadata": {},
   "outputs": [],
   "source": []
  }
 ],
 "metadata": {
  "kernelspec": {
   "display_name": "MicroPython - USB",
   "language": "micropython",
   "name": "micropython"
  },
  "language_info": {
   "codemirror_mode": "python",
   "file_extension": ".py",
   "mimetype": "text/python",
   "name": "micropython"
  }
 },
 "nbformat": 4,
 "nbformat_minor": 4
}
