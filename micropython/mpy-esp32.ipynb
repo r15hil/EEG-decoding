{
 "cells": [
  {
   "cell_type": "markdown",
   "metadata": {},
   "source": [
    "## MicroPython ESP32 Experimentation"
   ]
  },
  {
   "cell_type": "markdown",
   "metadata": {},
   "source": [
    "### Establishing connection to target board\n",
    "First, make sure you've got the right serial port. On unix-based systems, you can run `ls /dev/tty.*` to see your available serial devices. Replace as necessary below.\n",
    "\n",
    "This will allow Jupyter (your host computer) to run commands and send/receive information to/from your target board in real time using the MicroPython REPL."
   ]
  },
  {
   "cell_type": "code",
   "execution_count": 22,
   "metadata": {},
   "outputs": [
    {
     "name": "stdout",
     "output_type": "stream",
     "text": [
      "[leftinbuffer] ['ets Jul 29 2019 12:21:46']\n",
      "[leftinbuffer] ['rst:0x1 (POWERON_RESET),boot:0x13 (SPI_FAST_FLASH_BOOT)']\n",
      "[leftinbuffer] ['configsip: 0, SPIWP:0xee']\n",
      "[leftinbuffer] ['clk_drv:0x00,q_drv:0x00,d_drv:0x00,cs0_drv:0x00,hd_drv:0x00,wp_drv:0x00']\n",
      "[leftinbuffer] ['mode:DIO, clock div:2']\n",
      "[leftinbuffer] ['load:0x3fff0018,len:4']\n",
      "[leftinbuffer] ['load:0x3fff001c,len:5204']\n",
      "[leftinbuffer] ['load:0x40078000,len:12136']\n",
      "[leftinbuffer] ['load:0x40080400,len:3496']\n",
      "[leftinbuffer] ['entry 0x4008063c']\n",
      "[leftinbuffer] ['ADC initialised']\n",
      "[leftinbuffer] ['SPI initialised']\n",
      "[leftinbuffer] ['DigiPot set to 100 = gain of 10.62498']\n",
      "[leftinbuffer] ['connecting to network...']\n",
      "\u001b[34mConnecting to --port=/dev/tty.usbserial-0001 --baud=115200 \u001b[0m\n",
      "\u001b[34mReady.\n",
      "\u001b[0m"
     ]
    }
   ],
   "source": [
    "#%serialconnect to --port=\"/dev/tty.usbserial-02U1W54L\" --baud=115200\n",
    "# %serialconnect to --port=\"/dev/tty.usbserial-0001\" --baud=115200\n",
    "%serialconnect to --port=\"/dev/tty.usbserial-0001\" --baud=115200"
   ]
  },
  {
   "cell_type": "code",
   "execution_count": 23,
   "metadata": {},
   "outputs": [
    {
     "name": "stdout",
     "output_type": "stream",
     "text": [
      "1\r\n"
     ]
    }
   ],
   "source": [
    "print(1)"
   ]
  },
  {
   "cell_type": "code",
   "execution_count": 20,
   "metadata": {},
   "outputs": [
    {
     "name": "stdout",
     "output_type": "stream",
     "text": [
      "b'M\\x05\\x02\\x1f \\x90<\\x18~\\x00\\x07\\x14mqtt_as.py\\x80\\x07((H)0H)9Y)00H)P\\x88\\x07TTK***j e \".%%\\'\\'&$%&$%%%%&\\'&%h n \\x85\\x07\\x85\\x07\\x9be\\x00\\x80Q\\x1b'"
     ]
    },
    {
     "name": "stderr",
     "output_type": "stream",
     "text": [
      "b'gc\\x16\\x01\\x80Q\\x1b\\x0eusocket\\x16\\x0csocket\\x80Q\\x1b\\x0eustruct\\x16\\x0cstruct\\x11\\t\\x14\\x0ecollect6\\x00Y\\x80\\x10\\x0ehexlify*\\x01\\x1b\\x12ubinascii\\x1c\\x03\\x16\\x01Y\\x80Q\\x1b\\x10uasyncio\\x16\\x0easyncio\\x11\\x0b\\x14\\x0b6\\x00Y\\x80\\x10\\x10ticks_ms\\x10\\x14ticks_diff*\\x02\\x1b\\r\\n'b'utime\\x1c\\x05\\x16\\x01\\x1c\\x05\\x16\\x01Y\\x80\\x10\\x16EINPROGRESS\\x10\\x12ETIMEDOUT*\\x02\\x1b\\x0cuerrno\\x1c\\x05\\x16\\x01\\x1c\\x05\\x16\\x01Y\\x11\\x0f\\x14\\x0f6\\x00Y\\x80\\x10\\x00H*\\x01\\x1b\\x00s\\x1c\\x00H\\x16\\x00HY\\x80\\x10\\x12unique_id*\\x01\\x1b\\x0emachine\\x1c\\x03\\x16\\x01Y\\x80Q\\x1b\\x0enetwork\\x16\\x01\\x11\\t\\x14\\t6\\x00Y\\x80\\x10\\x10platform*\\x01\\x1b\\x06sys\\x1c\\x03\\x16\\x01Y\\x80\\x86\\x81*\\x03\\x16\\x0eVERSION\\x11\\x03\\x10\\r\\n'b'esp32\\xd9C\\r\\n'b'\\x80\\x11\\x03\\x10\\x14esp32_LoBo\\xd9D\\x14\\x80\\x11\\x17\\x11\\x17\"\\x80v\"\\x80w+'b'\\x16\\x16BUSY_ERRORSB\\x0b\\x80\\x11\\x05\\x11\\x05+\\x02\\x16\\x05\\x11\\t\\x10\\x0eesp8266\\xd9\\x16\\x0eESP8266\\x11\\x05\\x10\\x0f\\xd9\\x16\\r\\n'b'ESP32\\x11\\x05\\x10\\x0epyboard\\xd9\\x16\\x0ePYBOARD\\x11\\x05\\x10\\x15\\xd9\\x16\\x08LOBO2\\x03\\x16\\r\\n'b'eliza,\\x13\\x115\\x11\\'4\\x004\\x01\\x10\\x12client_idbQ\\x10\\x0cserverb\\x80\\x10\\x08portb\\x10\\x00\\x01\\x10\\x08userb\\x10\\x00\\x01\\x10\\x10passwordb\"<\\x10\\x12keepaliveb\\x80#\\x00bP\\x10\\x06sslb,\\x00\\x10\\x14ssl_paramsb\\x8a#\\x01bR\\x10\\x14clean_initbR\\x10\\r\\n'b'cleanb\\x84\\x10\\x14max_repubsbQ\\x10\\x08willb2'b'\\x10\\x0esubs_cbb\\x11\\x1f\\x10\\x12wifi_corob\\x11\\x03#\\x02bQ\\x10\\x08ssidbQ\\x10\\x0ewifi_pwb\\x16\\x0cconfigT2\\x05\\x10\\x1aMQTTException\\x11\\x00$4\\x03\\x16\\x012\\x06\\x16\\x0epid_gen2\\x07\\x16\\x12qos_checkT2\\x08\\x10\\x12MQTT_base4\\x02\\x16\\x01T2\\t\\x10\\x14MQTTClient\\x11\\x034\\x03\\x16\\x03Qc\\x03\\x07s\\rping_intervals\\rresponse_times\\x0cconnect_corol\\x98\\xc0\\x80@\\x0e\\x11\\x14mqtt_as.py\\x800\\x00\\x12\\x0easyncio\\x14\\x10sleep_ms\\x946\\x01^QhYQc\\x00\\x008\\x88\\x80\\x80@\\x0e\\x10<lambda'"
     ]
    },
    {
     "name": "stdout",
     "output_type": "stream",
     "text": [
      "[too many x04s 3]"
     ]
    }
   ],
   "source": [
    "f = open(\"lib/mqtt_as.mpy\", \"r\")\n",
    "print(f.read())"
   ]
  },
  {
   "cell_type": "code",
   "execution_count": 15,
   "metadata": {},
   "outputs": [
    {
     "name": "stdout",
     "output_type": "stream",
     "text": [
      "Listing directory 'lib'.\n",
      "       27    lib/__init__.mpy\n",
      "     1554    lib/computation.mpy\n",
      "      558    lib/config.mpy\n",
      "      446    lib/config.py\n",
      "     2041    lib/core.mpy\n",
      "     5217    lib/core.py\n",
      "      796    lib/decoding.mpy\n",
      "     5224    lib/decoding.py\n",
      "      855    lib/diagnostics.py\n",
      "     3503    lib/logging.py\n",
      "     8703    lib/mqtt_as.mpy\n",
      "      790    lib/networking.mpy\n",
      "     2654    lib/peripherals.mpy\n",
      "     5697    lib/peripherals.py\n",
      "    27736    lib/requests.py\n",
      "     7664    lib/runner.py\n",
      "     1016    lib/scheduling.mpy\n",
      "      780    lib/signal.mpy\n",
      "     2067    lib/signal.py\n",
      "     2601    lib/umqtt.mpy\n",
      "      614    lib/utils.mpy\n",
      "      641    lib/websockets.mpy\n",
      "        0    lib/websockets.py\n"
     ]
    }
   ],
   "source": [
    "%ls lib"
   ]
  },
  {
   "cell_type": "code",
   "execution_count": 6,
   "metadata": {},
   "outputs": [],
   "source": [
    "from lib.decoding import CCA"
   ]
  },
  {
   "cell_type": "markdown",
   "metadata": {},
   "source": [
    "### Using a Runner for experimentation and logging\n",
    "The a `Runner` is encapsulates the core functions in this EEG system, including peripheral setup, sampling, signal processing, logging and memory management. The `OnlineRunner` offers mostly the same functionality as the standard `Runner` class, except it allows for logging and other communication with a remote server - either on the Internet or on your local network.\n",
    "\n",
    "#### Offline functionality\n",
    "The standard `Runner` is good for testing core functionality without the need for remote logging. See below for initialisation and execution."
   ]
  },
  {
   "cell_type": "code",
   "execution_count": 7,
   "metadata": {},
   "outputs": [
    {
     "name": "stderr",
     "output_type": "stream",
     "text": [
      "Traceback (most recent call last):\n",
      "  File \"<stdin>\", line 1, in <module>\n",
      "  File \"lib/runner.py\", line 3, in <module>\n",
      "  File \"/lib/logging.py\", line 3, in <module>\n",
      "ImportError: can't import name Enum\n"
     ]
    }
   ],
   "source": [
    "from lib.runner import OnlineRunner, Runner\n",
    "\n",
    "runner = Runner() # initialise a base runner\n",
    "runner.setup() # setup peripherals and memory buffers"
   ]
  },
  {
   "cell_type": "code",
   "execution_count": 8,
   "metadata": {},
   "outputs": [
    {
     "name": "stdout",
     "output_type": "stream",
     "text": [
      "Listing directory '/'.\n",
      "     3116    .env\n",
      "      139    boot.py\n",
      "             lib/\n",
      "      935    main.py\n"
     ]
    }
   ],
   "source": [
    "%ls"
   ]
  },
  {
   "cell_type": "code",
   "execution_count": 9,
   "metadata": {},
   "outputs": [],
   "source": [
    "# start sampling and recording data (logging not setup in this case)\n",
    "runner.run()"
   ]
  },
  {
   "cell_type": "code",
   "execution_count": 10,
   "metadata": {},
   "outputs": [
    {
     "name": "stdout",
     "output_type": "stream",
     "text": [
      "True\r\n"
     ]
    }
   ],
   "source": [
    "# see if runner has indeed started smapling\n",
    "print(runner.is_sampling)"
   ]
  },
  {
   "cell_type": "code",
   "execution_count": 11,
   "metadata": {},
   "outputs": [
    {
     "name": "stdout",
     "output_type": "stream",
     "text": [
      "[0.0001600515, 0.007582802, 0.02822313, 0.02915771, 0.0001562182, -0.06036134, 0.687632, 0.9625039, -1.025042, 0.4113156, 1.622201, -1.053941, 0.7273954, 0.3237757, -0.3692241, 0.247937, -0.3078198, 1.846131, -0.5046048, -0.5835482, -1.368692, -0.7934188, -0.4969006, -2.495426, 2.621812, -1.133321, -0.9720184, 2.158346, 0.7377352, 1.725158, 0.1642913, 2.153648, 1.427382, 0.488882, 1.638488, 2.636983, 0.8147614, -1.900868, -2.795319, -2.297517, 0.2907719, -2.187308, 0.1086085, 1.455247, 0.9986972, 0.8706482, -0.9135386, 0.7638201, -1.325991, -0.7266145, 0.3564251, 0.7960909, -1.280794, -1.604041, 0.4645929, 0.1824426, 2.827936, 0.2815713, -0.5537924, -2.87944, -1.448964, 2.176858, -1.737326, -0.1661005, -0.0002127058, 0.000583742, 0.1568499, 0.875835, 1.562145, -0.2272514, -3.231179, -1.962132, -0.4078159, -2.71899, -1.411424, 1.031963, -0.745136, -1.701051, 0.4152023, 0.9197978, -1.024867, 1.452942, 2.589239, 0.561836, 1.166688, 1.613214, 2.230474, 2.197607, 1.575117, -0.3977624, 0.3213105, 0.8707554, -1.471322, 1.188049, 0.3637891, -0.3844931, 2.249645, 1.675606, 2.384588, 1.506016, 0.02191369, 0.3369787, 0.4659292, 0.791442, -0.1030101, -0.8229635, 2.043296, 1.39887, -2.586966, -1.68238, -2.091428, -2.314339, -0.8273722, 0.2007112, -0.6774824, -1.475328, 0.1822334, -0.4550045, -0.1596836, -2.021212, -1.651821, 0.8569094, -0.4615771, 0.04101625, 2.202794, 0.5892627, -2.615874, -0.7470898, -0.0002204268, -0.0277542, -0.3547734, -1.160436, -1.253814, -0.1704633, 1.436054, 2.176321, -0.7660266, -2.412991, -0.1183966, 0.8322079, -0.486531, -1.546512, 1.304451, -0.5713056, -3.351661, 0.7994138, -1.455048, -3.861975, -0.5251584, 0.2027942, -0.3248534, 0.3380491, 0.08575392, 1.063235, 0.957748, 0.6428389, 3.677613, 1.296985, 0.444251, -1.038845, -2.151978, 0.3388827, -3.736097, -1.767038, 2.087364, 2.303011, 1.804125, -0.03645731, -0.6121137, -1.928885, 0.432597, 2.198858, 0.8406559, -0.8872541, -1.033443, -0.9900539, -0.8869925, -1.238079, -4.828938, -1.312541, 1.431946, -3.63744, -1.149855, 1.993548, -0.6162991, 1.386542, 3.460717, 2.322833, 0.9827289, 1.557882, 1.658181, 1.736067, 0.001621842, 0.1118561, 0.5543337, 0.6989357, 0.7259965, 0.6763868, -2.361201, -1.337238, 3.839886, 1.017113, 0.1385758, 1.53, -0.1957232, 1.176845, 2.264683, 2.888049, 0.992902, 1.238823, 1.311694, -1.535508, -2.817793, -0.03790367, 4.171084, -1.477974, -0.6323123, 0.4864406, -0.3697902, 2.95564, -2.258468, 1.167265, -0.09197289, -2.352203, 3.488432, -0.4340133, 0.1508832, 0.3907935, -0.9074212, 0.2680912, -0.7698446, -0.184689, -1.207779, -0.1039953, -0.004355401, -1.743507, -1.052504, -2.105717, -2.623005, -1.023552, -0.05235953, -0.03052023, 0.2299548, -0.4774674, -2.407192, -2.164236, 0.8848276, 1.015252, -0.6016779, 1.350802, 0.2403825, -3.312379, -3.286264, -0.5929426, 0.6141055, 0.2722571]\r\n"
     ]
    }
   ],
   "source": [
    "# display the contents of the output buffer - this will be updated internally by the runner\n",
    "# at a rate determined by the sampling frequency and sample buffer size (typically every 1s)\n",
    "\n",
    "print(runner.output_buffer)"
   ]
  },
  {
   "cell_type": "code",
   "execution_count": 12,
   "metadata": {},
   "outputs": [
    {
     "name": "stdout",
     "output_type": "stream",
     "text": [
      "{12: 0.13925, 10: 0.09147, 7: 0.14767}\r\n"
     ]
    }
   ],
   "source": [
    "# decode the contents of the output buffer. This will return a dictionary whose keys are the\n",
    "# candidate SSVEP stimulus frequencies and the values, their corresponding output correlation\n",
    "# estimate\n",
    "\n",
    "print(runner.decode())"
   ]
  },
  {
   "cell_type": "code",
   "execution_count": 15,
   "metadata": {},
   "outputs": [],
   "source": [
    "# stop runner\n",
    "runner.stop()"
   ]
  },
  {
   "cell_type": "markdown",
   "metadata": {},
   "source": [
    "#### Simple decoding loop\n",
    "In order to test online decoding, here is a basic synchronous loop-based option. Interrupt the cell to stop the infinite loop."
   ]
  },
  {
   "cell_type": "code",
   "execution_count": 14,
   "metadata": {},
   "outputs": [
    {
     "name": "stdout",
     "output_type": "stream",
     "text": [
      "ADC initialised\n",
      "SPI initialised\n",
      "DigiPot set to 100 = gain of 10.62498\n",
      "{12: 0.08785, 10: 0.22246, 7: 0.11151}\n",
      ".{12: 0.11553, 10: 0.1051, 7: 0.24522}\n",
      "{12: 0.13845, 10: 0.13093, 7: 0.12611}\n",
      ".{12: 0.13188, 10: 0.09149, 7: 0.16109}\n",
      "{12: 0.10517, 10: 0.11528, 7: 0.07158}\n",
      "\u001b[34m\n",
      "\n",
      "*** Sending Ctrl-C\n",
      "\n",
      "\u001b[0mreceived SIGINT - stopping\n"
     ]
    }
   ],
   "source": [
    "import utime as time\n",
    "from lib.runner import Runner\n",
    "\n",
    "decode_period_s = 2 # decode every x seconds\n",
    "\n",
    "runner = Runner() # initialise a base runner\n",
    "runner.setup()\n",
    "\n",
    "runner.run() # start sampling\n",
    "\n",
    "try:\n",
    "    while True:\n",
    "        time.sleep(decode_period_s)\n",
    "        print(runner.decode())\n",
    "except KeyboardInterrupt:\n",
    "    print('received SIGINT - stopping')"
   ]
  },
  {
   "cell_type": "markdown",
   "metadata": {},
   "source": [
    "### Testing your WiFi connection\n",
    "In order to connect to a local WiFi network, you'll need to supply your network SSID and password in a `.env` file on the board. Doing this is easy: \n",
    "1. On your computer, create a `.env` file using `touch .env`. Update the `.env` file with the required fields:\n",
    "    \n",
    "    ```bash\n",
    "    #.env \n",
    "    WIFI_SSID=<your network name>\n",
    "    WIFI_PASSWORD=<your network password>\n",
    "    \n",
    "    ```\n",
    "    \n",
    "2. Send this file to your target device using the following command:\n",
    "    ```ipython\n",
    "%sendtofile --source lib/.env lib/.env  --binary\n",
    "```\n",
    "\n",
    "You may need to update the local (source) path to your `.env` file depending on where you created/stored it."
   ]
  },
  {
   "cell_type": "code",
   "execution_count": 24,
   "metadata": {},
   "outputs": [
    {
     "name": "stdout",
     "output_type": "stream",
     "text": [
      "Sent 55 bytes in 2 chunks to lib/.env.\n"
     ]
    }
   ],
   "source": [
    "%sendtofile --source /Users/rishil/Desktop/.env lib/.env  --binary"
   ]
  },
  {
   "cell_type": "code",
   "execution_count": 32,
   "metadata": {},
   "outputs": [
    {
     "name": "stdout",
     "output_type": "stream",
     "text": [
      "connecting to network...\n",
      "network config: ('192.168.0.22', '255.255.255.0', '192.168.0.1', '194.168.4.100')\n"
     ]
    }
   ],
   "source": [
    "from lib.utils import connect_wifi, load_env_vars\n",
    "\n",
    "env_vars = load_env_vars(\"lib/.env\")\n",
    "# connect WiFI\n",
    "ssid = env_vars.get(\"WIFI_SSID\")\n",
    "password = env_vars.get(\"WIFI_PASSWORD\")\n",
    "connect_wifi(ssid, password)"
   ]
  },
  {
   "cell_type": "markdown",
   "metadata": {},
   "source": [
    "#### Online Runner\n",
    "Now that you've established network connectivitiy, you can test out an `OnlineRunner`. In order to test web logging to a remote server, we can use a basic HTTP logger. However, this obviously needs an API/server willing to accept our requests. There is a basic logging API using `Flask` in `/eeg_lib/logging_server.py`. You can run it using `python logging_server.py` which will spin up a development server on the predefined port (5000 or 5001). Then, just configure your `OnlineRunner` with the appropriate logger params and you're set."
   ]
  },
  {
   "cell_type": "code",
   "execution_count": 33,
   "metadata": {},
   "outputs": [
    {
     "name": "stdout",
     "output_type": "stream",
     "text": [
      "ADC initialised\n",
      "SPI initialised\n",
      "DigiPot set to 100 = gain of 10.62498\n",
      "network config: ('192.168.0.22', '255.255.255.0', '192.168.0.1', '194.168.4.100')\n"
     ]
    }
   ],
   "source": [
    "from lib.runner import OnlineRunner\n",
    "from lib.logging import logger_types\n",
    "\n",
    "api_host = \"http://192.168.0.13:5001/\" # make sure the port corresponds to your logging server configuration\n",
    "log_params = dict(server=api_host, log_period=4, logger_type=logger_types.HTTP, send_raw=True, session_id='webrepl')\n",
    "\n",
    "runner = OnlineRunner()\n",
    "runner.setup(**log_params)"
   ]
  },
  {
   "cell_type": "code",
   "execution_count": 34,
   "metadata": {},
   "outputs": [],
   "source": [
    "# start the runner - you should see requests being made to your local server\n",
    "runner.run()"
   ]
  },
  {
   "cell_type": "code",
   "execution_count": 35,
   "metadata": {},
   "outputs": [
    {
     "name": "stdout",
     "output_type": "stream",
     "text": [
      "[leftinbuffer] ['Traceback (most recent call last):']\n",
      "[leftinbuffer] ['  File \"lib/runner.py\", line 95, in decode']\n",
      "[leftinbuffer] ['  File \"lib/decoding.py\", line 20, in compute_corr']\n",
      "[leftinbuffer] ['  File \"lib/decoding.py\", line 57, in harmonic_reference']\n",
      "[leftinbuffer] ['MemoryError: memory allocation failed, allocating 4096 bytes']\n"
     ]
    }
   ],
   "source": [
    "runner.stop()"
   ]
  },
  {
   "cell_type": "code",
   "execution_count": null,
   "metadata": {},
   "outputs": [],
   "source": []
  },
  {
   "cell_type": "markdown",
   "metadata": {},
   "source": [
    "## Experimentation"
   ]
  },
  {
   "cell_type": "code",
   "execution_count": 16,
   "metadata": {},
   "outputs": [],
   "source": [
    "import urandom\n",
    "\n",
    "def synth_x(f, Ns, noise_power=0.5, fs=250):\n",
    "    \"\"\"\n",
    "    generate a synthetic signal vector\n",
    "    \n",
    "    args:\n",
    "    Ns [int]: number of samples (time samples)\n",
    "    noise_power [float]: variance of WGN noise distribution\n",
    "    \"\"\"\n",
    "    t = np.arange(0, Ns/fs, 1/fs)\n",
    "    return np.sin(t*2*np.pi*f)*(1+urandom.random()*noise_power)\n",
    "\n",
    "def synth_X(f, Nc, Ns, noise_power=0.5, fs=200, f_std=0.02):\n",
    "    \"\"\"\n",
    "    Generate a matrix of several variations of the same target signal. This is used\n",
    "    to simulate the measurement of a common signal over multiple EEG channels \n",
    "    that have different SNR characteristics.\n",
    "    \n",
    "    args:\n",
    "    f [float]: target frequency of synthetic signal (Hz)\n",
    "    Nc [int]: number of channels\n",
    "    Ns [int]: number of samples (time samples)\n",
    "    noise_power [float]: variance of WGN noise distribution\n",
    "    fs [float]: sampling frequency (Hz)\n",
    "    f_std [float]: standard dev. of freq. in generated signal across channels to simulate interference from other frequency components over different channels\n",
    "    \"\"\"\n",
    "    X = []\n",
    "    for i in range(Nc): # simulate noisy sinusoids with varying SNR across Nc channels\n",
    "        f_i = f*(1+urandom.random()*f_std)\n",
    "        x = synth_x(f_i, Ns, noise_power=noise_power)\n",
    "\n",
    "        X.append(x)\n",
    "        \n",
    "    return np.array(X)"
   ]
  },
  {
   "cell_type": "code",
   "execution_count": 23,
   "metadata": {},
   "outputs": [
    {
     "name": "stdout",
     "output_type": "stream",
     "text": [
      "{12: 0.09335411, 10: 0.1326894, 7: 0.5633128}\r\n"
     ]
    }
   ],
   "source": [
    "from lib.decoding import harmonic_reference, CCA\n",
    "from lib.computation import solve_gen_eig_prob\n",
    "from ulab import numpy as np\n",
    "\n",
    "gc.collect()\n",
    "\n",
    "f0 = 7\n",
    "stim_freqs = [7, 10, 12]\n",
    "fs = 200\n",
    "\n",
    "# generate a synthetic noisy signal at 7Hz over 2 channels with 100 samples\n",
    "X_test = synth_X(7, 2, 100)\n",
    "\n",
    "cca = CCA(stim_freqs, fs)\n",
    "\n",
    "print({f: vals[0] for f, vals in cca.compute_corr(X_test).items()})\n"
   ]
  },
  {
   "cell_type": "code",
   "execution_count": 18,
   "metadata": {},
   "outputs": [],
   "source": [
    "from lib.decoding import harmonic_reference\n",
    "\n",
    "X = X_test\n",
    "Y = harmonic_reference(7, 200, np.max(X_test.shape), Nh=2, standardise_out=True)"
   ]
  },
  {
   "cell_type": "code",
   "execution_count": 19,
   "metadata": {},
   "outputs": [],
   "source": [
    "from lib.decoding import harmonic_reference\n",
    "from lib.computation import max_eig\n",
    "\n",
    "X = X_test\n",
    "Y = harmonic_reference(7, 200, np.max(X_test.shape), Nh=2, standardise_out=True)\n",
    "\n",
    "Cxx = np.dot(X, X.transpose()) # auto correlation matrix\n",
    "Cyy = np.dot(Y, Y.transpose()) \n",
    "Cxy = np.dot(X, Y.transpose()) # cross correlation matrix\n",
    "Cyx = np.dot(Y, X.transpose()) # same as Cxy.T\n",
    "\n",
    "M1 = np.dot(np.linalg.inv(Cxx), Cxy) # intermediate result\n",
    "M2 = np.dot(np.linalg.inv(Cyy), Cyx)\n",
    "\n",
    "lam, _ = max_eig(np.dot(M1, M2), 20)"
   ]
  },
  {
   "cell_type": "code",
   "execution_count": 20,
   "metadata": {},
   "outputs": [
    {
     "name": "stdout",
     "output_type": "stream",
     "text": [
      "0.3366819\r\n"
     ]
    }
   ],
   "source": [
    "print(lam)"
   ]
  },
  {
   "cell_type": "code",
   "execution_count": 21,
   "metadata": {},
   "outputs": [],
   "source": [
    "def zeros_like(A):\n",
    "    return np.zeros(A.shape)\n",
    "\n",
    "def block_diag(X, Y, reverse=False):\n",
    "    if not reverse:\n",
    "        X = np.concatenate((X, zeros_like(X)), axis=1)\n",
    "        Y = np.concatenate((zeros_like(Y), Y), axis=1)\n",
    "    else:\n",
    "        X = np.concatenate((zeros_like(X), X), axis=1)\n",
    "        Y = np.concatenate((Y, zeros_like(Y)), axis=1)\n",
    "    return np.concatenate((X, Y), axis=0)"
   ]
  },
  {
   "cell_type": "code",
   "execution_count": 52,
   "metadata": {},
   "outputs": [
    {
     "name": "stdout",
     "output_type": "stream",
     "text": [
      "Listing directory 'lib'.\n",
      "       53    lib/.env\n",
      "        0    lib/__init__.py\n",
      "             lib/__pycache__/\n",
      "     4006    lib/computation.py\n",
      "      446    lib/config.py\n",
      "     2323    lib/decoding.py\n",
      "      855    lib/diagnostics.py\n",
      "     3503    lib/logging.py\n",
      "     1254    lib/networking.py\n",
      "     5697    lib/peripherals.py\n",
      "    27364    lib/requests.py\n",
      "     7664    lib/runner.py\n",
      "     1911    lib/scheduling.py\n",
      "     2067    lib/signal.py\n",
      "     6570    lib/umqtt.py\n",
      "     1691    lib/utils.py\n",
      "             lib/websocket/\n",
      "      976    lib/websockets.py\n"
     ]
    }
   ],
   "source": [
    "%ls --recursive lib"
   ]
  },
  {
   "cell_type": "code",
   "execution_count": 56,
   "metadata": {},
   "outputs": [],
   "source": [
    "%sendtofile --source lib/.env .env  --binary"
   ]
  },
  {
   "cell_type": "code",
   "execution_count": 55,
   "metadata": {},
   "outputs": [
    {
     "name": "stdout",
     "output_type": "stream",
     "text": [
      "Sent 233 lines (7664 bytes) to lib/runner.py.\n"
     ]
    },
    {
     "name": "stderr",
     "output_type": "stream",
     "text": [
      "Traceback (most recent call last):\n",
      "  File \"<stdin>\", line 1, in <module>\n",
      "NameError: name 'O' isn't defined\n"
     ]
    }
   ],
   "source": [
    "%sendtofile lib/runner.py --source lib/runner.py"
   ]
  },
  {
   "cell_type": "code",
   "execution_count": 82,
   "metadata": {},
   "outputs": [
    {
     "name": "stdout",
     "output_type": "stream",
     "text": [
      "repl is in normal command mode\n",
      "[\\r\\x03\\x03] b'\\r\\nMicroPython 97a7cc2-dirty on 2021-11-26; ESP32 module with ESP32\\r\\nType \"help()\" for more information.\\r\\n>>> \\r\\n>>> \\r\\nMPY: soft reboot\\r\\nMicroPython 97a7cc2-dirty on 2021-11-26; ESP32 module with ESP32\\r\\nType \"help()\" for more information.\\r\\n>>> \\r\\n>>> \\r\\n>>> '\n",
      "[\\r\\x01] b'\\r\\n>>> \\r\\nraw REPL; CTRL-B to exit\\r\\n>'"
     ]
    }
   ],
   "source": [
    "%rebootdevice"
   ]
  },
  {
   "cell_type": "code",
   "execution_count": 56,
   "metadata": {},
   "outputs": [
    {
     "name": "stdout",
     "output_type": "stream",
     "text": [
      "%capture [--quiet] [--QUIET] outputfilename\n",
      "    records output to a file\n",
      "\n",
      "%comment\n",
      "    print this into output\n",
      "\n",
      "%disconnect [--raw]\n",
      "    disconnects from web/serial connection\n",
      "\n",
      "%esptool [--port PORT] {erase,esp32,esp8266} [binfile]\n",
      "    commands for flashing your esp-device\n",
      "\n",
      "%fetchfile [--binary] [--print] [--load] [--quiet] [--QUIET]\n",
      "                  sourcefilename [destinationfilename]\n",
      "    fetch and save a file from the device\n",
      "\n",
      "%ls [--recurse] [dirname]\n",
      "    list files on the device\n",
      "\n",
      "%lsmagic\n",
      "    list magic commands\n",
      "\n",
      "%mpy-cross [--set-exe SET_EXE] [pyfile]\n",
      "    cross-compile a .py file to a .mpy file\n",
      "\n",
      "%readbytes [--binary]\n",
      "    does serial.read_all()\n",
      "\n",
      "%rebootdevice\n",
      "    reboots device\n",
      "\n",
      "%sendtofile [--append] [--mkdir] [--binary] [--execute]\n",
      "                   [--source [SOURCE]] [--quiet] [--QUIET]\n",
      "                   [destinationfilename]\n",
      "    send cell contents or file/direcectory to the device\n",
      "\n",
      "%serialconnect [--raw] [--port PORT] [--baud BAUD] [--verbose]\n",
      "    connects to a device over USB wire\n",
      "\n",
      "%socketconnect [--raw] ipnumber portnumber\n",
      "    connects to a socket of a device over wifi\n",
      "\n",
      "%suppressendcode\n",
      "    doesn't send x04 or wait to read after sending the contents of the cell\n",
      "  (assists for debugging using %writebytes and %readbytes)\n",
      "\n",
      "%websocketconnect [--raw] [--password PASSWORD] [--verbose]\n",
      "                         [websocketurl]\n",
      "    connects to the webREPL websocket of an ESP8266 over wifi\n",
      "    websocketurl defaults to ws://192.168.4.1:8266 but be sure to be connected\n",
      "\n",
      "%writebytes [--binary] [--verbose] stringtosend\n",
      "    does serial.write() of the python quoted string given\n",
      "\n",
      "%%writefile [--append] [--execute] destinationfilename\n",
      "    write contents of cell to a file\n",
      "\n"
     ]
    }
   ],
   "source": [
    "%lsmagic"
   ]
  },
  {
   "cell_type": "code",
   "execution_count": 58,
   "metadata": {},
   "outputs": [
    {
     "name": "stderr",
     "output_type": "stream",
     "text": [
      "Traceback (most recent call last):\n",
      "  File \"<stdin>\", line 3, in <module>\n",
      "OSError: stream operation not supported\n"
     ]
    }
   ],
   "source": [
    "json.loads(\"/Users/rishil/Desktop/EEG-decoding/eeg_lib/logs/log_data.json\")"
   ]
  },
  {
   "cell_type": "code",
   "execution_count": 115,
   "metadata": {},
   "outputs": [
    {
     "name": "stdout",
     "output_type": "stream",
     "text": [
      "\u001b[34mConnecting to --port=/dev/tty.usbserial-0001 --baud=115200 \u001b[0mcould not open port /dev/tty.usbserial-0001: [Errno 16] Resource busy: '/dev/tty.usbserial-0001'\n",
      "\u001b[34m\n",
      "Try one of these ports as --port= \n",
      "  /dev/cu.usbserial-0001\n",
      "  /dev/cu.BLTH\n",
      "  /dev/cu.Bluetooth-Incoming-Port\u001b[0m"
     ]
    }
   ],
   "source": [
    "#%serialconnect to --port=\"/dev/tty.usbserial-02U1W54L\" --baud=115200\n",
    "# %serialconnect to --port=\"/dev/tty.usbserial-0001\" --baud=115200\n",
    "%serialconnect to --port=\"/dev/tty.usbserial-0001\" --baud=115200\n"
   ]
  },
  {
   "cell_type": "code",
   "execution_count": 136,
   "metadata": {},
   "outputs": [
    {
     "name": "stdout",
     "output_type": "stream",
     "text": [
      "[leftinbuffer] ['b\"G\\\\x01\\\\x02\\\\x91\\\\xa5\\\\xd1\\\\x85\\\\xd1\\\\xa5\\\\xbd\\\\xb9\\\\x01\\\\x00\\\\x0e\\\\xbd\\\\xc9\\\\x95\\\\x81 0 panic\\'ed (InstrFetchProhibited). Exception was unhandled.\\\\r\\\\nCore 0 register dump:\\\\r\\\\nPC      : 0x00000ets Jul 29 2019 12:21:46\\\\r\\\\n\\\\r\\\\nrst:0x1 (POWERON_RESET),boot:0x13 (SPI_FAST_FLASH_BOOT)\\\\r\\\\nconfigsip: 0, SPIWP:0xee\\\\r\\\\nclk_drv:0x00,q_drv:0x00,d_drv:0x00,cs0_drv:0x00,hd_drv:0x00,wp_drv:0x00\\\\r\\\\nmode:DIO, clock div:2\\\\r\\\\nload:0x3fff0018,len:4\\\\r\\\\nload:0x3fff001c,len:4252\\\\r\\\\nload:0x40078000,len:11920\\\\r\\\\nload:0x40080400,len:3344\\\\r\\\\nentry 0x4008060c\\\\r\\\\nets Jul 29 2019 12:21:46\\\\r\\\\n\\\\r\\\\nrst:0x1 (POWERON_RE\\\\x03\\\\xfbx13 (SPI_FAST_FLASH_BOOT)\\\\r\\\\nconfigsip: 0, SPIWP:0xee\\\\r\\\\nclk_drv:0x00,q_drv:0x00,d_drv:0x00,cs0_drv:0x00,hd_drv:0x00,wp_drv:0x00\\\\r\\\\x00ets Jul 29 2019 12:21:46\\\\r\\\\n\\\\r\\\\nrst:0x1 (POWERON_RESET),boot:0x13 (SPI_FAST_FLASH_BOOT)\\\\r\\\\nconfigsip: 0, SPIWP:0xee\\\\r\\\\nclk_drv:0x00,q_drv:0x00,d_drv:0x00,cs0_drv:0x00,hd_drv:0x00,wp_drv:0x00\\\\r\\\\nmode:DIO, clock div:2\\\\r\\\\nload:0x3fff0018,len:4\\\\r\\\\nload:0x3fff001c,len:4252\\\\r\\\\nload:0x40078000,len:11920\\\\r\\\\nload:0x40080400,len:3344\\\\r\\\\nentry 0x4008060c\\\\r\\\\nMicroPython 97a7cc2-dirty on 2021-11-26; ESP32 module with ESP32\\\\r\\\\nType \"']\n",
      "[priorstuff] b'\"help()\" for more information.\\r\\n>>> '\n",
      "[missing-OK]from machine import Pin\n",
      ">>> \n",
      ">>> \n",
      "\n",
      "[missing-OK]MPY: soft reboot\n",
      "\n",
      "[missing-OK]MicroPython 97a7cc2-dirty on 2021-11-26; ESP32 module with ESP32\n",
      "\n",
      "[missing-OK]Type \"help()\" for more information.\n",
      ">>>[reboot detected 0]repl is in normal command mode\n",
      "[\\r\\x03\\x03] b'\\r\\n>>> '\n",
      "[\\r\\x01] b'\\r\\n>>> \\r\\nraw REPL; CTRL-B to exit\\r\\n>' "
     ]
    }
   ],
   "source": [
    "from machine import Pin"
   ]
  },
  {
   "cell_type": "code",
   "execution_count": 137,
   "metadata": {},
   "outputs": [
    {
     "name": "stderr",
     "output_type": "stream",
     "text": [
      "Traceback (most recent call last):\n",
      "  File \"<stdin>\", line 1, in <module>\n",
      "NameError: name 'Pin' isn't defined\n"
     ]
    }
   ],
   "source": [
    "p26 = Pin(26, Pin.OUT)\n",
    "p13 = Pin(13, Pin.OUT) "
   ]
  },
  {
   "cell_type": "code",
   "execution_count": 98,
   "metadata": {},
   "outputs": [],
   "source": [
    "p26.on()\n",
    "p13.on()"
   ]
  },
  {
   "cell_type": "code",
   "execution_count": 99,
   "metadata": {},
   "outputs": [],
   "source": [
    "p26.off()\n",
    "p13.off()"
   ]
  },
  {
   "cell_type": "code",
   "execution_count": 75,
   "metadata": {},
   "outputs": [],
   "source": [
    "import time"
   ]
  },
  {
   "cell_type": "code",
   "execution_count": 81,
   "metadata": {},
   "outputs": [
    {
     "name": "stdout",
     "output_type": "stream",
     "text": [
      "......\u001b[34m\n",
      "\n",
      "*** Sending Ctrl-C\n",
      "\n",
      "\u001b[0m"
     ]
    },
    {
     "name": "stderr",
     "output_type": "stream",
     "text": [
      "Traceback (most recent call last):\n",
      "  File \"<stdin>\", line 9, in <module>\n",
      "KeyboardInterrupt: \n"
     ]
    }
   ],
   "source": [
    "counter = 0\n",
    "while 1==1:\n",
    "    if (counter % 2 == 0):\n",
    "        p26.on()\n",
    "        p13.off()\n",
    "    else:\n",
    "        p13.on()\n",
    "        p26.off()\n",
    "    time.sleep(1)\n",
    "    counter+=1"
   ]
  },
  {
   "cell_type": "code",
   "execution_count": 112,
   "metadata": {},
   "outputs": [
    {
     "name": "stdout",
     "output_type": "stream",
     "text": [
      "\u001b[31mNo serial connected\n",
      "\u001b[0m  %serialconnect to connect\n",
      "  %esptool to flash the device\n",
      "  %lsmagic to list commands"
     ]
    }
   ],
   "source": [
    "print(1)"
   ]
  },
  {
   "cell_type": "code",
   "execution_count": 143,
   "metadata": {},
   "outputs": [
    {
     "name": "stdout",
     "output_type": "stream",
     "text": [
      "Sent 0 bytes in 1 chunks to boot.py.\n"
     ]
    }
   ],
   "source": [
    "%sendtofile --source /Users/rishil/Desktop/pythonfiles/boot1.py boot.py  --binary"
   ]
  },
  {
   "cell_type": "code",
   "execution_count": null,
   "metadata": {},
   "outputs": [],
   "source": []
  }
 ],
 "metadata": {
  "kernelspec": {
   "display_name": "MicroPython - USB",
   "language": "micropython",
   "name": "micropython"
  },
  "language_info": {
   "codemirror_mode": "python",
   "file_extension": ".py",
   "mimetype": "text/python",
   "name": "micropython"
  }
 },
 "nbformat": 4,
 "nbformat_minor": 4
}
