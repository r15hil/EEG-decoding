{
 "cells": [
  {
   "cell_type": "markdown",
   "metadata": {},
   "source": [
    "## MicroPython ESP32 Experimentation"
   ]
  },
  {
   "cell_type": "markdown",
   "metadata": {},
   "source": [
    "### Establishing connection to target board\n",
    "First, make sure you've got the right serial port. On unix-based systems, you can run `ls /dev/tty.*` to see your available serial devices. Replace as necessary below.\n",
    "\n",
    "This will allow Jupyter (your host computer) to run commands and send/receive information to/from your target board in real time using the MicroPython REPL."
   ]
  },
  {
   "cell_type": "code",
   "execution_count": 19,
   "metadata": {},
   "outputs": [
    {
     "name": "stdout",
     "output_type": "stream",
     "text": [
      "\u001b[31m\n",
      "\n",
      "***Connection broken [Device not configured]\n",
      "\u001b[0mYou may need to reconnect\u001b[34m\n",
      "Closing serial Serial<id=0x7fe6e6ead760, open=True>(port='/dev/tty.usbserial-0001', baudrate=115200, bytesize=8, parity='N', stopbits=1, timeout=0.5, xonxoff=False, rtscts=False, dsrdtr=False)\n",
      "\u001b[0m\u001b[34mConnecting to --port=/dev/tty.usbserial-0001 --baud=115200 \u001b[0m\n",
      "\u001b[34mReady.\n",
      "\u001b[0m"
     ]
    }
   ],
   "source": [
    "#%serialconnect to --port=\"/dev/tty.usbserial-02U1W54L\" --baud=115200\n",
    "%serialconnect to --port=\"/dev/tty.usbserial-0001\" --baud=115200"
   ]
  },
  {
   "cell_type": "code",
   "execution_count": 41,
   "metadata": {},
   "outputs": [
    {
     "name": "stdout",
     "output_type": "stream",
     "text": [
      "ADC initialised\n",
      "SPI initialised\n",
      "DigiPot set to 100 = gain of 10.62498\n"
     ]
    }
   ],
   "source": [
    "from lib.runner import Runner\n",
    "\n",
    "Nc = 1\n",
    "Ns = 128\n",
    "Nt = 3\n",
    "stim_freqs = [7, 10, 12]\n",
    "\n",
    "# Here, we select the algorithm. Can be one of ['MsetCCA', 'GCCA', 'CCA']\n",
    "decoding_algo = 'CCA'\n",
    "\n",
    "runner = Runner(decoding_algo, buffer_size=Ns) # initialise a base runner\n",
    "runner.setup() # setup peripherals and memory buffers"
   ]
  },
  {
   "cell_type": "code",
   "execution_count": 44,
   "metadata": {},
   "outputs": [
    {
     "name": "stdout",
     "output_type": "stream",
     "text": [
      "25.48605\n",
      "-27.88097\n"
     ]
    }
   ],
   "source": [
    "a = [\n",
    "                0.0008810108,\n",
    "                0.6322876,\n",
    "                5.302984,\n",
    "                11.04289,\n",
    "                7.236574,\n",
    "                4.483564,\n",
    "                8.169661,\n",
    "                11.45558,\n",
    "                12.94468,\n",
    "                0.3870013,\n",
    "                0.5778582,\n",
    "                8.11299,\n",
    "                -0.4887207,\n",
    "                -1.699883,\n",
    "                -1.151954,\n",
    "                5.314356,\n",
    "                2.863382,\n",
    "                -6.663355,\n",
    "                -4.236682,\n",
    "                -0.3282205,\n",
    "                11.8786,\n",
    "                10.40834,\n",
    "                2.91623,\n",
    "                4.891585,\n",
    "                4.118226,\n",
    "                6.573776,\n",
    "                7.595751,\n",
    "                -0.3148028,\n",
    "                -11.22296,\n",
    "                -13.47364,\n",
    "                -20.09728,\n",
    "                -24.40007,\n",
    "                -11.1898,\n",
    "                0.5727892,\n",
    "                0.9114911,\n",
    "                -8.969307,\n",
    "                -14.68794,\n",
    "                -14.8013,\n",
    "                -14.64045,\n",
    "                -1.218613,\n",
    "                -3.024044,\n",
    "                -12.22603,\n",
    "                8.065958,\n",
    "                1.758298,\n",
    "                -27.88097,\n",
    "                -27.54515,\n",
    "                -8.046073,\n",
    "                3.199111,\n",
    "                -0.7088236,\n",
    "                11.4001,\n",
    "                17.5606,\n",
    "                0.7582185,\n",
    "                -1.796498,\n",
    "                -4.495961,\n",
    "                -8.028107,\n",
    "                13.39242,\n",
    "                16.89291,\n",
    "                -0.5617995,\n",
    "                9.200119,\n",
    "                5.101417,\n",
    "                -6.820274,\n",
    "                9.410563,\n",
    "                18.42916,\n",
    "                9.263607,\n",
    "                0.002051557,\n",
    "                0.5940795,\n",
    "                4.680033,\n",
    "                8.696577,\n",
    "                0.4415902,\n",
    "                -7.68333,\n",
    "                -3.404639,\n",
    "                -4.519523,\n",
    "                -10.17533,\n",
    "                -8.14777,\n",
    "                2.611212,\n",
    "                0.867302,\n",
    "                -13.66548,\n",
    "                -14.09752,\n",
    "                -11.8542,\n",
    "                -4.321161,\n",
    "                7.699627,\n",
    "                7.135615,\n",
    "                4.134768,\n",
    "                0.4307611,\n",
    "                -10.29667,\n",
    "                -16.14585,\n",
    "                -5.777066,\n",
    "                8.264203,\n",
    "                11.61974,\n",
    "                -6.38609,\n",
    "                -22.92923,\n",
    "                -16.96802,\n",
    "                -11.00848,\n",
    "                8.671667,\n",
    "                24.75481,\n",
    "                7.650834,\n",
    "                8.493778,\n",
    "                10.34663,\n",
    "                -3.488946,\n",
    "                10.08992,\n",
    "                20.18735,\n",
    "                14.38455,\n",
    "                -0.2793979,\n",
    "                -7.029641,\n",
    "                9.924578,\n",
    "                1.700456,\n",
    "                -12.34403,\n",
    "                -0.5314187,\n",
    "                6.344598,\n",
    "                -5.486998,\n",
    "                -13.30798,\n",
    "                3.852185,\n",
    "                8.454625,\n",
    "                -5.823669,\n",
    "                -0.6756685,\n",
    "                2.385444,\n",
    "                -10.81458,\n",
    "                -5.086719,\n",
    "                9.13818,\n",
    "                7.320928,\n",
    "                1.16188,\n",
    "                3.629816,\n",
    "                6.896602,\n",
    "                8.682119,\n",
    "                9.012561,\n",
    "                -2.122387,\n",
    "                4.7857,\n",
    "                -0.3938826,\n",
    "                0.003268619,\n",
    "                -0.07217627,\n",
    "                -0.3948116,\n",
    "                1.617305,\n",
    "                6.779059,\n",
    "                9.026737,\n",
    "                14.23627,\n",
    "                18.07122,\n",
    "                11.43218,\n",
    "                11.11577,\n",
    "                7.619313,\n",
    "                13.80112,\n",
    "                24.14718,\n",
    "                12.22281,\n",
    "                15.89785,\n",
    "                14.14789,\n",
    "                10.03987,\n",
    "                18.32486,\n",
    "                10.04507,\n",
    "                4.5887,\n",
    "                5.286398,\n",
    "                2.128071,\n",
    "                -7.647141,\n",
    "                -3.705783,\n",
    "                -6.877206,\n",
    "                -13.72737,\n",
    "                -3.713557,\n",
    "                -11.5692,\n",
    "                -12.10889,\n",
    "                -12.25982,\n",
    "                -10.81629,\n",
    "                -10.02413,\n",
    "                -24.07154,\n",
    "                -13.21079,\n",
    "                -1.02243,\n",
    "                0.8013479,\n",
    "                -4.524598,\n",
    "                -19.12002,\n",
    "                -22.0448,\n",
    "                -18.09853,\n",
    "                -10.00717,\n",
    "                3.53743,\n",
    "                7.556727,\n",
    "                1.982921,\n",
    "                0.2957763,\n",
    "                5.842588,\n",
    "                8.736755,\n",
    "                -8.950642,\n",
    "                -22.63761,\n",
    "                -15.01393,\n",
    "                -6.765015,\n",
    "                -3.489682,\n",
    "                -4.92079,\n",
    "                -8.117239,\n",
    "                -7.559782,\n",
    "                2.183619,\n",
    "                -1.424119,\n",
    "                -7.351205,\n",
    "                6.082211,\n",
    "                -2.894077,\n",
    "                -5.814854,\n",
    "                8.810667,\n",
    "                4.620723,\n",
    "                6.450948,\n",
    "                0.0002755493,\n",
    "                0.6342525,\n",
    "                5.568994,\n",
    "                10.59651,\n",
    "                0.8561473,\n",
    "                -7.171011,\n",
    "                -4.376842,\n",
    "                -10.87645,\n",
    "                -5.453482,\n",
    "                1.69791,\n",
    "                -3.412053,\n",
    "                -3.004263,\n",
    "                -8.861017,\n",
    "                -9.14448,\n",
    "                -7.718646,\n",
    "                -4.476337,\n",
    "                0.5089178,\n",
    "                -0.02477878,\n",
    "                3.158797,\n",
    "                -5.017598,\n",
    "                -9.551752,\n",
    "                -6.084259,\n",
    "                -14.41399,\n",
    "                -19.64746,\n",
    "                9.405186,\n",
    "                21.59708,\n",
    "                13.56969,\n",
    "                25.48605,\n",
    "                9.442548,\n",
    "                7.706665,\n",
    "                3.00517,\n",
    "                -5.862418,\n",
    "                13.00944,\n",
    "                3.618364,\n",
    "                7.934548,\n",
    "                10.10879,\n",
    "                6.392079,\n",
    "                6.837857,\n",
    "                -3.10954,\n",
    "                3.921433,\n",
    "                2.823433,\n",
    "                0.3789104,\n",
    "                0.8192734,\n",
    "                0.570171,\n",
    "                -2.732743,\n",
    "                -1.753552,\n",
    "                9.346987,\n",
    "                11.0282,\n",
    "                7.691156,\n",
    "                1.892323,\n",
    "                3.390249,\n",
    "                3.787902,\n",
    "                -9.100599,\n",
    "                -10.29543,\n",
    "                3.973159,\n",
    "                2.22848,\n",
    "                -0.1542701,\n",
    "                7.706511,\n",
    "                9.380507,\n",
    "                -0.2247419,\n",
    "                -14.08997,\n",
    "                -16.70297,\n",
    "                -16.25896,\n",
    "                -1.425124\n",
    "            ]\n",
    "\n",
    "print(max(a))\n",
    "print(min(a))"
   ]
  },
  {
   "cell_type": "code",
   "execution_count": 40,
   "metadata": {},
   "outputs": [
    {
     "name": "stdout",
     "output_type": "stream",
     "text": [
      "1959\n",
      "1951\n",
      "1950\n",
      "1951\n",
      "1942\n",
      "1941\n",
      "1936\n",
      "1931\n",
      "1929\n",
      "1918\n",
      ".1915\n",
      "1908\n",
      "1904\n",
      "1897\n",
      "1889\n",
      "1888\n",
      "\u001b[34m\n",
      "\n",
      "*** Sending Ctrl-C\n",
      "\n",
      "\u001b[0m"
     ]
    },
    {
     "name": "stderr",
     "output_type": "stream",
     "text": [
      "Traceback (most recent call last):\n",
      "  File \"<stdin>\", line 11, in <module>\n",
      "KeyboardInterrupt: \n"
     ]
    }
   ],
   "source": [
    "from machine import Pin, ADC\n",
    "from time import sleep\n",
    "\n",
    "pot = ADC(Pin(33))\n",
    "pot.atten(ADC.ATTN_11DB)       #Full range: 3.3v\n",
    "pot.width(machine.ADC.WIDTH_12BIT)\n",
    "while True:\n",
    "  pot_value = pot.read()\n",
    "  print(pot_value)\n",
    "  sleep(1)"
   ]
  },
  {
   "cell_type": "code",
   "execution_count": 46,
   "metadata": {},
   "outputs": [
    {
     "name": "stdout",
     "output_type": "stream",
     "text": [
      "[1711, 2000, 2199, 2122, 1619, 1787, 2018, 2203, 1782, 1615, 1775, 1988, 2001, 1776, 1619, 1749, 2240, 2026, 1808, 1642, 2114, 2241, 2046, 1829, 1839, 2109, 2240, 2064, 1621, 1835, 2093, 1950, 1726, 1635, 1840, 2167, 1938, 1729, 1621, 2173, 2166, 1955, 1744, 1923, 2161, 2194, 1983, 1699, 1906, 2158, 2220, 1680, 1686, 1888, 2149, 1868, 1680, 1680, 2208, 2082, 1856, 1680, 2030, 2216, 2096, 1878, 1787, 2023, 2205, 2123, 1610, 1770, 1983, 2191, 1786, 1621, 1744, 1958, 2023, 1791, 1636, 1737, 2241, 2023, 1807, 1850, 2137, 2233, 2021, 1638, 1856, 2128, 2241, 1725, 1641, 1845, 2109, 1937, 1730, 1616, 1821, 2176, 1952, 1744, 1602, 2167, 2144, 1922, 1727, 1954, 2181, 2159, 1948, 1728, 1943, 2165, 2179, 1662, 1712, 1911, 2158, 1852, 1673, 1690, 1889, 2095, 1865, 1686, 1672, 2219, 2093, 1879, 1790, 2063, 2227, 2093, 1605, 1799, 2041, 2208, 1757, 1602, 1776, 1998, 1998, 1773, 1616, 1744, 2233, 2014, 1795, 1637, 2128, 2231, 2031, 1809, 1856, 2128, 2234, 1724, 1655, 1863, 2127, 1923, 1713, 1646, 1847, 2141, 1923, 1727, 1619, 2173, 2161, 1949, 1744, 1934, 2167, 2191, 1974, 1707, 1920, 2159, 2202, 1665, 1702, 1904, 2079, 1827, 1655, 1707, 2226, 2067, 1840, 1671, 2064, 2226, 2093, 1874, 1792, 2027, 2200, 2112, 1610, 1778, 1993, 2189, 1776, 1616, 1764, 1982, 1998, 1771, 1616, 2139, 2221, 1991, 1771, 1869, 2147, 2226, 2010, 1653, 1871, 2133, 2242, 1722, 1632, 1840, 2100, 1936, 1725, 1616, 1823, 2166, 1904, 1707, 1657, 2190, 2128, 1913, 1715, 1968, 2187, 2155, 1936, 1728, 1943, 2167, 2181, 1655, 1721, 1923, 2162, 1834, 1648, 1726]\n",
      "[-0.1323123, -5.252717, -13.59785, -2.679644, -29.72251, -87.23788, -6.236732, 85.44487, 51.031, -35.71162, -105.8472, -3.913719, 80.66677, 72.4786, 43.61919, -50.60268, -22.79847, 47.24887, 82.05019, 43.90352, -50.31411, -67.73656, -18.37464, 96.38045, 51.80759, -61.13021, -68.81864, -53.50946, 39.43178, 62.1319, -13.63233, -62.11149, -62.81528, 17.19007, 84.08232, 64.53743, 7.291202, -53.44408, -73.12545, -7.643063, 58.83448, 20.981, -61.53116, -80.27381, -16.9598, 74.1826, 92.73643, 14.28815, -75.05282, -47.2149, 64.53892, 78.71159, 43.86213, -20.02631, -52.58223, 44.27875, 85.06238, 43.40685, -35.40622, -91.14913, -45.57701, 54.87192, 90.67608, -16.07321, -0.01814151, 4.117918, 37.71479, 77.99068, 15.85795, -75.30227, -63.76045, -13.21285, 52.5387, 25.70727, -72.68776, -76.17892, -23.45316, 72.14448, 91.7245, 8.357291, -73.85547, -53.85445, 65.16798, 73.65413, 42.23319, -22.55499, -56.58971, 43.61503, 79.94185, 43.02658, -40.05615, -92.5669, -48.86473, 52.01255, 88.69846, -19.95615, -72.57104, -55.92829, -7.669754, 71.63805, 67.24751, 12.1991, -64.69156, -81.79584, -4.823343, 67.40078, 40.75549, -79.12515, -86.77619, -17.09299, 53.41078, 75.30992, -38.24367, -86.06426, -32.11287, 39.74847, 87.08455, 44.09198, -41.82372, -61.93137, 35.55105, 96.28428, 35.65756, -39.81086, -76.42372, -12.74892, 99.06196, 64.54578]\n"
     ]
    }
   ],
   "source": [
    "print(runner.periph_manager.read_adc_buffer())\n",
    "print(runner.output_buffer)"
   ]
  },
  {
   "cell_type": "code",
   "execution_count": 10,
   "metadata": {},
   "outputs": [
    {
     "name": "stdout",
     "output_type": "stream",
     "text": [
      "\u001b[34m\n",
      "\n",
      "*** Sending Ctrl-C\n",
      "\n",
      "\u001b[0m\u001b[31m[Timed out waiting for recognizable response]\n",
      "\u001b[0m"
     ]
    }
   ],
   "source": [
    "%sendtofile lib/runner.py --source lib/runner.py"
   ]
  },
  {
   "cell_type": "code",
   "execution_count": 44,
   "metadata": {},
   "outputs": [
    {
     "name": "stdout",
     "output_type": "stream",
     "text": [
      "Sent 473 lines (8718 bytes) to main.py.\n"
     ]
    }
   ],
   "source": [
    "%sendtofile main.py --source main.py"
   ]
  },
  {
   "cell_type": "code",
   "execution_count": null,
   "metadata": {},
   "outputs": [],
   "source": [
    "%sendtofile lib/decodinga.py --source lib/decoding.py"
   ]
  },
  {
   "cell_type": "code",
   "execution_count": null,
   "metadata": {},
   "outputs": [],
   "source": [
    "import network\n",
    "wlan = network.WLAN(network.STA_IF)\n",
    "wlan.active(True)\n",
    "ssid = env_vars.get(\"WIFI_SSID\")\n",
    "password = env_vars.get(\"WIFI_PASSWORD\")\n",
    "wlan.connect('ssid', 'password')\n",
    "print(wlan.ifconfig())"
   ]
  },
  {
   "cell_type": "code",
   "execution_count": 18,
   "metadata": {},
   "outputs": [
    {
     "name": "stdout",
     "output_type": "stream",
     "text": [
      "import utime\n",
      "\n",
      "BASE_CLK_FREQ = 240000000  # 240 MHz for ESP32\n",
      "\n",
      "ADC_SAMPLE_FREQ = 256  # sample freq in Hz\n",
      "\n",
      "RECORDING_LEN_SEC = 4\n",
      "\n",
      "OVERLAP = 0.8\n",
      "\n",
      "DOWNSAMPLED_FREQ = 64  # 64 Hz downsampled  to ensure nyquist condition\n",
      "\n",
      "PREPROCESSING = True  # if true, LP filter and downsample\n",
      "\n",
      "STIM_FREQS = [7, 10, 12]  # stimulus freqs. in Hz\n",
      "\n",
      "DEFAULT_LOG_SESSION = \"test-{0}\".format(utime.ticks_ms())\n",
      "\n",
      "MODE = \"log\"\n",
      "\n",
      "HTTP_LOG_URL = \"http://james-tev.local:5000/\"\n",
      "\n"
     ]
    }
   ],
   "source": [
    "f = open(\"lib/config.py\", \"r\")\n",
    "print(f.read())"
   ]
  },
  {
   "cell_type": "markdown",
   "metadata": {},
   "source": [
    "## Using a Runner for experimentation and logging\n",
    "The a `Runner` is encapsulates the core functions in this EEG system, including peripheral setup, sampling, signal processing, logging and memory management. The `OnlineRunner` offers mostly the same functionality as the standard `Runner` class, except it allows for logging and other communication with a remote server - either on the Internet or on your local network.\n",
    "\n",
    "### Offline functionality\n",
    "The standard `Runner` is good for testing core functionality without the need for remote logging. See below for initialisation and execution."
   ]
  },
  {
   "cell_type": "code",
   "execution_count": null,
   "metadata": {},
   "outputs": [],
   "source": [
    "from lib.runner import Runner\n",
    "\n",
    "Nc = 1\n",
    "Ns = 128\n",
    "Nt = 3\n",
    "stim_freqs = [7, 10, 12]\n",
    "\n",
    "# Here, we select the algorithm. Can be one of ['MsetCCA', 'GCCA', 'CCA']\n",
    "decoding_algo = 'MsetCCA'\n",
    "\n",
    "runner = Runner(decoding_algo, buffer_size=Ns) # initialise a base runner\n",
    "runner.setup() # setup peripherals and memory buffers"
   ]
  },
  {
   "cell_type": "markdown",
   "metadata": {},
   "source": [
    "### Calibration\n",
    "If you are using an algorithm that leverages calibration data (MsetCCA, GCCA), you will need to record some calibration data to fit the decoder model. This is usually only done once off before inference starts. You may want to recalibrate at some semi-regular interval too though. \n",
    "\n",
    "At the moment, there is not an integrated process to record calibration data in the `Runner` class. You have to record calibration data and provide it to the runner which it will in turn use to fit its internal decoder model. In future, this will hopefully become more integrated and easy. For now, some random calibration data is generated below to illustrate the format which the runner/decoder expects. You need to provide iid calibration data trials for each stimulus frequency.\n",
    "\n",
    "Note that if you try to run calibration using an incompatible algorithm (such as standard CCA), a warning will be generated and the calibration sequence will be skipped."
   ]
  },
  {
   "cell_type": "code",
   "execution_count": null,
   "metadata": {},
   "outputs": [],
   "source": [
    "gc.collect()"
   ]
  },
  {
   "cell_type": "code",
   "execution_count": null,
   "metadata": {},
   "outputs": [],
   "source": [
    "from lib.synthetic import synth_X\n",
    "\n",
    "calibration_data = {f:synth_X(f, Nc, Ns, Nt=Nt) for f in stim_freqs}\n",
    "runner.calibrate(calibration_data)"
   ]
  },
  {
   "cell_type": "code",
   "execution_count": null,
   "metadata": {},
   "outputs": [],
   "source": [
    "print(gc.mem_free())"
   ]
  },
  {
   "cell_type": "markdown",
   "metadata": {},
   "source": [
    "### Decoding\n",
    "When configured with a set of stimulus frequencies $\\mathcal{F}=\\{f_1, \\dots, f_k, \\dots, f_K\\}$, the `Runner`'s decoder model consists of $K$ independent sub-classifiers $\\Phi_k$ that each leverage the decoding algorithm selected. These independent classifiers must be calibrated independently. When the `Runner` is presented a new test observation, each sub-classifier $\\Phi_k$ produces an output correlation estimate corresponding to $f_k$. Ultimately, the runner outputs a dictionary of frequency-correlation pairs of the form\n",
    "```python\n",
    "{f_1: 0.12, f_2: 0.03, f_3: 0.85}\n",
    "```\n",
    "The decoded output frequency is the one corresponding to the largest correlation in this output dictionary. In this example, it would be $f_3$."
   ]
  },
  {
   "cell_type": "code",
   "execution_count": null,
   "metadata": {},
   "outputs": [],
   "source": [
    "test_freq = 7 # 7 Hz test signal\n",
    "test_data = synth_X(test_freq, Nc, Ns, Nt=1)\n",
    "\n",
    "print(runner.decoder.classify(test_data))"
   ]
  },
  {
   "cell_type": "code",
   "execution_count": 16,
   "metadata": {},
   "outputs": [
    {
     "name": "stdout",
     "output_type": "stream",
     "text": [
      "ADC initialised\n",
      "SPI initialised\n",
      "DigiPot set to 100 = gain of 10.62498\n"
     ]
    }
   ],
   "source": [
    "from ulab import numpy as np\n",
    "import utime as time\n",
    "from lib.runner import Runner\n",
    "\n",
    "decode_period_s = 4 # decode every x seconds\n",
    "Nc = 1\n",
    "Ns = 128\n",
    "Nt = 3\n",
    "stim_freqs = [7, 10, 12]\n",
    "decoding_period_s = 4\n",
    "\n",
    "runner = Runner('CCA', buffer_size=Ns)\n",
    "runner.setup() \n",
    "\n",
    "def preprocess_data(signal):\n",
    "    \n",
    "    \"\"\"Preprocess incoming signal before decoding algorithms.\n",
    "    This involves applying a bandpass filter to isolate the target SSVEP range\n",
    "    and then downsampling the signal to the Nyquist boundary.\n",
    "    \n",
    "    Returns:\n",
    "        [np.ndarray]: filtered and downsampled signal\n",
    "    \"\"\"\n",
    "    from lib.signal import sos_filter\n",
    "    downsample_freq = 64\n",
    "    ds_factor = 256//downsample_freq\n",
    "    return sos_filter(signal)[::ds_factor]\n",
    "\n",
    "def collectData(decode_period_s):\n",
    "    \n",
    "    global runner\n",
    "    \n",
    "    time.sleep(decode_period_s)\n",
    "    data = runner.output_buffer\n",
    "#     print(data)\n",
    "    gc.collect()\n",
    "    return np.array(data)\n",
    "\n",
    "def getData(Nt, decode_period_s):\n",
    "\n",
    "    global runner\n",
    "    \n",
    "    runner.run()\n",
    "    \n",
    "    trials = []\n",
    "    time.sleep(5)\n",
    "    count=0\n",
    "    \n",
    "    if Nt <=1:\n",
    "        return collectData(decode_period_s)\n",
    "    for i in range(Nt):\n",
    "        trials.append(collectData(decode_period_s).flatten())\n",
    "        print(trials)\n",
    "    runner.stop()\n",
    "\n",
    "    print(len(trials))\n",
    "\n",
    "    gc.collect()\n",
    "    return np.array(trials)\n"
   ]
  },
  {
   "cell_type": "code",
   "execution_count": 17,
   "metadata": {},
   "outputs": [
    {
     "name": "stdout",
     "output_type": "stream",
     "text": [
      "..[array([0.1022726, 6.393758, 30.04326, ..., -17.88625, 40.25251, 43.99335], dtype=float32)]\n",
      "[array([0.1022726, 6.393758, 30.04326, ..., -17.88625, 40.25251, 43.99335], dtype=float32), array([0.02554362, 4.924626, 34.40299, ..., 13.66638, -37.46715, -46.48108], dtype=float32)]\n",
      ".[array([0.1022726, 6.393758, 30.04326, ..., -17.88625, 40.25251, 43.99335], dtype=float32), array([0.02554362, 4.924626, 34.40299, ..., 13.66638, -37.46715, -46.48108], dtype=float32), array([0.04832244, 5.792087, 36.82669, ..., 47.1671, 5.583657, -50.93529], dtype=float32)]\n",
      "3\n"
     ]
    }
   ],
   "source": [
    "#calibration_data = {f:getData(Nt, decoding_period_s) for f in stim_freqs}\n",
    "calibration_data = {}\n",
    "calibration_data[7] = getData(Nt, decoding_period_s)\n",
    "gc.collect()"
   ]
  },
  {
   "cell_type": "code",
   "execution_count": 18,
   "metadata": {},
   "outputs": [
    {
     "name": "stdout",
     "output_type": "stream",
     "text": [
      "..[array([0.08628019, 6.923466, 38.24591, ..., -18.19421, 34.08795, 46.6745], dtype=float32)]\n",
      "[array([0.08628019, 6.923466, 38.24591, ..., -18.19421, 34.08795, 46.6745], dtype=float32), array([0.05372761, 5.886846, 36.22691, ..., 20.57845, -30.37518, -49.47893], dtype=float32)]\n",
      ".[array([0.08628019, 6.923466, 38.24591, ..., -18.19421, 34.08795, 46.6745], dtype=float32), array([0.05372761, 5.886846, 36.22691, ..., 20.57845, -30.37518, -49.47893], dtype=float32), array([0.1091523, 5.572274, 22.46525, ..., 39.65464, 51.01727, 7.14376], dtype=float32)]\n",
      "3\n"
     ]
    }
   ],
   "source": [
    "calibration_data[10] = getData(Nt, decoding_period_s)\n",
    "gc.collect()"
   ]
  },
  {
   "cell_type": "code",
   "execution_count": 19,
   "metadata": {},
   "outputs": [
    {
     "name": "stdout",
     "output_type": "stream",
     "text": [
      "..[array([-0.07902402, -2.427289, -2.418796, ..., -60.14733, -24.28555, 30.13657], dtype=float32)]\n",
      ".[array([-0.07902402, -2.427289, -2.418796, ..., -60.14733, -24.28555, 30.13657], dtype=float32), array([-0.05558455, -0.1863209, 11.00656, ..., 39.97823, 51.31582, 2.343739], dtype=float32)]\n",
      "[array([-0.07902402, -2.427289, -2.418796, ..., -60.14733, -24.28555, 30.13657], dtype=float32), array([-0.05558455, -0.1863209, 11.00656, ..., 39.97823, 51.31582, 2.343739], dtype=float32), array([-0.04097127, 0.7651208, 15.67703, ..., -21.87494, 36.72865, 55.21906], dtype=float32)]\n",
      "3\n"
     ]
    }
   ],
   "source": [
    "calibration_data[12] = getData(Nt, decoding_period_s)\n",
    "gc.collect()"
   ]
  },
  {
   "cell_type": "code",
   "execution_count": 20,
   "metadata": {},
   "outputs": [
    {
     "name": "stdout",
     "output_type": "stream",
     "text": [
      "44400\n",
      "44400\n"
     ]
    }
   ],
   "source": [
    "print(gc.mem_free())\n",
    "del runner\n",
    "print(gc.mem_free())"
   ]
  },
  {
   "cell_type": "code",
   "execution_count": 21,
   "metadata": {},
   "outputs": [
    {
     "name": "stdout",
     "output_type": "stream",
     "text": [
      "ADC initialised\n",
      "SPI initialised\n",
      "DigiPot set to 100 = gain of 10.62498\n",
      "45360\n"
     ]
    }
   ],
   "source": [
    "decode = Runner('MsetCCA', buffer_size=Ns) # initialise a base runner\n",
    "decode.setup() # setup peripherals and memory buffers\n",
    "decode.calibrate(calibration_data)\n",
    "print(gc.mem_free())"
   ]
  },
  {
   "cell_type": "code",
   "execution_count": 22,
   "metadata": {},
   "outputs": [],
   "source": [
    "decode.run()"
   ]
  },
  {
   "cell_type": "code",
   "execution_count": 26,
   "metadata": {},
   "outputs": [
    {
     "name": "stdout",
     "output_type": "stream",
     "text": [
      ".\u001b[34m\n",
      "\n",
      "*** Sending Ctrl-C\n",
      "\n",
      "\u001b[0m\u001b[31m[Timed out waiting for recognizable response]\n",
      "\u001b[0m"
     ]
    }
   ],
   "source": [
    "print(decode.decoder.classify(np.array(decode.output_buffer)))"
   ]
  },
  {
   "cell_type": "code",
   "execution_count": 27,
   "metadata": {},
   "outputs": [
    {
     "name": "stdout",
     "output_type": "stream",
     "text": [
      ".\u001b[34m\n",
      "\n",
      "*** Sending Ctrl-C\n",
      "\n",
      "\u001b[0m\u001b[31m[Timed out waiting for recognizable response]\n",
      "\u001b[0m"
     ]
    }
   ],
   "source": [
    "decode.stop()"
   ]
  },
  {
   "cell_type": "code",
   "execution_count": 28,
   "metadata": {},
   "outputs": [
    {
     "name": "stdout",
     "output_type": "stream",
     "text": [
      ".\u001b[34m\n",
      "\n",
      "*** Sending Ctrl-C\n",
      "\n",
      "\u001b[0m\u001b[31m[Timed out waiting for recognizable response]\n",
      "\u001b[0m"
     ]
    }
   ],
   "source": [
    "print(calibration_data)"
   ]
  },
  {
   "cell_type": "code",
   "execution_count": 29,
   "metadata": {},
   "outputs": [
    {
     "name": "stdout",
     "output_type": "stream",
     "text": [
      "1\r\n"
     ]
    }
   ],
   "source": [
    "print(1)"
   ]
  },
  {
   "cell_type": "markdown",
   "metadata": {},
   "source": [
    "### Asynchronous operation\n",
    "Once the `Runner` has been configured and calibrated (if applicable), its internal `run()` loop can be started in which it will asynchronously sample and decode EEG data at preconfigured frequencies. Timing is handled using hardware timers on the ESP32 and interrupts are used to run asynchronous ISRs that handle sampling, preprocessing, filtering and decoding.\n",
    "\n",
    "Note that once the async run loop has begun, you can still run commands or view the `Runner`'s attributes although there may be a noticeable delay since ISRs will typically get higher execution priority and there are quite a few interrupt loops running."
   ]
  },
  {
   "cell_type": "code",
   "execution_count": null,
   "metadata": {},
   "outputs": [],
   "source": [
    "# start sampling and recording data (logging not setup in this case)\n",
    "runner.run()"
   ]
  },
  {
   "cell_type": "code",
   "execution_count": null,
   "metadata": {},
   "outputs": [],
   "source": [
    "# see if runner has indeed started smapling\n",
    "print(runner.is_sampling)"
   ]
  },
  {
   "cell_type": "code",
   "execution_count": null,
   "metadata": {},
   "outputs": [],
   "source": [
    "# display the contents of the output buffer - this will be updated internally by the runner\n",
    "# at a rate determined by the sampling frequency and sample buffer size (typically every 1s)\n",
    "print(runner.output_buffer)"
   ]
  },
  {
   "cell_type": "code",
   "execution_count": null,
   "metadata": {},
   "outputs": [],
   "source": [
    "# decode the contents of the output buffer. There will be a delay here if the runner \n",
    "# is currently running (i.e. `is_sampling=True`).\n",
    "print(runner.decode())"
   ]
  },
  {
   "cell_type": "code",
   "execution_count": null,
   "metadata": {},
   "outputs": [],
   "source": [
    "# stop runner\n",
    "runner.stop()"
   ]
  },
  {
   "cell_type": "markdown",
   "metadata": {},
   "source": [
    "#### Simple decoding loop\n",
    "In order to test online decoding, here is a basic synchronous loop-based option. Interrupt the cell to stop the infinite loop."
   ]
  },
  {
   "cell_type": "code",
   "execution_count": null,
   "metadata": {},
   "outputs": [],
   "source": [
    "import utime as time\n",
    "from lib.runner import Runner\n",
    "\n",
    "Nc = 1\n",
    "Ns = 128\n",
    "Nt = 3\n",
    "stim_freqs = [7, 10, 12]\n",
    "\n",
    "# Here, we select the algorithm. Can be one of ['MsetCCA', 'GCCA', 'CCA']\n",
    "decoding_algo = 'MsetCCA'\n",
    "\n",
    "decode_period_s = 2 # read decoded output every x seconds\n",
    "\n",
    "runner = Runner(decoding_algo, buffer_size=Ns) # initialise a base runner\n",
    "runner.setup()\n",
    "\n",
    "if decoding_algo in ['MsetCCA', 'GCCA']:\n",
    "    from lib.synthetic import synth_X\n",
    "\n",
    "    calibration_data = {f:synth_X(f, Nc, Ns, Nt=Nt) for f in stim_freqs}\n",
    "    runner.calibrate(calibration_data)\n",
    "\n",
    "runner.run() # start async run loop\n",
    "\n",
    "try:\n",
    "    while True:\n",
    "        time.sleep(decode_period_s)\n",
    "        print(runner.decoded_output)\n",
    "except KeyboardInterrupt:\n",
    "    runner.stop()\n",
    "    print('received SIGINT - stopping')"
   ]
  },
  {
   "cell_type": "markdown",
   "metadata": {},
   "source": [
    "### Testing your WiFi connection\n",
    "In order to connect to a local WiFi network, you'll need to supply your network SSID and password in a `.env` file on the board. Doing this is easy: \n",
    "1. On your computer, create a `.env` file using `touch .env`. Update the `.env` file with the required fields:\n",
    "    \n",
    "    ```bash\n",
    "    #.env \n",
    "    WIFI_SSID=<your network name>\n",
    "    WIFI_PASSWORD=<your network password>\n",
    "    \n",
    "    ```\n",
    "    \n",
    "2. Send this file to your target device using the following command:\n",
    "    ```ipython\n",
    "%sendtofile --source lib/.env lib/.env  --binary\n",
    "```\n",
    "\n",
    "You may need to update the local (source) path to your `.env` file depending on where you created/stored it."
   ]
  },
  {
   "cell_type": "code",
   "execution_count": null,
   "metadata": {},
   "outputs": [],
   "source": [
    "%sendtofile --source /Users/rishil/Desktop/.env lib/.env  --binary"
   ]
  },
  {
   "cell_type": "code",
   "execution_count": 34,
   "metadata": {},
   "outputs": [
    {
     "name": "stdout",
     "output_type": "stream",
     "text": [
      "connecting to network...\n",
      "network config: ('192.168.0.76', '255.255.255.0', '192.168.0.1', '194.168.4.100')\n"
     ]
    }
   ],
   "source": [
    "from lib.utils import connect_wifi, load_env_vars\n",
    "from lib.synthetic import synth_X\n",
    "\n",
    "Nc = 1\n",
    "Ns = 128\n",
    "Nt = 3\n",
    "stim_freqs = [7, 10, 12]\n",
    "\n",
    "# Here, we select the algorithm. Can be one of ['MsetCCA', 'GCCA', 'CCA']\n",
    "decoding_algo = 'MsetCCA'\n",
    "calibration_data = {f:synth_X(f, Nc, Ns, Nt=Nt) for f in stim_freqs}\n",
    "\n",
    "env_vars = load_env_vars(\"lib/.env\")\n",
    "# connect WiFI\n",
    "ssid = env_vars.get(\"WIFI_SSID\")\n",
    "password = env_vars.get(\"WIFI_PASSWORD\")\n",
    "connect_wifi(ssid, password)"
   ]
  },
  {
   "cell_type": "markdown",
   "metadata": {},
   "source": [
    "#### Online Runner\n",
    "Now that you've established network connectivitiy, you can test out an `OnlineRunner`. In order to test web logging to a remote server, we can use a basic HTTP logger. However, this obviously needs an API/server willing to accept our requests. There is a basic logging API using `Flask` in `/eeg_lib/logging_server.py`. You can run it using `python logging_server.py` which will spin up a development server on the predefined port (5000 or 5001). Then, just configure your `OnlineRunner` with the appropriate logger params and you're set."
   ]
  },
  {
   "cell_type": "code",
   "execution_count": 35,
   "metadata": {},
   "outputs": [
    {
     "name": "stdout",
     "output_type": "stream",
     "text": [
      "ADC initialised\n",
      "SPI initialised\n",
      "DigiPot set to 100 = gain of 10.62498\n",
      "network config: ('192.168.0.76', '255.255.255.0', '192.168.0.1', '194.168.4.100')\n"
     ]
    }
   ],
   "source": [
    "from lib.runner import OnlineRunner\n",
    "from lib.logging import logger_types\n",
    "\n",
    "api_host = \"http://192.168.0.13:5001/\" # make sure the port corresponds to your logging server configuration\n",
    "log_params = dict(server=api_host, log_period=4, logger_type=logger_types.HTTP, send_raw=True, session_id='test')\n",
    "# runner = OnlineRunner('CCA', buffer_size=256)\n",
    "runner = OnlineRunner(decoding_algo, buffer_size=Ns)\n",
    "runner.setup(**log_params)"
   ]
  },
  {
   "cell_type": "code",
   "execution_count": 36,
   "metadata": {},
   "outputs": [],
   "source": [
    "# start the runner - you should see requests being made to your local server\n",
    "runner.calibrate(calibration_data)\n",
    "runner.run()"
   ]
  },
  {
   "cell_type": "code",
   "execution_count": 37,
   "metadata": {},
   "outputs": [],
   "source": [
    "runner.stop()"
   ]
  },
  {
   "cell_type": "markdown",
   "metadata": {},
   "source": [
    "## Experimentation"
   ]
  },
  {
   "cell_type": "code",
   "execution_count": null,
   "metadata": {},
   "outputs": [],
   "source": [
    "%rebootdevice"
   ]
  },
  {
   "cell_type": "code",
   "execution_count": null,
   "metadata": {},
   "outputs": [],
   "source": [
    "%lsmagic"
   ]
  }
 ],
 "metadata": {
  "kernelspec": {
   "display_name": "MicroPython - USB",
   "language": "micropython",
   "name": "micropython"
  },
  "language_info": {
   "codemirror_mode": "python",
   "file_extension": ".py",
   "mimetype": "text/python",
   "name": "micropython"
  }
 },
 "nbformat": 4,
 "nbformat_minor": 4
}
