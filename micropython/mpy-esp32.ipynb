{
 "cells": [
  {
   "cell_type": "markdown",
   "metadata": {},
   "source": [
    "## MicroPython ESP32 Experimentation"
   ]
  },
  {
   "cell_type": "markdown",
   "metadata": {},
   "source": [
    "### Establishing connection to target board\n",
    "First, make sure you've got the right serial port. On unix-based systems, you can run `ls /dev/tty.*` to see your available serial devices. Replace as necessary below.\n",
    "\n",
    "This will allow Jupyter (your host computer) to run commands and send/receive information to/from your target board in real time using the MicroPython REPL."
   ]
  },
  {
   "cell_type": "code",
   "execution_count": 1,
   "metadata": {},
   "outputs": [
    {
     "name": "stdout",
     "output_type": "stream",
     "text": [
      "\u001b[34mConnecting to --port=/dev/tty.usbserial-0001 --baud=115200 \u001b[0m\n",
      "\u001b[34mReady.\n",
      "\u001b[0m"
     ]
    }
   ],
   "source": [
    "#%serialconnect to --port=\"/dev/tty.usbserial-02U1W54L\" --baud=115200\n",
    "%serialconnect to --port=\"/dev/tty.usbserial-0001\" --baud=115200"
   ]
  },
  {
   "cell_type": "code",
   "execution_count": 59,
   "metadata": {},
   "outputs": [
    {
     "name": "stdout",
     "output_type": "stream",
     "text": [
      "ADC initialised\n",
      "SPI initialised\n",
      "DigiPot set to 100 = gain of 10.62498\n"
     ]
    }
   ],
   "source": [
    "from lib.runner import Runner\n",
    "\n",
    "Nc = 1\n",
    "Ns = 128\n",
    "Nt = 3\n",
    "stim_freqs = [7, 10, 12]\n",
    "\n",
    "# Here, we select the algorithm. Can be one of ['MsetCCA', 'GCCA', 'CCA']\n",
    "decoding_algo = 'CCA'\n",
    "\n",
    "runner = Runner(decoding_algo) # initialise a base runner\n",
    "runner.setup() # setup peripherals and memory buffers"
   ]
  },
  {
   "cell_type": "code",
   "execution_count": 44,
   "metadata": {},
   "outputs": [
    {
     "name": "stdout",
     "output_type": "stream",
     "text": [
      "25.48605\n",
      "-27.88097\n"
     ]
    }
   ],
   "source": []
  },
  {
   "cell_type": "code",
   "execution_count": 52,
   "metadata": {},
   "outputs": [
    {
     "name": "stdout",
     "output_type": "stream",
     "text": [
      "1609\n",
      "1642\n",
      "1725\n",
      "1803\n",
      "\u001b[34m\n",
      "\n",
      "*** Sending Ctrl-C\n",
      "\n",
      "\u001b[0m"
     ]
    },
    {
     "name": "stderr",
     "output_type": "stream",
     "text": [
      "Traceback (most recent call last):\n",
      "  File \"<stdin>\", line 11, in <module>\n",
      "KeyboardInterrupt: \n"
     ]
    }
   ],
   "source": [
    "import machine\n",
    "from machine import Pin, ADC\n",
    "from time import sleep\n",
    "\n",
    "pot = ADC(Pin(33))\n",
    "pot.atten(ADC.ATTN_11DB)       #Full range: 3.3v\n",
    "pot.width(machine.ADC.WIDTH_12BIT)\n",
    "while True:\n",
    "  pot_value = pot.read()\n",
    "  print(pot_value)\n",
    "  sleep(1)"
   ]
  },
  {
   "cell_type": "code",
   "execution_count": 61,
   "metadata": {},
   "outputs": [],
   "source": [
    "runner.run()"
   ]
  },
  {
   "cell_type": "code",
   "execution_count": 64,
   "metadata": {},
   "outputs": [
    {
     "name": "stdout",
     "output_type": "stream",
     "text": [
      "[1798, 2043, 2240, 1999, 1662, 1695, 1943, 2218, 1941, 1737, 1629, 1907, 2246, 2035, 1777, 1607, 1989, 2197, 2112, 1811, 1669, 1877, 2163, 1973, 1747, 1600, 1812, 2195, 2154, 1903, 1651, 1871, 2142, 2221, 1931, 1600, 1771, 2060, 2251, 1859, 1679, 1703, 1996, 2186, 1966, 1729, 1669, 2125, 2250, 2030, 1631, 1759, 1968, 2202, 1969, 1747, 1611, 1883, 2241, 2070, 1807, 1600, 1947, 2179, 2139, 1843, 1631, 1845, 2155, 2182, 1768, 1616, 1785, 2121, 2096, 1877, 1668, 1907, 2173, 2205, 1955, 1619, 1745, 2000, 2246, 1894, 1705, 1676, 2238, 2007, 1609, 1808, 2035, 2208, 1950, 1734, 1603, 1805, 2194, 2171, 1942, 1739, 1749, 1965, 2190, 2176, 1771, 1613, 1755, 1966, 2207, 1981, 1762, 1609, 1936, 2181, 2207, 1802, 1621, 1744, 1949, 2231, 1994, 1775, 1618, 1904, 2163, 2231, 2000, 1661, 1691, 1904, 2163, 2044, 1831, 1665, 1690, 2131, 2240, 2037, 1829, 1663, 1872, 2139, 2086, 1849, 1674, 1671, 2101, 2246, 2064, 1851, 1626, 1845, 2108, 2245, 1906, 1712, 1629, 1840, 2218, 2127, 1909, 1715, 1806, 2033, 2221, 2128, 1735, 1602, 1807, 2192, 2143, 1927, 1727, 1766, 1996, 2197, 2118, 1741, 1603, 1840, 2163, 2047, 1834, 1632, 1808, 2191, 2155, 1901, 1651, 1872, 2142, 2233, 1939, 1605, 1779, 2038, 2085, 1844, 1674, 1698, 2133, 2254, 2000, 1728, 1766, 1985, 2222, 2035, 1686, 1660, 1907, 2199, 1971, 1759, 1607, 1872, 2240, 2071, 1814, 1600, 1957, 2185, 2149, 1713, 1647, 1857, 2146, 2089, 1857, 1653, 1777, 2178, 2192, 1930, 1679, 1840, 2105, 2242, 1958, 1617, 1737, 1994, 2242, 1894, 1711, 1675, 1956, 2212, 1983, 1744, 1807, 2083, 2234, 2064]\n",
      "[2131, 1913, 1699, 1957, 2189, 2186, 1782, 1618, 1740, 1950, 2233, 2001, 1779, 1627, 1901, 2165, 2243, 2011, 1666, 1682, 1894, 2160, 2056, 1837, 1667, 1680, 2131, 2249, 2047, 1699, 1663, 1872, 2139, 2090, 1867, 1687, 1653, 2083, 2233, 2091, 1875, 1606, 1823, 2075, 2225, 1921, 1723, 1610, 1815, 2205, 2144, 1925, 1728, 1790, 2013, 2209, 1965, 1739, 1597, 1796, 2189, 2168, 1949, 1744, 1745, 1967, 2190, 2175, 1776, 1616, 1747, 1953, 2224, 1998, 1776, 1619, 1907, 2166, 2223, 1950, 1602, 1764, 2017, 2099, 1862, 1684, 1690, 2119, 2247, 2011, 1742, 1755, 1968, 2213, 2047, 1695, 1648, 1901, 2193, 1983, 1767, 1599, 1865, 2236, 2092, 1830, 1601, 1937, 2177, 2166, 1719, 1625, 1840, 2131, 2099, 1873, 1662, 1761, 2175, 2210, 1945, 1687, 1831, 2083, 2251, 1977, 1634, 1723, 1972, 2231, 1904, 1716, 1660, 1937, 2224, 1996, 1757, 1792, 2061, 2224, 2078, 1723, 1623, 1871, 2183, 2011, 1791, 1603, 1841, 2214, 2125, 1862, 1623, 1899, 2162, 2197, 1904, 1601, 1807, 2103, 2231, 1814, 1651, 1732, 2192, 2140, 1925, 1711, 1798, 2043, 2240, 1999, 1662, 1695, 1943, 2218, 1941, 1737, 1629, 1907, 2246, 2035, 1777, 1607, 1989, 2197, 2112, 1811, 1669, 1877, 2163, 1973, 1747, 1600, 1812, 2195, 2154, 1903, 1651, 1871, 2142, 2221, 1931, 1600, 1771, 2060, 2251, 1859, 1679, 1703, 1996, 2186, 1966, 1729, 1669, 2125, 2250, 2030, 1631, 1759, 1968, 2202, 1969, 1747, 1611, 1883, 2241, 2070, 1807, 1600, 1947, 2179, 2139, 1843, 1631, 1845, 2155, 2182, 1768, 1616, 1785, 2121, 2096, 1877, 1668, 1907, 2173, 2205, 1955, 1619, 1745, 2000, 2246, 1894, 1705, 1676]\n"
     ]
    }
   ],
   "source": [
    "print(runner.periph_manager.read_adc_buffer())\n",
    "print(runner.output_buffer)"
   ]
  },
  {
   "cell_type": "code",
   "execution_count": 67,
   "metadata": {},
   "outputs": [
    {
     "name": "stdout",
     "output_type": "stream",
     "text": [
      "Sent 247 lines (8219 bytes) to lib/runner.py.\n"
     ]
    }
   ],
   "source": [
    "%sendtofile lib/runner.py --source lib/runner.py"
   ]
  },
  {
   "cell_type": "code",
   "execution_count": 44,
   "metadata": {},
   "outputs": [
    {
     "name": "stdout",
     "output_type": "stream",
     "text": [
      "Sent 473 lines (8718 bytes) to main.py.\n"
     ]
    }
   ],
   "source": [
    "%sendtofile main.py --source main.py"
   ]
  },
  {
   "cell_type": "code",
   "execution_count": null,
   "metadata": {},
   "outputs": [],
   "source": [
    "%sendtofile lib/decodinga.py --source lib/decoding.py"
   ]
  },
  {
   "cell_type": "code",
   "execution_count": null,
   "metadata": {},
   "outputs": [],
   "source": [
    "import network\n",
    "wlan = network.WLAN(network.STA_IF)\n",
    "wlan.active(True)\n",
    "ssid = env_vars.get(\"WIFI_SSID\")\n",
    "password = env_vars.get(\"WIFI_PASSWORD\")\n",
    "wlan.connect('ssid', 'password')\n",
    "print(wlan.ifconfig())"
   ]
  },
  {
   "cell_type": "code",
   "execution_count": 18,
   "metadata": {},
   "outputs": [
    {
     "name": "stdout",
     "output_type": "stream",
     "text": [
      "import utime\n",
      "\n",
      "BASE_CLK_FREQ = 240000000  # 240 MHz for ESP32\n",
      "\n",
      "ADC_SAMPLE_FREQ = 256  # sample freq in Hz\n",
      "\n",
      "RECORDING_LEN_SEC = 4\n",
      "\n",
      "OVERLAP = 0.8\n",
      "\n",
      "DOWNSAMPLED_FREQ = 64  # 64 Hz downsampled  to ensure nyquist condition\n",
      "\n",
      "PREPROCESSING = True  # if true, LP filter and downsample\n",
      "\n",
      "STIM_FREQS = [7, 10, 12]  # stimulus freqs. in Hz\n",
      "\n",
      "DEFAULT_LOG_SESSION = \"test-{0}\".format(utime.ticks_ms())\n",
      "\n",
      "MODE = \"log\"\n",
      "\n",
      "HTTP_LOG_URL = \"http://james-tev.local:5000/\"\n",
      "\n"
     ]
    }
   ],
   "source": [
    "f = open(\"boot.py\", \"r\")\n",
    "print(f.read())"
   ]
  },
  {
   "cell_type": "markdown",
   "metadata": {},
   "source": [
    "## Using a Runner for experimentation and logging\n",
    "The a `Runner` is encapsulates the core functions in this EEG system, including peripheral setup, sampling, signal processing, logging and memory management. The `OnlineRunner` offers mostly the same functionality as the standard `Runner` class, except it allows for logging and other communication with a remote server - either on the Internet or on your local network.\n",
    "\n",
    "### Offline functionality\n",
    "The standard `Runner` is good for testing core functionality without the need for remote logging. See below for initialisation and execution."
   ]
  },
  {
   "cell_type": "code",
   "execution_count": null,
   "metadata": {},
   "outputs": [],
   "source": [
    "from lib.runner import Runner\n",
    "\n",
    "Nc = 1\n",
    "Ns = 128\n",
    "Nt = 3\n",
    "stim_freqs = [7, 10, 12]\n",
    "\n",
    "# Here, we select the algorithm. Can be one of ['MsetCCA', 'GCCA', 'CCA']\n",
    "decoding_algo = 'MsetCCA'\n",
    "\n",
    "runner = Runner(decoding_algo, buffer_size=Ns) # initialise a base runner\n",
    "runner.setup() # setup peripherals and memory buffers"
   ]
  },
  {
   "cell_type": "markdown",
   "metadata": {},
   "source": [
    "### Calibration\n",
    "If you are using an algorithm that leverages calibration data (MsetCCA, GCCA), you will need to record some calibration data to fit the decoder model. This is usually only done once off before inference starts. You may want to recalibrate at some semi-regular interval too though. \n",
    "\n",
    "At the moment, there is not an integrated process to record calibration data in the `Runner` class. You have to record calibration data and provide it to the runner which it will in turn use to fit its internal decoder model. In future, this will hopefully become more integrated and easy. For now, some random calibration data is generated below to illustrate the format which the runner/decoder expects. You need to provide iid calibration data trials for each stimulus frequency.\n",
    "\n",
    "Note that if you try to run calibration using an incompatible algorithm (such as standard CCA), a warning will be generated and the calibration sequence will be skipped."
   ]
  },
  {
   "cell_type": "code",
   "execution_count": null,
   "metadata": {},
   "outputs": [],
   "source": [
    "gc.collect()"
   ]
  },
  {
   "cell_type": "code",
   "execution_count": null,
   "metadata": {},
   "outputs": [],
   "source": [
    "from lib.synthetic import synth_X\n",
    "\n",
    "calibration_data = {f:synth_X(f, Nc, Ns, Nt=Nt) for f in stim_freqs}\n",
    "runner.calibrate(calibration_data)"
   ]
  },
  {
   "cell_type": "code",
   "execution_count": null,
   "metadata": {},
   "outputs": [],
   "source": [
    "print(gc.mem_free())"
   ]
  },
  {
   "cell_type": "markdown",
   "metadata": {},
   "source": [
    "### Decoding\n",
    "When configured with a set of stimulus frequencies $\\mathcal{F}=\\{f_1, \\dots, f_k, \\dots, f_K\\}$, the `Runner`'s decoder model consists of $K$ independent sub-classifiers $\\Phi_k$ that each leverage the decoding algorithm selected. These independent classifiers must be calibrated independently. When the `Runner` is presented a new test observation, each sub-classifier $\\Phi_k$ produces an output correlation estimate corresponding to $f_k$. Ultimately, the runner outputs a dictionary of frequency-correlation pairs of the form\n",
    "```python\n",
    "{f_1: 0.12, f_2: 0.03, f_3: 0.85}\n",
    "```\n",
    "The decoded output frequency is the one corresponding to the largest correlation in this output dictionary. In this example, it would be $f_3$."
   ]
  },
  {
   "cell_type": "code",
   "execution_count": null,
   "metadata": {},
   "outputs": [],
   "source": [
    "test_freq = 7 # 7 Hz test signal\n",
    "test_data = synth_X(test_freq, Nc, Ns, Nt=1)\n",
    "\n",
    "print(runner.decoder.classify(test_data))"
   ]
  },
  {
   "cell_type": "code",
   "execution_count": 16,
   "metadata": {},
   "outputs": [
    {
     "name": "stdout",
     "output_type": "stream",
     "text": [
      "ADC initialised\n",
      "SPI initialised\n",
      "DigiPot set to 100 = gain of 10.62498\n"
     ]
    }
   ],
   "source": [
    "from ulab import numpy as np\n",
    "import utime as time\n",
    "from lib.runner import Runner\n",
    "\n",
    "decode_period_s = 4 # decode every x seconds\n",
    "Nc = 1\n",
    "Ns = 128\n",
    "Nt = 3\n",
    "stim_freqs = [7, 10, 12]\n",
    "decoding_period_s = 4\n",
    "\n",
    "runner = Runner('CCA', buffer_size=Ns)\n",
    "runner.setup() \n",
    "\n",
    "def preprocess_data(signal):\n",
    "    \n",
    "    \"\"\"Preprocess incoming signal before decoding algorithms.\n",
    "    This involves applying a bandpass filter to isolate the target SSVEP range\n",
    "    and then downsampling the signal to the Nyquist boundary.\n",
    "    \n",
    "    Returns:\n",
    "        [np.ndarray]: filtered and downsampled signal\n",
    "    \"\"\"\n",
    "    from lib.signal import sos_filter\n",
    "    downsample_freq = 64\n",
    "    ds_factor = 256//downsample_freq\n",
    "    return sos_filter(signal)[::ds_factor]\n",
    "\n",
    "def collectData(decode_period_s):\n",
    "    \n",
    "    global runner\n",
    "    \n",
    "    time.sleep(decode_period_s)\n",
    "    data = runner.output_buffer\n",
    "#     print(data)\n",
    "    gc.collect()\n",
    "    return np.array(data)\n",
    "\n",
    "def getData(Nt, decode_period_s):\n",
    "\n",
    "    global runner\n",
    "    \n",
    "    runner.run()\n",
    "    \n",
    "    trials = []\n",
    "    time.sleep(5)\n",
    "    count=0\n",
    "    \n",
    "    if Nt <=1:\n",
    "        return collectData(decode_period_s)\n",
    "    for i in range(Nt):\n",
    "        trials.append(collectData(decode_period_s).flatten())\n",
    "        print(trials)\n",
    "    runner.stop()\n",
    "\n",
    "    print(len(trials))\n",
    "\n",
    "    gc.collect()\n",
    "    return np.array(trials)\n"
   ]
  },
  {
   "cell_type": "code",
   "execution_count": 17,
   "metadata": {},
   "outputs": [
    {
     "name": "stdout",
     "output_type": "stream",
     "text": [
      "..[array([0.1022726, 6.393758, 30.04326, ..., -17.88625, 40.25251, 43.99335], dtype=float32)]\n",
      "[array([0.1022726, 6.393758, 30.04326, ..., -17.88625, 40.25251, 43.99335], dtype=float32), array([0.02554362, 4.924626, 34.40299, ..., 13.66638, -37.46715, -46.48108], dtype=float32)]\n",
      ".[array([0.1022726, 6.393758, 30.04326, ..., -17.88625, 40.25251, 43.99335], dtype=float32), array([0.02554362, 4.924626, 34.40299, ..., 13.66638, -37.46715, -46.48108], dtype=float32), array([0.04832244, 5.792087, 36.82669, ..., 47.1671, 5.583657, -50.93529], dtype=float32)]\n",
      "3\n"
     ]
    }
   ],
   "source": [
    "#calibration_data = {f:getData(Nt, decoding_period_s) for f in stim_freqs}\n",
    "calibration_data = {}\n",
    "calibration_data[7] = getData(Nt, decoding_period_s)\n",
    "gc.collect()"
   ]
  },
  {
   "cell_type": "code",
   "execution_count": 18,
   "metadata": {},
   "outputs": [
    {
     "name": "stdout",
     "output_type": "stream",
     "text": [
      "..[array([0.08628019, 6.923466, 38.24591, ..., -18.19421, 34.08795, 46.6745], dtype=float32)]\n",
      "[array([0.08628019, 6.923466, 38.24591, ..., -18.19421, 34.08795, 46.6745], dtype=float32), array([0.05372761, 5.886846, 36.22691, ..., 20.57845, -30.37518, -49.47893], dtype=float32)]\n",
      ".[array([0.08628019, 6.923466, 38.24591, ..., -18.19421, 34.08795, 46.6745], dtype=float32), array([0.05372761, 5.886846, 36.22691, ..., 20.57845, -30.37518, -49.47893], dtype=float32), array([0.1091523, 5.572274, 22.46525, ..., 39.65464, 51.01727, 7.14376], dtype=float32)]\n",
      "3\n"
     ]
    }
   ],
   "source": [
    "calibration_data[10] = getData(Nt, decoding_period_s)\n",
    "gc.collect()"
   ]
  },
  {
   "cell_type": "code",
   "execution_count": 19,
   "metadata": {},
   "outputs": [
    {
     "name": "stdout",
     "output_type": "stream",
     "text": [
      "..[array([-0.07902402, -2.427289, -2.418796, ..., -60.14733, -24.28555, 30.13657], dtype=float32)]\n",
      ".[array([-0.07902402, -2.427289, -2.418796, ..., -60.14733, -24.28555, 30.13657], dtype=float32), array([-0.05558455, -0.1863209, 11.00656, ..., 39.97823, 51.31582, 2.343739], dtype=float32)]\n",
      "[array([-0.07902402, -2.427289, -2.418796, ..., -60.14733, -24.28555, 30.13657], dtype=float32), array([-0.05558455, -0.1863209, 11.00656, ..., 39.97823, 51.31582, 2.343739], dtype=float32), array([-0.04097127, 0.7651208, 15.67703, ..., -21.87494, 36.72865, 55.21906], dtype=float32)]\n",
      "3\n"
     ]
    }
   ],
   "source": [
    "calibration_data[12] = getData(Nt, decoding_period_s)\n",
    "gc.collect()"
   ]
  },
  {
   "cell_type": "code",
   "execution_count": 20,
   "metadata": {},
   "outputs": [
    {
     "name": "stdout",
     "output_type": "stream",
     "text": [
      "44400\n",
      "44400\n"
     ]
    }
   ],
   "source": [
    "print(gc.mem_free())\n",
    "del runner\n",
    "print(gc.mem_free())"
   ]
  },
  {
   "cell_type": "code",
   "execution_count": 21,
   "metadata": {},
   "outputs": [
    {
     "name": "stdout",
     "output_type": "stream",
     "text": [
      "ADC initialised\n",
      "SPI initialised\n",
      "DigiPot set to 100 = gain of 10.62498\n",
      "45360\n"
     ]
    }
   ],
   "source": [
    "decode = Runner('MsetCCA', buffer_size=Ns) # initialise a base runner\n",
    "decode.setup() # setup peripherals and memory buffers\n",
    "decode.calibrate(calibration_data)\n",
    "print(gc.mem_free())"
   ]
  },
  {
   "cell_type": "code",
   "execution_count": 22,
   "metadata": {},
   "outputs": [],
   "source": [
    "decode.run()"
   ]
  },
  {
   "cell_type": "code",
   "execution_count": 26,
   "metadata": {},
   "outputs": [
    {
     "name": "stdout",
     "output_type": "stream",
     "text": [
      ".\u001b[34m\n",
      "\n",
      "*** Sending Ctrl-C\n",
      "\n",
      "\u001b[0m\u001b[31m[Timed out waiting for recognizable response]\n",
      "\u001b[0m"
     ]
    }
   ],
   "source": [
    "print(decode.decoder.classify(np.array(decode.output_buffer)))"
   ]
  },
  {
   "cell_type": "code",
   "execution_count": 27,
   "metadata": {},
   "outputs": [
    {
     "name": "stdout",
     "output_type": "stream",
     "text": [
      ".\u001b[34m\n",
      "\n",
      "*** Sending Ctrl-C\n",
      "\n",
      "\u001b[0m\u001b[31m[Timed out waiting for recognizable response]\n",
      "\u001b[0m"
     ]
    }
   ],
   "source": [
    "decode.stop()"
   ]
  },
  {
   "cell_type": "code",
   "execution_count": 28,
   "metadata": {},
   "outputs": [
    {
     "name": "stdout",
     "output_type": "stream",
     "text": [
      ".\u001b[34m\n",
      "\n",
      "*** Sending Ctrl-C\n",
      "\n",
      "\u001b[0m\u001b[31m[Timed out waiting for recognizable response]\n",
      "\u001b[0m"
     ]
    }
   ],
   "source": [
    "print(calibration_data)"
   ]
  },
  {
   "cell_type": "code",
   "execution_count": 29,
   "metadata": {},
   "outputs": [
    {
     "name": "stdout",
     "output_type": "stream",
     "text": [
      "1\r\n"
     ]
    }
   ],
   "source": [
    "print(1)"
   ]
  },
  {
   "cell_type": "markdown",
   "metadata": {},
   "source": [
    "### Asynchronous operation\n",
    "Once the `Runner` has been configured and calibrated (if applicable), its internal `run()` loop can be started in which it will asynchronously sample and decode EEG data at preconfigured frequencies. Timing is handled using hardware timers on the ESP32 and interrupts are used to run asynchronous ISRs that handle sampling, preprocessing, filtering and decoding.\n",
    "\n",
    "Note that once the async run loop has begun, you can still run commands or view the `Runner`'s attributes although there may be a noticeable delay since ISRs will typically get higher execution priority and there are quite a few interrupt loops running."
   ]
  },
  {
   "cell_type": "code",
   "execution_count": null,
   "metadata": {},
   "outputs": [],
   "source": [
    "# start sampling and recording data (logging not setup in this case)\n",
    "runner.run()"
   ]
  },
  {
   "cell_type": "code",
   "execution_count": null,
   "metadata": {},
   "outputs": [],
   "source": [
    "# see if runner has indeed started smapling\n",
    "print(runner.is_sampling)"
   ]
  },
  {
   "cell_type": "code",
   "execution_count": null,
   "metadata": {},
   "outputs": [],
   "source": [
    "# display the contents of the output buffer - this will be updated internally by the runner\n",
    "# at a rate determined by the sampling frequency and sample buffer size (typically every 1s)\n",
    "print(runner.output_buffer)"
   ]
  },
  {
   "cell_type": "code",
   "execution_count": null,
   "metadata": {},
   "outputs": [],
   "source": [
    "# decode the contents of the output buffer. There will be a delay here if the runner \n",
    "# is currently running (i.e. `is_sampling=True`).\n",
    "print(runner.decode())"
   ]
  },
  {
   "cell_type": "code",
   "execution_count": null,
   "metadata": {},
   "outputs": [],
   "source": [
    "# stop runner\n",
    "runner.stop()"
   ]
  },
  {
   "cell_type": "markdown",
   "metadata": {},
   "source": [
    "#### Simple decoding loop\n",
    "In order to test online decoding, here is a basic synchronous loop-based option. Interrupt the cell to stop the infinite loop."
   ]
  },
  {
   "cell_type": "code",
   "execution_count": null,
   "metadata": {},
   "outputs": [],
   "source": [
    "import utime as time\n",
    "from lib.runner import Runner\n",
    "\n",
    "Nc = 1\n",
    "Ns = 128\n",
    "Nt = 3\n",
    "stim_freqs = [7, 10, 12]\n",
    "\n",
    "# Here, we select the algorithm. Can be one of ['MsetCCA', 'GCCA', 'CCA']\n",
    "decoding_algo = 'MsetCCA'\n",
    "\n",
    "decode_period_s = 2 # read decoded output every x seconds\n",
    "\n",
    "runner = Runner(decoding_algo, buffer_size=Ns) # initialise a base runner\n",
    "runner.setup()\n",
    "\n",
    "if decoding_algo in ['MsetCCA', 'GCCA']:\n",
    "    from lib.synthetic import synth_X\n",
    "\n",
    "    calibration_data = {f:synth_X(f, Nc, Ns, Nt=Nt) for f in stim_freqs}\n",
    "    runner.calibrate(calibration_data)\n",
    "\n",
    "runner.run() # start async run loop\n",
    "\n",
    "try:\n",
    "    while True:\n",
    "        time.sleep(decode_period_s)\n",
    "        print(runner.decoded_output)\n",
    "except KeyboardInterrupt:\n",
    "    runner.stop()\n",
    "    print('received SIGINT - stopping')"
   ]
  },
  {
   "cell_type": "markdown",
   "metadata": {},
   "source": [
    "### Testing your WiFi connection\n",
    "In order to connect to a local WiFi network, you'll need to supply your network SSID and password in a `.env` file on the board. Doing this is easy: \n",
    "1. On your computer, create a `.env` file using `touch .env`. Update the `.env` file with the required fields:\n",
    "    \n",
    "    ```bash\n",
    "    #.env \n",
    "    WIFI_SSID=<your network name>\n",
    "    WIFI_PASSWORD=<your network password>\n",
    "    \n",
    "    ```\n",
    "    \n",
    "2. Send this file to your target device using the following command:\n",
    "    ```ipython\n",
    "%sendtofile --source lib/.env lib/.env  --binary\n",
    "```\n",
    "\n",
    "You may need to update the local (source) path to your `.env` file depending on where you created/stored it."
   ]
  },
  {
   "cell_type": "code",
   "execution_count": null,
   "metadata": {},
   "outputs": [],
   "source": [
    "%sendtofile --source /Users/rishil/Desktop/.env lib/.env  --binary"
   ]
  },
  {
   "cell_type": "code",
   "execution_count": 34,
   "metadata": {},
   "outputs": [
    {
     "name": "stdout",
     "output_type": "stream",
     "text": [
      "connecting to network...\n",
      "network config: ('192.168.0.76', '255.255.255.0', '192.168.0.1', '194.168.4.100')\n"
     ]
    }
   ],
   "source": [
    "from lib.utils import connect_wifi, load_env_vars\n",
    "from lib.synthetic import synth_X\n",
    "\n",
    "Nc = 1\n",
    "Ns = 128\n",
    "Nt = 3\n",
    "stim_freqs = [7, 10, 12]\n",
    "\n",
    "# Here, we select the algorithm. Can be one of ['MsetCCA', 'GCCA', 'CCA']\n",
    "decoding_algo = 'MsetCCA'\n",
    "calibration_data = {f:synth_X(f, Nc, Ns, Nt=Nt) for f in stim_freqs}\n",
    "\n",
    "env_vars = load_env_vars(\"lib/.env\")\n",
    "# connect WiFI\n",
    "ssid = env_vars.get(\"WIFI_SSID\")\n",
    "password = env_vars.get(\"WIFI_PASSWORD\")\n",
    "connect_wifi(ssid, password)"
   ]
  },
  {
   "cell_type": "markdown",
   "metadata": {},
   "source": [
    "#### Online Runner\n",
    "Now that you've established network connectivitiy, you can test out an `OnlineRunner`. In order to test web logging to a remote server, we can use a basic HTTP logger. However, this obviously needs an API/server willing to accept our requests. There is a basic logging API using `Flask` in `/eeg_lib/logging_server.py`. You can run it using `python logging_server.py` which will spin up a development server on the predefined port (5000 or 5001). Then, just configure your `OnlineRunner` with the appropriate logger params and you're set."
   ]
  },
  {
   "cell_type": "code",
   "execution_count": 35,
   "metadata": {},
   "outputs": [
    {
     "name": "stdout",
     "output_type": "stream",
     "text": [
      "ADC initialised\n",
      "SPI initialised\n",
      "DigiPot set to 100 = gain of 10.62498\n",
      "network config: ('192.168.0.76', '255.255.255.0', '192.168.0.1', '194.168.4.100')\n"
     ]
    }
   ],
   "source": [
    "from lib.runner import OnlineRunner\n",
    "from lib.logging import logger_types\n",
    "\n",
    "api_host = \"http://192.168.0.13:5001/\" # make sure the port corresponds to your logging server configuration\n",
    "log_params = dict(server=api_host, log_period=4, logger_type=logger_types.HTTP, send_raw=True, session_id='test')\n",
    "# runner = OnlineRunner('CCA', buffer_size=256)\n",
    "runner = OnlineRunner(decoding_algo, buffer_size=Ns)\n",
    "runner.setup(**log_params)"
   ]
  },
  {
   "cell_type": "code",
   "execution_count": 36,
   "metadata": {},
   "outputs": [],
   "source": [
    "# start the runner - you should see requests being made to your local server\n",
    "runner.calibrate(calibration_data)\n",
    "runner.run()"
   ]
  },
  {
   "cell_type": "code",
   "execution_count": 37,
   "metadata": {},
   "outputs": [],
   "source": [
    "runner.stop()"
   ]
  },
  {
   "cell_type": "markdown",
   "metadata": {},
   "source": [
    "## Experimentation"
   ]
  },
  {
   "cell_type": "code",
   "execution_count": null,
   "metadata": {},
   "outputs": [],
   "source": [
    "%rebootdevice"
   ]
  },
  {
   "cell_type": "code",
   "execution_count": null,
   "metadata": {},
   "outputs": [],
   "source": [
    "%lsmagic"
   ]
  }
 ],
 "metadata": {
  "kernelspec": {
   "display_name": "MicroPython - USB",
   "language": "micropython",
   "name": "micropython"
  },
  "language_info": {
   "codemirror_mode": "python",
   "file_extension": ".py",
   "mimetype": "text/python",
   "name": "micropython"
  }
 },
 "nbformat": 4,
 "nbformat_minor": 4
}
