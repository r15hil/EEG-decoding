{
 "cells": [
  {
   "cell_type": "markdown",
   "metadata": {},
   "source": [
    "## MicroPython ESP32 Experimentation"
   ]
  },
  {
   "cell_type": "markdown",
   "metadata": {},
   "source": [
    "### Establishing connection to target board\n",
    "First, make sure you've got the right serial port. On unix-based systems, you can run `ls /dev/tty.*` to see your available serial devices. Replace as necessary below.\n",
    "\n",
    "This will allow Jupyter (your host computer) to run commands and send/receive information to/from your target board in real time using the MicroPython REPL."
   ]
  },
  {
   "cell_type": "code",
   "execution_count": 24,
   "metadata": {},
   "outputs": [
    {
     "name": "stdout",
     "output_type": "stream",
     "text": [
      "[leftinbuffer] ['ets Jul 29 2019 12:21:46']\n",
      "[leftinbuffer] ['rst:0x1 (POWERON_RESET),boot:0x13 (SPI_FAST_FLASH_BOOT)']\n",
      "[leftinbuffer] ['configsip: 0, SPIWP:0xee']\n",
      "[leftinbuffer] ['clk_drv:0x00,q_drv:0x00,d_drv:0x00,cs0_drv:0x00,hd_drv:0x00,wp_drv:0x00']\n",
      "[leftinbuffer] ['mode:DIO, clock div:2']\n",
      "[leftinbuffer] ['load:0x3fff0018,len:4']\n",
      "[leftinbuffer] ['load:0x3fff001c,len:4252']\n",
      "[leftinbuffer] ['load:0x40078000,len:11920']\n",
      "[leftinbuffer] ['load:0x40080400,len:3344']\n",
      "[leftinbuffer] ['entry 0x4008060c']\n",
      "[leftinbuffer] ['WebREPL daemon started on ws://0.0.0.0:8266']\n",
      "[leftinbuffer] ['Started webrepl in normal mode']\n",
      "[leftinbuffer] ['Traceback (most recent call last):']\n",
      "[leftinbuffer] ['  File \"main.py\", line 31']\n",
      "[leftinbuffer] [\"IndentationError: unindent doesn't match any outer indent level\"]\n",
      "[leftinbuffer] ['MicroPython 97a7cc2-dirty on 2021-11-26; ESP32 module with ESP32']\n",
      "[leftinbuffer] ['Type \"help()\" for more information.']\n",
      "[leftinbuffer] ['>>> ']\n",
      "\u001b[34mConnecting to --port=/dev/tty.usbserial-0001 --baud=115200 \u001b[0m\n",
      "\u001b[34mReady.\n",
      "\u001b[0m"
     ]
    }
   ],
   "source": [
    "#%serialconnect to --port=\"/dev/tty.usbserial-02U1W54L\" --baud=115200\n",
    "# %serialconnect to --port=\"/dev/tty.usbserial-0001\" --baud=115200\n",
    "%serialconnect to --port=\"/dev/tty.usbserial-0001\" --baud=115200"
   ]
  },
  {
   "cell_type": "code",
   "execution_count": 25,
   "metadata": {},
   "outputs": [
    {
     "name": "stdout",
     "output_type": "stream",
     "text": [
      "1\r\n"
     ]
    }
   ],
   "source": [
    "print(1)"
   ]
  },
  {
   "cell_type": "code",
   "execution_count": 13,
   "metadata": {},
   "outputs": [
    {
     "name": "stdout",
     "output_type": "stream",
     "text": [
      "from ulab import numpy as np\n",
      "import gc\n",
      "\n",
      "from .computation import solve_eig_qr, standardise, solve_gen_eig_prob\n",
      "    \n",
      "class CCA(): \n",
      "    def __init__(self, stim_freqs, fs, Nh=2):\n",
      "        self.Nh = Nh\n",
      "        self.stim_freqs = stim_freqs\n",
      "        self.fs = fs\n",
      "        \n",
      "    def compute_corr(self, X_test):            \n",
      "        result = {}\n",
      "        Cxx = np.dot(X_test, X_test.transpose()) # precompute data auto correlation matrix\n",
      "        for f in self.stim_freqs:\n",
      "            Y = harmonic_reference(f, self.fs, np.max(X_test.shape), Nh=self.Nh, standardise_out=False)\n",
      "            rho = self.cca_eig(X_test, Y, Cxx=Cxx) # canonical variable matrices. Xc = X^T.W_x\n",
      "            result[f] = rho\n",
      "        return result\n",
      "    \n",
      "    @staticmethod\n",
      "    def cca_eig(X, Y, Cxx=None, eps=1e-6):\n",
      "        if Cxx is None:\n",
      "            Cxx = np.dot(X, X.transpose()) # auto correlation matrix\n",
      "        Cyy = np.dot(Y, Y.transpose()) \n",
      "        Cxy = np.dot(X, Y.transpose()) # cross correlation matrix\n",
      "        Cyx = np.dot(Y, X.transpose()) # same as Cxy.T\n",
      "\n",
      "        M1 = np.dot(np.linalg.inv(Cxx+eps), Cxy) # intermediate result\n",
      "        M2 = np.dot(np.linalg.inv(Cyy+eps), Cyx)\n",
      "\n",
      "        lam, _ = solve_eig_qr(np.dot(M1, M2), 20)\n",
      "        return np.sqrt(lam)\n",
      "    \n",
      "class UnivariateMsetCCA():\n",
      "    \"\"\"\n",
      "    Multiset CCA algorithm for SSVEP decoding.\n",
      "    \n",
      "    Computes optimised reference signal set based on historical observations\n",
      "    and uses ordinary CCA for final correlation computation given a new test\n",
      "    signal.\n",
      "    \n",
      "    Note: this is a 1 channel implementation (Nc=1)\n",
      "    \"\"\"\n",
      "    \n",
      "    def __init__(self):\n",
      "        self.Ns, self.Nt = None, None\n",
      "        \n",
      "    def fit(self, X, compress_ref=True):\n",
      "        \"\"\"\n",
      "        Expects a training matrix X of shape Nt x Ns. If `compress_ref=True`, the `Nt` components\n",
      "        in optimised reference signal Y will be averaged to form a single reference vector. This\n",
      "        can be used for memory optimisation but will likely degrade performance slightly.         \n",
      "        \"\"\"\n",
      "        if X.shape[0] > X.shape[1]:\n",
      "            print(\"Warning: received more trials than samples. This is unusual behaviour: check orientation of X\"\n",
      "                 )\n",
      "        R = np.dot(X, X.transpose()) # inter trial covariance matrix\n",
      "        S = np.eye(len(R))*np.diag(R) # intra-trial diag covariance matrix\n",
      "\n",
      "        lam, V = solve_gen_eig_prob((R-S), S) # solve generalised eig problem\n",
      "        w = V[:, np.argmax(lam)] # find eigenvector corresp to largest eigenvalue\n",
      "        Y = np.array([x*w[i] for i, x in enumerate(X)]) # store optimised reference vector Nt x Ns\n",
      "        self.Y  = Y\n",
      "        if compress_ref:\n",
      "            self.Y = np.mean(Y, axis=0).reshape((1, max(Y.shape))) # this will average Nt components in Y: Nc x Nt -> 1 x Nt\n",
      "        \n",
      "    def compute_corr(self, X_test):\n",
      "        if self.Y is None:\n",
      "            raise ValueError(\"Reference matrix Y must be computed using `fit` before computing corr\")\n",
      "        if len(X_test.shape) == 1:\n",
      "            X_test = X_test.reshape((1, len(X_test)))\n",
      "        return CCA.cca_eig(X_test, self.Y)[0]\n",
      "    \n",
      "class MsetCCA_SSVEP():\n",
      "    \"\"\"\n",
      "    Extension/utility class for the `UnivariateMsetCCA` class that encapsulates multiple\n",
      "    independent MsetCCA models for the stimulus frequencies of interest. \n",
      "    \n",
      "    Note: this is a 1 channel implementation (Nc=1) inteded for multiple stim freqs.\n",
      "    \"\"\"\n",
      "    \n",
      "    def __init__(self, stim_freqs):\n",
      "        self.stim_freqs = stim_freqs\n",
      "        self.models = {f: UnivariateMsetCCA() for f in stim_freqs} # init independent TRCA models per stim freq\n",
      "\n",
      "    def fit(self, data, compress_ref=True):\n",
      "        '''\n",
      "        Fit the independent Nf MsetCCA models using input data map. Expects this data map to \n",
      "        be of the form {7: X_7, 10: X_10, ...} where Xi is the training data matrix for freq i\n",
      "        and has shape Nt x Ns. Nc is assumed to be 1 in this implementation.\n",
      "        '''\n",
      "        for stim_freq in data:\n",
      "            if stim_freq not in self.stim_freqs:\n",
      "                raise ValueError(\"Expected data map to only contain stim freqs\")\n",
      "            self.models[stim_freq].fit(data[stim_freq], compress_ref=compress_ref)\n",
      "    \n",
      "    def classify(self, X_test):        \n",
      "        return {f: self.models[f].compute_corr(X_test) for f in self.stim_freqs}        \n",
      "\n",
      "def harmonic_reference(f0, fs, Ns, Nh=1, standardise_out=False):\n",
      "    \n",
      "    '''\n",
      "    Generate reference signals for canonical correlation analysis (CCA)\n",
      "    -based steady-state visual evoked potentials (SSVEPs) detection [1, 2].\n",
      "    function [ y_ref ] = cca_reference(listFreq, fs,  Ns, Nh) \n",
      "    Input:\n",
      "      f0        : stimulus frequency\n",
      "      fs              : Sampling frequency\n",
      "      Ns              : # of samples in trial\n",
      "      Nh          : # of harmonics\n",
      "    Output:\n",
      "      y_ref           : Generated reference signals with shape (Nf, Ns, 2*Nh)\n",
      "    '''  \n",
      "    X = np.zeros((Nh*2, Ns))\n",
      "    \n",
      "    for harm_i in range(Nh):\n",
      "        # Sin and Cos\n",
      "        X[2*harm_i, :] = np.sin(np.arange(1,Ns+1)*(1/fs)*2*np.pi*(harm_i+1)*f0)\n",
      "        gc.collect()\n",
      "        X[2*harm_i+1, :] = np.cos(np.arange(1,Ns+1)*(1/fs)*2*np.pi*(harm_i+1)*f0)\n",
      "        gc.collect()\n",
      "\n",
      "    # print(micropython.mem_info(1))\n",
      "    if standardise_out: # zero mean, unit std. dev\n",
      "        return standardise(X)\n",
      "    return X\n",
      "\n"
     ]
    }
   ],
   "source": [
    "f = open(\"lib/decoding.py\", \"r\")\n",
    "print(f.read())"
   ]
  },
  {
   "cell_type": "code",
   "execution_count": 6,
   "metadata": {},
   "outputs": [
    {
     "name": "stdout",
     "output_type": "stream",
     "text": [
      "Listing directory '/'.\n",
      "      159    boot.py\n",
      "             lib/\n",
      "      685    main.py\n",
      "             ulab/\n",
      "       15    webrepl_cfg.py\n"
     ]
    }
   ],
   "source": [
    "%ls"
   ]
  },
  {
   "cell_type": "code",
   "execution_count": 41,
   "metadata": {},
   "outputs": [],
   "source": [
    "from lib.decoding import CCA"
   ]
  },
  {
   "cell_type": "markdown",
   "metadata": {},
   "source": [
    "### Using a Runner for experimentation and logging\n",
    "The a `Runner` is encapsulates the core functions in this EEG system, including peripheral setup, sampling, signal processing, logging and memory management. The `OnlineRunner` offers mostly the same functionality as the standard `Runner` class, except it allows for logging and other communication with a remote server - either on the Internet or on your local network.\n",
    "\n",
    "#### Offline functionality\n",
    "The standard `Runner` is good for testing core functionality without the need for remote logging. See below for initialisation and execution."
   ]
  },
  {
   "cell_type": "code",
   "execution_count": 26,
   "metadata": {},
   "outputs": [
    {
     "name": "stdout",
     "output_type": "stream",
     "text": [
      "ADC initialised\n",
      "SPI initialised\n",
      "DigiPot set to 100 = gain of 10.62498\n"
     ]
    }
   ],
   "source": [
    "from lib.runner import OnlineRunner, Runner\n",
    "\n",
    "runner = Runner() # initialise a base runner\n",
    "runner.setup() # setup peripherals and memory buffers"
   ]
  },
  {
   "cell_type": "code",
   "execution_count": 19,
   "metadata": {},
   "outputs": [
    {
     "name": "stdout",
     "output_type": "stream",
     "text": [
      "Listing directory '/'.\n",
      "     3116    .env\n",
      "      139    boot.py\n",
      "             lib/\n",
      "      935    main.py\n"
     ]
    }
   ],
   "source": [
    "%ls"
   ]
  },
  {
   "cell_type": "code",
   "execution_count": 48,
   "metadata": {},
   "outputs": [],
   "source": [
    "# start sampling and recording data (logging not setup in this case)\n",
    "runner.run()"
   ]
  },
  {
   "cell_type": "code",
   "execution_count": 27,
   "metadata": {},
   "outputs": [
    {
     "name": "stdout",
     "output_type": "stream",
     "text": [
      "False\r\n"
     ]
    }
   ],
   "source": [
    "# see if runner has indeed started smapling\n",
    "print(runner.is_sampling)"
   ]
  },
  {
   "cell_type": "code",
   "execution_count": 29,
   "metadata": {},
   "outputs": [
    {
     "name": "stdout",
     "output_type": "stream",
     "text": [
      "[0.0, 0.0, 0.0, 0.0, 0.0, 0.0, 0.0, 0.0, 0.0, 0.0, 0.0, 0.0, 0.0, 0.0, 0.0, 0.0, 0.0, 0.0, 0.0, 0.0, 0.0, 0.0, 0.0, 0.0, 0.0, 0.0, 0.0, 0.0, 0.0, 0.0, 0.0, 0.0, 0.0, 0.0, 0.0, 0.0, 0.0, 0.0, 0.0, 0.0, 0.0, 0.0, 0.0, 0.0, 0.0, 0.0, 0.0, 0.0, 0.0, 0.0, 0.0, 0.0, 0.0, 0.0, 0.0, 0.0, 0.0, 0.0, 0.0, 0.0, 0.0, 0.0, 0.0, 0.0, 0.0, 0.0, 0.0, 0.0, 0.0, 0.0, 0.0, 0.0, 0.0, 0.0, 0.0, 0.0, 0.0, 0.0, 0.0, 0.0, 0.0, 0.0, 0.0, 0.0, 0.0, 0.0, 0.0, 0.0, 0.0, 0.0, 0.0, 0.0, 0.0, 0.0, 0.0, 0.0, 0.0, 0.0, 0.0, 0.0, 0.0, 0.0, 0.0, 0.0, 0.0, 0.0, 0.0, 0.0, 0.0, 0.0, 0.0, 0.0, 0.0, 0.0, 0.0, 0.0, 0.0, 0.0, 0.0, 0.0, 0.0, 0.0, 0.0, 0.0, 0.0, 0.0, 0.0, 0.0, 0.0, 0.0, 0.0, 0.0, 0.0, 0.0, 0.0, 0.0, 0.0, 0.0, 0.0, 0.0, 0.0, 0.0, 0.0, 0.0, 0.0, 0.0, 0.0, 0.0, 0.0, 0.0, 0.0, 0.0, 0.0, 0.0, 0.0, 0.0, 0.0, 0.0, 0.0, 0.0, 0.0, 0.0, 0.0, 0.0, 0.0, 0.0, 0.0, 0.0, 0.0, 0.0, 0.0, 0.0, 0.0, 0.0, 0.0, 0.0, 0.0, 0.0, 0.0, 0.0, 0.0, 0.0, 0.0, 0.0, 0.0, 0.0, 0.0, 0.0, 0.0, 0.0, 0.0, 0.0, 0.0, 0.0, 0.0, 0.0, 0.0, 0.0, 0.0, 0.0, 0.0, 0.0, 0.0, 0.0, 0.0, 0.0, 0.0, 0.0, 0.0, 0.0, 0.0, 0.0, 0.0, 0.0, 0.0, 0.0, 0.0, 0.0, 0.0, 0.0, 0.0, 0.0, 0.0, 0.0, 0.0, 0.0, 0.0, 0.0, 0.0, 0.0, 0.0, 0.0, 0.0, 0.0, 0.0, 0.0, 0.0, 0.0, 0.0, 0.0, 0.0, 0.0, 0.0, 0.0, 0.0, 0.0, 0.0, 0.0, 0.0, 0.0, 0.0, 0.0, 0.0, 0.0, 0.0, 0.0]\n",
      "256\n"
     ]
    }
   ],
   "source": [
    "# display the contents of the output buffer - this will be updated internally by the runner\n",
    "# at a rate determined by the sampling frequency and sample buffer size (typically every 1s)\n",
    "\n",
    "data = runner.output_buffer\n",
    "print(data)\n",
    "\n",
    "print(len(data))"
   ]
  },
  {
   "cell_type": "code",
   "execution_count": 51,
   "metadata": {},
   "outputs": [
    {
     "name": "stdout",
     "output_type": "stream",
     "text": [
      "{12: 0.1099, 10: 0.10414, 7: 0.10239}\r\n"
     ]
    }
   ],
   "source": [
    "# decode the contents of the output buffer. This will return a dictionary whose keys are the\n",
    "# candidate SSVEP stimulus frequencies and the values, their corresponding output correlation\n",
    "# estimate\n",
    "\n",
    "print(runner.decode())"
   ]
  },
  {
   "cell_type": "code",
   "execution_count": 54,
   "metadata": {},
   "outputs": [],
   "source": [
    "# stop runner\n",
    "runner.stop()"
   ]
  },
  {
   "cell_type": "markdown",
   "metadata": {},
   "source": [
    "#### Simple decoding loop\n",
    "In order to test online decoding, here is a basic synchronous loop-based option. Interrupt the cell to stop the infinite loop."
   ]
  },
  {
   "cell_type": "code",
   "execution_count": 15,
   "metadata": {},
   "outputs": [
    {
     "name": "stdout",
     "output_type": "stream",
     "text": [
      "ADC initialised\n",
      "SPI initialised\n",
      "DigiPot set to 100 = gain of 10.62498\n",
      ".{12: 0.14879, 10: 0.15583, 7: 0.19995}\n",
      "{12: 0.17969, 10: 0.09285999, 7: 0.0784}\n",
      ".{12: 0.15405, 10: 0.08632, 7: 0.16962}\n",
      "{12: 0.14294, 10: 0.16699, 7: 0.13486}\n",
      "{12: 0.11997, 10: 0.06483999, 7: 0.05444}\n",
      "\u001b[34m\n",
      "\n",
      "*** Sending Ctrl-C\n",
      "\n",
      "\u001b[0mreceived SIGINT - stopping\n"
     ]
    }
   ],
   "source": [
    "import utime as time\n",
    "from lib.runner import Runner\n",
    "\n",
    "decode_period_s = 2 # decode every x seconds\n",
    "\n",
    "runner = Runner() # initialise a base runner\n",
    "runner.setup()\n",
    "\n",
    "runner.run() # start sampling\n",
    "\n",
    "try:\n",
    "    while True:\n",
    "        time.sleep(decode_period_s)\n",
    "        print(runner.decode())\n",
    "except KeyboardInterrupt:\n",
    "    print('received SIGINT - stopping')"
   ]
  },
  {
   "cell_type": "code",
   "execution_count": 40,
   "metadata": {},
   "outputs": [
    {
     "name": "stdout",
     "output_type": "stream",
     "text": [
      "ADC initialised\n",
      "SPI initialised\n",
      "DigiPot set to 100 = gain of 10.62498\n",
      "..(512,)\n",
      "(2, 256)\n"
     ]
    }
   ],
   "source": [
    "from ulab import numpy as np\n",
    "import utime as time\n",
    "from lib.runner import Runner\n",
    "\n",
    "decode_period_s = 2 # decode every x seconds\n",
    "number_of_calibrations = 2\n",
    "\n",
    "runner = Runner() # initialise a base runner\n",
    "runner.setup()\n",
    "\n",
    "data = np.array([])\n",
    "runner.run() #depending on implementation, if already running then not needed, however may want to manually call this\n",
    "time.sleep(5)\n",
    "count=0\n",
    "\n",
    "while count < number_of_calibrations:\n",
    "    time.sleep(decode_period_s)\n",
    "    data = np.concatenate((data,np.array(runner.output_buffer)))\n",
    "    count+=1\n",
    "\n",
    "runner.stop()\n",
    "\n",
    "print(data.shape)\n",
    "\n",
    "data = data.reshape((number_of_calibrations,256))\n",
    "\n",
    "print(data.shape)\n"
   ]
  },
  {
   "cell_type": "code",
   "execution_count": 20,
   "metadata": {},
   "outputs": [],
   "source": [
    "runner.stop()"
   ]
  },
  {
   "cell_type": "code",
   "execution_count": 23,
   "metadata": {},
   "outputs": [
    {
     "name": "stdout",
     "output_type": "stream",
     "text": [
      "{12: 0.1331, 10: 0.14276, 7: 0.09122}\r\n"
     ]
    }
   ],
   "source": [
    "print(runner.decode())"
   ]
  },
  {
   "cell_type": "code",
   "execution_count": null,
   "metadata": {},
   "outputs": [],
   "source": [
    "NORMAL CCA\n",
    "7hz\n",
    "{12: 0.09985, 10: 0.08019, 7: 0.05285} :  12\n",
    "{12: 0.30064, 10: 0.13745, 7: 0.09656} :  12\n",
    ".{12: 0.26374, 10: 0.1088, 7: 0.11329} :  12\n",
    "{12: 0.28618, 10: 0.11051, 7: 0.14379} :  12\n",
    ".{12: 0.21606, 10: 0.10466, 7: 0.11286} :  12\n",
    "{12: 0.27251, 10: 0.09596, 7: 0.10037} :  12\n",
    ".{12: 0.10679, 10: 0.11819, 7: 0.1399} :  7\n",
    "{12: 0.22721, 10: 0.17712, 7: 0.09253} :  12\n",
    "{12: 0.12842, 10: 0.1086, 7: 0.06267} :  12\n",
    "    \n",
    "10hz\n",
    "12: 0.09736, 10: 0.04251, 7: 0.05008} :  12\n",
    "{12: 0.02714, 10: 0.03751, 7: 0.01752} :  10\n",
    ".{12: 0.09417, 10: 0.09463, 7: 0.12726} :  7\n",
    "{12: 0.20466, 10: 0.15183, 7: 0.10772} :  12\n",
    ".{12: 0.10881, 10: 0.08183001, 7: 0.08652} :  12\n",
    "{12: 0.28923, 10: 0.07327, 7: 0.0991} :  12\n",
    ".{12: 0.10173, 10: 0.05764, 7: 0.09438} :  12\n",
    "{12: 0.16551, 10: 0.14892, 7: 0.08412999} :  12\n",
    "{12: 0.08233, 10: 0.04017, 7: 0.10037} :  7\n",
    ".{12: 0.09879, 10: 0.04898, 7: 0.10917} :  7\n",
    "{12: 0.05018, 10: 0.09307, 7: 0.17937} :  7\n",
    "\n",
    "12hz\n",
    "{12: 0.05586, 10: 0.07374, 7: 0.0478} :  10\n",
    "{12: 0.1193, 10: 0.10566, 7: 0.07898999} :  12\n",
    ".{12: 0.16063, 10: 0.094, 7: 0.11783} :  12\n",
    "{12: 0.09403, 10: 0.07389, 7: 0.08966} :  12\n",
    ".{12: 0.13845, 10: 0.13321, 7: 0.05538} :  12\n",
    "{12: 0.1462, 10: 0.12491, 7: 0.0983} :  12\n",
    ".{12: 0.09631, 10: 0.07609, 7: 0.12846} :  7\n",
    "{12: 0.10075, 10: 0.08919, 7: 0.11311} :  7\n",
    "{12: 0.03189, 10: 0.03725, 7: 0.05136} :  7\n",
    ".{12: 0.04783, 10: 0.05685, 7: 0.0753} :  7\n",
    "{12: 0.02614, 10: 0.06317, 7: 0.03992} :  10\n",
    ".{12: 0.00714, 10: 0.0303, 7: 0.02334} :  10"
   ]
  },
  {
   "cell_type": "markdown",
   "metadata": {},
   "source": [
    "### Testing your WiFi connection\n",
    "In order to connect to a local WiFi network, you'll need to supply your network SSID and password in a `.env` file on the board. Doing this is easy: \n",
    "1. On your computer, create a `.env` file using `touch .env`. Update the `.env` file with the required fields:\n",
    "    \n",
    "    ```bash\n",
    "    #.env \n",
    "    WIFI_SSID=<your network name>\n",
    "    WIFI_PASSWORD=<your network password>\n",
    "    \n",
    "    ```\n",
    "    \n",
    "2. Send this file to your target device using the following command:\n",
    "    ```ipython\n",
    "%sendtofile --source lib/.env lib/.env  --binary\n",
    "```\n",
    "\n",
    "You may need to update the local (source) path to your `.env` file depending on where you created/stored it."
   ]
  },
  {
   "cell_type": "code",
   "execution_count": 7,
   "metadata": {},
   "outputs": [
    {
     "name": "stdout",
     "output_type": "stream",
     "text": [
      "Sent 55 bytes in 2 chunks to lib/.env.\n"
     ]
    }
   ],
   "source": [
    "%sendtofile --source /Users/rishil/Desktop/.env lib/.env  --binary"
   ]
  },
  {
   "cell_type": "code",
   "execution_count": 17,
   "metadata": {},
   "outputs": [
    {
     "name": "stdout",
     "output_type": "stream",
     "text": [
      "connecting to network...\n",
      "\u001b[34m\n",
      "\n",
      "*** Sending Ctrl-C\n",
      "\n",
      "\u001b[0m"
     ]
    },
    {
     "name": "stderr",
     "output_type": "stream",
     "text": [
      "Traceback (most recent call last):\n",
      "  File \"<stdin>\", line 7, in <module>\n",
      "  File \"lib/utils.py\", line 44, in connect_wifi\n",
      "KeyboardInterrupt: \n"
     ]
    }
   ],
   "source": [
    "from lib.utils import connect_wifi, load_env_vars\n",
    "\n",
    "env_vars = load_env_vars(\"lib/.env\")\n",
    "# connect WiFI\n",
    "ssid = env_vars.get(\"WIFI_SSID\")\n",
    "password = env_vars.get(\"WIFI_PASSWORD\")\n",
    "connect_wifi(ssid, password)"
   ]
  },
  {
   "cell_type": "markdown",
   "metadata": {},
   "source": [
    "#### Online Runner\n",
    "Now that you've established network connectivitiy, you can test out an `OnlineRunner`. In order to test web logging to a remote server, we can use a basic HTTP logger. However, this obviously needs an API/server willing to accept our requests. There is a basic logging API using `Flask` in `/eeg_lib/logging_server.py`. You can run it using `python logging_server.py` which will spin up a development server on the predefined port (5000 or 5001). Then, just configure your `OnlineRunner` with the appropriate logger params and you're set."
   ]
  },
  {
   "cell_type": "code",
   "execution_count": 116,
   "metadata": {},
   "outputs": [
    {
     "name": "stdout",
     "output_type": "stream",
     "text": [
      "ADC initialised\n",
      "SPI initialised\n",
      "DigiPot set to 100 = gain of 10.62498\n",
      "network config: ('192.168.0.68', '255.255.255.0', '192.168.0.1', '194.168.4.100')\n"
     ]
    }
   ],
   "source": [
    "from lib.runner import OnlineRunner\n",
    "from lib.logging import logger_types\n",
    "\n",
    "api_host = \"http://192.168.0.13:5001/\" # make sure the port corresponds to your logging server configuration\n",
    "log_params = dict(server=api_host, log_period=4, logger_type=logger_types.HTTP, send_raw=True, session_id='eeg_log')\n",
    "\n",
    "runner = OnlineRunner()\n",
    "runner.setup(**log_params)"
   ]
  },
  {
   "cell_type": "code",
   "execution_count": 119,
   "metadata": {},
   "outputs": [],
   "source": [
    "# start the runner - you should see requests being made to your local server\n",
    "runner.run()"
   ]
  },
  {
   "cell_type": "code",
   "execution_count": 120,
   "metadata": {},
   "outputs": [],
   "source": [
    "runner.stop()"
   ]
  },
  {
   "cell_type": "code",
   "execution_count": null,
   "metadata": {},
   "outputs": [],
   "source": []
  },
  {
   "cell_type": "markdown",
   "metadata": {},
   "source": [
    "## Experimentation"
   ]
  },
  {
   "cell_type": "code",
   "execution_count": 16,
   "metadata": {},
   "outputs": [],
   "source": [
    "import urandom\n",
    "\n",
    "def synth_x(f, Ns, noise_power=0.5, fs=250):\n",
    "    \"\"\"\n",
    "    generate a synthetic signal vector\n",
    "    \n",
    "    args:\n",
    "    Ns [int]: number of samples (time samples)\n",
    "    noise_power [float]: variance of WGN noise distribution\n",
    "    \"\"\"\n",
    "    t = np.arange(0, Ns/fs, 1/fs)\n",
    "    return np.sin(t*2*np.pi*f)*(1+urandom.random()*noise_power)\n",
    "\n",
    "def synth_X(f, Nc, Ns, noise_power=0.5, fs=200, f_std=0.02):\n",
    "    \"\"\"\n",
    "    Generate a matrix of several variations of the same target signal. This is used\n",
    "    to simulate the measurement of a common signal over multiple EEG channels \n",
    "    that have different SNR characteristics.\n",
    "    \n",
    "    args:\n",
    "    f [float]: target frequency of synthetic signal (Hz)\n",
    "    Nc [int]: number of channels\n",
    "    Ns [int]: number of samples (time samples)\n",
    "    noise_power [float]: variance of WGN noise distribution\n",
    "    fs [float]: sampling frequency (Hz)\n",
    "    f_std [float]: standard dev. of freq. in generated signal across channels to simulate interference from other frequency components over different channels\n",
    "    \"\"\"\n",
    "    X = []\n",
    "    for i in range(Nc): # simulate noisy sinusoids with varying SNR across Nc channels\n",
    "        f_i = f*(1+urandom.random()*f_std)\n",
    "        x = synth_x(f_i, Ns, noise_power=noise_power)\n",
    "\n",
    "        X.append(x)\n",
    "        \n",
    "    return np.array(X)"
   ]
  },
  {
   "cell_type": "code",
   "execution_count": 23,
   "metadata": {},
   "outputs": [
    {
     "name": "stdout",
     "output_type": "stream",
     "text": [
      "{12: 0.09335411, 10: 0.1326894, 7: 0.5633128}\r\n"
     ]
    }
   ],
   "source": [
    "from lib.decoding import harmonic_reference, CCA\n",
    "from lib.computation import solve_gen_eig_prob\n",
    "from ulab import numpy as np\n",
    "\n",
    "gc.collect()\n",
    "\n",
    "f0 = 7\n",
    "stim_freqs = [7, 10, 12]\n",
    "fs = 200\n",
    "\n",
    "# generate a synthetic noisy signal at 7Hz over 2 channels with 100 samples\n",
    "X_test = synth_X(7, 2, 100)\n",
    "\n",
    "cca = CCA(stim_freqs, fs)\n",
    "\n",
    "print({f: vals[0] for f, vals in cca.compute_corr(X_test).items()})\n"
   ]
  },
  {
   "cell_type": "code",
   "execution_count": 18,
   "metadata": {},
   "outputs": [],
   "source": [
    "from lib.decoding import harmonic_reference\n",
    "\n",
    "X = X_test\n",
    "Y = harmonic_reference(7, 200, np.max(X_test.shape), Nh=2, standardise_out=True)"
   ]
  },
  {
   "cell_type": "code",
   "execution_count": 19,
   "metadata": {},
   "outputs": [],
   "source": [
    "from lib.decoding import harmonic_reference\n",
    "from lib.computation import max_eig\n",
    "\n",
    "X = X_test\n",
    "Y = harmonic_reference(7, 200, np.max(X_test.shape), Nh=2, standardise_out=True)\n",
    "\n",
    "Cxx = np.dot(X, X.transpose()) # auto correlation matrix\n",
    "Cyy = np.dot(Y, Y.transpose()) \n",
    "Cxy = np.dot(X, Y.transpose()) # cross correlation matrix\n",
    "Cyx = np.dot(Y, X.transpose()) # same as Cxy.T\n",
    "\n",
    "M1 = np.dot(np.linalg.inv(Cxx), Cxy) # intermediate result\n",
    "M2 = np.dot(np.linalg.inv(Cyy), Cyx)\n",
    "\n",
    "lam, _ = max_eig(np.dot(M1, M2), 20)"
   ]
  },
  {
   "cell_type": "code",
   "execution_count": 20,
   "metadata": {},
   "outputs": [
    {
     "name": "stdout",
     "output_type": "stream",
     "text": [
      "0.3366819\r\n"
     ]
    }
   ],
   "source": [
    "print(lam)"
   ]
  },
  {
   "cell_type": "code",
   "execution_count": 21,
   "metadata": {},
   "outputs": [],
   "source": [
    "def zeros_like(A):\n",
    "    return np.zeros(A.shape)\n",
    "\n",
    "def block_diag(X, Y, reverse=False):\n",
    "    if not reverse:\n",
    "        X = np.concatenate((X, zeros_like(X)), axis=1)\n",
    "        Y = np.concatenate((zeros_like(Y), Y), axis=1)\n",
    "    else:\n",
    "        X = np.concatenate((zeros_like(X), X), axis=1)\n",
    "        Y = np.concatenate((Y, zeros_like(Y)), axis=1)\n",
    "    return np.concatenate((X, Y), axis=0)"
   ]
  },
  {
   "cell_type": "code",
   "execution_count": 52,
   "metadata": {},
   "outputs": [
    {
     "name": "stdout",
     "output_type": "stream",
     "text": [
      "Listing directory 'lib'.\n",
      "       53    lib/.env\n",
      "        0    lib/__init__.py\n",
      "             lib/__pycache__/\n",
      "     4006    lib/computation.py\n",
      "      446    lib/config.py\n",
      "     2323    lib/decoding.py\n",
      "      855    lib/diagnostics.py\n",
      "     3503    lib/logging.py\n",
      "     1254    lib/networking.py\n",
      "     5697    lib/peripherals.py\n",
      "    27364    lib/requests.py\n",
      "     7664    lib/runner.py\n",
      "     1911    lib/scheduling.py\n",
      "     2067    lib/signal.py\n",
      "     6570    lib/umqtt.py\n",
      "     1691    lib/utils.py\n",
      "             lib/websocket/\n",
      "      976    lib/websockets.py\n"
     ]
    }
   ],
   "source": [
    "%ls --recursive lib"
   ]
  },
  {
   "cell_type": "code",
   "execution_count": 12,
   "metadata": {},
   "outputs": [
    {
     "name": "stdout",
     "output_type": "stream",
     "text": [
      "Sent 5219 bytes in 174 chunks to lib/decoding.py.\n"
     ]
    }
   ],
   "source": [
    "%sendtofile --source lib/decoding.py lib/decoding.py  --binary"
   ]
  },
  {
   "cell_type": "code",
   "execution_count": 102,
   "metadata": {},
   "outputs": [
    {
     "name": "stdout",
     "output_type": "stream",
     "text": [
      "Sent 233 lines (7664 bytes) to lib/runner.py.\n"
     ]
    }
   ],
   "source": [
    "%sendtofile lib/runner.py --source lib/runner.py"
   ]
  },
  {
   "cell_type": "code",
   "execution_count": 82,
   "metadata": {},
   "outputs": [
    {
     "name": "stdout",
     "output_type": "stream",
     "text": [
      "repl is in normal command mode\n",
      "[\\r\\x03\\x03] b'\\r\\nMicroPython 97a7cc2-dirty on 2021-11-26; ESP32 module with ESP32\\r\\nType \"help()\" for more information.\\r\\n>>> \\r\\n>>> \\r\\nMPY: soft reboot\\r\\nMicroPython 97a7cc2-dirty on 2021-11-26; ESP32 module with ESP32\\r\\nType \"help()\" for more information.\\r\\n>>> \\r\\n>>> \\r\\n>>> '\n",
      "[\\r\\x01] b'\\r\\n>>> \\r\\nraw REPL; CTRL-B to exit\\r\\n>'"
     ]
    }
   ],
   "source": [
    "%rebootdevice"
   ]
  },
  {
   "cell_type": "code",
   "execution_count": 56,
   "metadata": {},
   "outputs": [
    {
     "name": "stdout",
     "output_type": "stream",
     "text": [
      "%capture [--quiet] [--QUIET] outputfilename\n",
      "    records output to a file\n",
      "\n",
      "%comment\n",
      "    print this into output\n",
      "\n",
      "%disconnect [--raw]\n",
      "    disconnects from web/serial connection\n",
      "\n",
      "%esptool [--port PORT] {erase,esp32,esp8266} [binfile]\n",
      "    commands for flashing your esp-device\n",
      "\n",
      "%fetchfile [--binary] [--print] [--load] [--quiet] [--QUIET]\n",
      "                  sourcefilename [destinationfilename]\n",
      "    fetch and save a file from the device\n",
      "\n",
      "%ls [--recurse] [dirname]\n",
      "    list files on the device\n",
      "\n",
      "%lsmagic\n",
      "    list magic commands\n",
      "\n",
      "%mpy-cross [--set-exe SET_EXE] [pyfile]\n",
      "    cross-compile a .py file to a .mpy file\n",
      "\n",
      "%readbytes [--binary]\n",
      "    does serial.read_all()\n",
      "\n",
      "%rebootdevice\n",
      "    reboots device\n",
      "\n",
      "%sendtofile [--append] [--mkdir] [--binary] [--execute]\n",
      "                   [--source [SOURCE]] [--quiet] [--QUIET]\n",
      "                   [destinationfilename]\n",
      "    send cell contents or file/direcectory to the device\n",
      "\n",
      "%serialconnect [--raw] [--port PORT] [--baud BAUD] [--verbose]\n",
      "    connects to a device over USB wire\n",
      "\n",
      "%socketconnect [--raw] ipnumber portnumber\n",
      "    connects to a socket of a device over wifi\n",
      "\n",
      "%suppressendcode\n",
      "    doesn't send x04 or wait to read after sending the contents of the cell\n",
      "  (assists for debugging using %writebytes and %readbytes)\n",
      "\n",
      "%websocketconnect [--raw] [--password PASSWORD] [--verbose]\n",
      "                         [websocketurl]\n",
      "    connects to the webREPL websocket of an ESP8266 over wifi\n",
      "    websocketurl defaults to ws://192.168.4.1:8266 but be sure to be connected\n",
      "\n",
      "%writebytes [--binary] [--verbose] stringtosend\n",
      "    does serial.write() of the python quoted string given\n",
      "\n",
      "%%writefile [--append] [--execute] destinationfilename\n",
      "    write contents of cell to a file\n",
      "\n"
     ]
    }
   ],
   "source": [
    "%lsmagic"
   ]
  },
  {
   "cell_type": "code",
   "execution_count": 58,
   "metadata": {},
   "outputs": [
    {
     "name": "stderr",
     "output_type": "stream",
     "text": [
      "Traceback (most recent call last):\n",
      "  File \"<stdin>\", line 3, in <module>\n",
      "OSError: stream operation not supported\n"
     ]
    }
   ],
   "source": [
    "json.loads(\"/Users/rishil/Desktop/EEG-decoding/eeg_lib/logs/log_data.json\")"
   ]
  },
  {
   "cell_type": "code",
   "execution_count": 115,
   "metadata": {},
   "outputs": [
    {
     "name": "stdout",
     "output_type": "stream",
     "text": [
      "\u001b[34mConnecting to --port=/dev/tty.usbserial-0001 --baud=115200 \u001b[0mcould not open port /dev/tty.usbserial-0001: [Errno 16] Resource busy: '/dev/tty.usbserial-0001'\n",
      "\u001b[34m\n",
      "Try one of these ports as --port= \n",
      "  /dev/cu.usbserial-0001\n",
      "  /dev/cu.BLTH\n",
      "  /dev/cu.Bluetooth-Incoming-Port\u001b[0m"
     ]
    }
   ],
   "source": [
    "#%serialconnect to --port=\"/dev/tty.usbserial-02U1W54L\" --baud=115200\n",
    "# %serialconnect to --port=\"/dev/tty.usbserial-0001\" --baud=115200\n",
    "%serialconnect to --port=\"/dev/tty.usbserial-0001\" --baud=115200\n"
   ]
  },
  {
   "cell_type": "code",
   "execution_count": 136,
   "metadata": {},
   "outputs": [
    {
     "name": "stdout",
     "output_type": "stream",
     "text": [
      "[leftinbuffer] ['b\"G\\\\x01\\\\x02\\\\x91\\\\xa5\\\\xd1\\\\x85\\\\xd1\\\\xa5\\\\xbd\\\\xb9\\\\x01\\\\x00\\\\x0e\\\\xbd\\\\xc9\\\\x95\\\\x81 0 panic\\'ed (InstrFetchProhibited). Exception was unhandled.\\\\r\\\\nCore 0 register dump:\\\\r\\\\nPC      : 0x00000ets Jul 29 2019 12:21:46\\\\r\\\\n\\\\r\\\\nrst:0x1 (POWERON_RESET),boot:0x13 (SPI_FAST_FLASH_BOOT)\\\\r\\\\nconfigsip: 0, SPIWP:0xee\\\\r\\\\nclk_drv:0x00,q_drv:0x00,d_drv:0x00,cs0_drv:0x00,hd_drv:0x00,wp_drv:0x00\\\\r\\\\nmode:DIO, clock div:2\\\\r\\\\nload:0x3fff0018,len:4\\\\r\\\\nload:0x3fff001c,len:4252\\\\r\\\\nload:0x40078000,len:11920\\\\r\\\\nload:0x40080400,len:3344\\\\r\\\\nentry 0x4008060c\\\\r\\\\nets Jul 29 2019 12:21:46\\\\r\\\\n\\\\r\\\\nrst:0x1 (POWERON_RE\\\\x03\\\\xfbx13 (SPI_FAST_FLASH_BOOT)\\\\r\\\\nconfigsip: 0, SPIWP:0xee\\\\r\\\\nclk_drv:0x00,q_drv:0x00,d_drv:0x00,cs0_drv:0x00,hd_drv:0x00,wp_drv:0x00\\\\r\\\\x00ets Jul 29 2019 12:21:46\\\\r\\\\n\\\\r\\\\nrst:0x1 (POWERON_RESET),boot:0x13 (SPI_FAST_FLASH_BOOT)\\\\r\\\\nconfigsip: 0, SPIWP:0xee\\\\r\\\\nclk_drv:0x00,q_drv:0x00,d_drv:0x00,cs0_drv:0x00,hd_drv:0x00,wp_drv:0x00\\\\r\\\\nmode:DIO, clock div:2\\\\r\\\\nload:0x3fff0018,len:4\\\\r\\\\nload:0x3fff001c,len:4252\\\\r\\\\nload:0x40078000,len:11920\\\\r\\\\nload:0x40080400,len:3344\\\\r\\\\nentry 0x4008060c\\\\r\\\\nMicroPython 97a7cc2-dirty on 2021-11-26; ESP32 module with ESP32\\\\r\\\\nType \"']\n",
      "[priorstuff] b'\"help()\" for more information.\\r\\n>>> '\n",
      "[missing-OK]from machine import Pin\n",
      ">>> \n",
      ">>> \n",
      "\n",
      "[missing-OK]MPY: soft reboot\n",
      "\n",
      "[missing-OK]MicroPython 97a7cc2-dirty on 2021-11-26; ESP32 module with ESP32\n",
      "\n",
      "[missing-OK]Type \"help()\" for more information.\n",
      ">>>[reboot detected 0]repl is in normal command mode\n",
      "[\\r\\x03\\x03] b'\\r\\n>>> '\n",
      "[\\r\\x01] b'\\r\\n>>> \\r\\nraw REPL; CTRL-B to exit\\r\\n>' "
     ]
    }
   ],
   "source": [
    "from machine import Pin"
   ]
  },
  {
   "cell_type": "code",
   "execution_count": 137,
   "metadata": {},
   "outputs": [
    {
     "name": "stderr",
     "output_type": "stream",
     "text": [
      "Traceback (most recent call last):\n",
      "  File \"<stdin>\", line 1, in <module>\n",
      "NameError: name 'Pin' isn't defined\n"
     ]
    }
   ],
   "source": [
    "p26 = Pin(26, Pin.OUT)\n",
    "p13 = Pin(13, Pin.OUT) "
   ]
  },
  {
   "cell_type": "code",
   "execution_count": 98,
   "metadata": {},
   "outputs": [],
   "source": [
    "p26.on()\n",
    "p13.on()"
   ]
  },
  {
   "cell_type": "code",
   "execution_count": 99,
   "metadata": {},
   "outputs": [],
   "source": [
    "p26.off()\n",
    "p13.off()"
   ]
  },
  {
   "cell_type": "code",
   "execution_count": 75,
   "metadata": {},
   "outputs": [],
   "source": [
    "import time"
   ]
  },
  {
   "cell_type": "code",
   "execution_count": 81,
   "metadata": {},
   "outputs": [
    {
     "name": "stdout",
     "output_type": "stream",
     "text": [
      "......\u001b[34m\n",
      "\n",
      "*** Sending Ctrl-C\n",
      "\n",
      "\u001b[0m"
     ]
    },
    {
     "name": "stderr",
     "output_type": "stream",
     "text": [
      "Traceback (most recent call last):\n",
      "  File \"<stdin>\", line 9, in <module>\n",
      "KeyboardInterrupt: \n"
     ]
    }
   ],
   "source": [
    "counter = 0\n",
    "while 1==1:\n",
    "    if (counter % 2 == 0):\n",
    "        p26.on()\n",
    "        p13.off()\n",
    "    else:\n",
    "        p13.on()\n",
    "        p26.off()\n",
    "    time.sleep(1)\n",
    "    counter+=1"
   ]
  },
  {
   "cell_type": "code",
   "execution_count": 112,
   "metadata": {},
   "outputs": [
    {
     "name": "stdout",
     "output_type": "stream",
     "text": [
      "\u001b[31mNo serial connected\n",
      "\u001b[0m  %serialconnect to connect\n",
      "  %esptool to flash the device\n",
      "  %lsmagic to list commands"
     ]
    }
   ],
   "source": [
    "print(1)"
   ]
  },
  {
   "cell_type": "code",
   "execution_count": 143,
   "metadata": {},
   "outputs": [
    {
     "name": "stdout",
     "output_type": "stream",
     "text": [
      "Sent 0 bytes in 1 chunks to boot.py.\n"
     ]
    }
   ],
   "source": [
    "%sendtofile --source /Users/rishil/Desktop/pythonfiles/boot1.py boot.py  --binary"
   ]
  },
  {
   "cell_type": "code",
   "execution_count": null,
   "metadata": {},
   "outputs": [],
   "source": []
  }
 ],
 "metadata": {
  "kernelspec": {
   "display_name": "MicroPython - USB",
   "language": "micropython",
   "name": "micropython"
  },
  "language_info": {
   "codemirror_mode": "python",
   "file_extension": ".py",
   "mimetype": "text/python",
   "name": "micropython"
  }
 },
 "nbformat": 4,
 "nbformat_minor": 4
}
