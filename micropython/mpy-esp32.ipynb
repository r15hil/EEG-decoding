{
 "cells": [
  {
   "cell_type": "markdown",
   "metadata": {},
   "source": [
    "## MicroPython ESP32 Experimentation"
   ]
  },
  {
   "cell_type": "markdown",
   "metadata": {},
   "source": [
    "### Establishing connection to target board\n",
    "First, make sure you've got the right serial port. On unix-based systems, you can run `ls /dev/tty.*` to see your available serial devices. Replace as necessary below.\n",
    "\n",
    "This will allow Jupyter (your host computer) to run commands and send/receive information to/from your target board in real time using the MicroPython REPL."
   ]
  },
  {
   "cell_type": "code",
   "execution_count": 304,
   "metadata": {},
   "outputs": [
    {
     "name": "stdout",
     "output_type": "stream",
     "text": [
      "\u001b[34mConnecting to --port=/dev/tty.usbserial-0001 --baud=115200 \u001b[0m\n",
      "\u001b[34mReady.\n",
      "\u001b[0m"
     ]
    }
   ],
   "source": [
    "#%serialconnect to --port=\"/dev/tty.usbserial-02U1W54L\" --baud=115200\n",
    "%serialconnect to --port=\"/dev/tty.usbserial-0001\" --baud=115200"
   ]
  },
  {
   "cell_type": "code",
   "execution_count": 288,
   "metadata": {},
   "outputs": [
    {
     "name": "stdout",
     "output_type": "stream",
     "text": [
      "Sent 5 lines (143 bytes) to boot.py.\n"
     ]
    }
   ],
   "source": [
    "%sendtofile boot.py --source boot.py"
   ]
  },
  {
   "cell_type": "code",
   "execution_count": 305,
   "metadata": {},
   "outputs": [
    {
     "name": "stdout",
     "output_type": "stream",
     "text": [
      "Sent 43 lines (788 bytes) to main.py.\n"
     ]
    }
   ],
   "source": [
    "%sendtofile main.py --source main.py"
   ]
  },
  {
   "cell_type": "code",
   "execution_count": 12,
   "metadata": {},
   "outputs": [
    {
     "name": "stdout",
     "output_type": "stream",
     "text": [
      "Sent 238 lines (8870 bytes) to lib/decodinga.py.\n"
     ]
    }
   ],
   "source": [
    "%sendtofile lib/decodinga.py --source lib/decoding.py"
   ]
  },
  {
   "cell_type": "code",
   "execution_count": 273,
   "metadata": {},
   "outputs": [
    {
     "name": "stdout",
     "output_type": "stream",
     "text": [
      "('192.168.0.76', '255.255.255.0', '192.168.0.1', '194.168.4.100')\r\n"
     ]
    }
   ],
   "source": [
    "import network\n",
    "wlan = network.WLAN(network.STA_IF)\n",
    "wlan.active(True)\n",
    "ssid = env_vars.get(\"WIFI_SSID\")\n",
    "password = env_vars.get(\"WIFI_PASSWORD\")\n",
    "wlan.connect('ssid', 'password')\n",
    "print(wlan.ifconfig())"
   ]
  },
  {
   "cell_type": "code",
   "execution_count": 306,
   "metadata": {},
   "outputs": [
    {
     "name": "stdout",
     "output_type": "stream",
     "text": [
      "import gc\n",
      "from micropython import alloc_emergency_exception_buf\n",
      "\n",
      "# allocate exception buffer for ISRs\n",
      "alloc_emergency_exception_buf(100)\n",
      "\n",
      "# enable and configure garbage collection\n",
      "gc.enable()\n",
      "gc.collect()\n",
      "gc.threshold(gc.mem_free() // 4 + gc.mem_alloc())\n",
      "\n",
      "from machine import Pin\n",
      "import time\n",
      "\n",
      "p26 = Pin(26, Pin.OUT)\n",
      "p13 = Pin(13, Pin.OUT) \n",
      "p26.on()\n",
      "p13.on()\n",
      "\n",
      "counter = 0\n",
      "while counter !=10:\n",
      "    if (counter % 2 == 0):\n",
      "        p26.on()\n",
      "        p13.off()\n",
      "    else:\n",
      "        p13.on()\n",
      "        p26.off()\n",
      "    time.sleep(1)\n",
      "    counter+=1\n",
      "\n",
      "from lib.utils import connect_wifi, load_env_vars\n",
      "\n",
      "env_vars = load_env_vars(\"lib/.env\")\n",
      "# connect WiFI\n",
      "ssid = env_vars.get(\"WIFI_SSID\")\n",
      "password = env_vars.get(\"WIFI_PASSWORD\")\n",
      "connect_wifi(ssid, password)\n",
      "\n",
      "import webrepl\n",
      "webrepl.start()\n",
      "\n",
      "p26.on()\n",
      "p13.on()\n"
     ]
    }
   ],
   "source": [
    "f = open(\"main.py\", \"r\")\n",
    "print(f.read())"
   ]
  },
  {
   "cell_type": "markdown",
   "metadata": {},
   "source": [
    "## Using a Runner for experimentation and logging\n",
    "The a `Runner` is encapsulates the core functions in this EEG system, including peripheral setup, sampling, signal processing, logging and memory management. The `OnlineRunner` offers mostly the same functionality as the standard `Runner` class, except it allows for logging and other communication with a remote server - either on the Internet or on your local network.\n",
    "\n",
    "### Offline functionality\n",
    "The standard `Runner` is good for testing core functionality without the need for remote logging. See below for initialisation and execution."
   ]
  },
  {
   "cell_type": "code",
   "execution_count": 246,
   "metadata": {},
   "outputs": [
    {
     "name": "stdout",
     "output_type": "stream",
     "text": [
      "[leftinbuffer] [\"b'\\\\x00ets Jul 29 2019 12:21:46\\\\r\\\\n\\\\r\\\\nrst:0x1 (POWERON_RESET),boot:0x13 (SPI_FAST_FLASH_BOOT)\\\\r\\\\nconfigsip: 0, SPIWP:0xee\\\\r\\\\nclk_drv:0x00,q_drv:0x00,d_drv:0x00,cs0_drv:0x00,hd_drv:0x00,wp_drv:0x00\\\\r\\\\nmode:DIO, clock div:2\\\\r\\\\nload:0x3fff0018,len:4\\\\r\\\\nload:0x3fff001c,len:4252\\\\r\\\\nload:0x40078000,len:11920\\\\r\\\\nload:0x40080400,len:3344\\\\r\\\\nentry 0x4008060c\\\\r\\\\nets Jul \\\\xb2\\\\x00ets Ju\\\\xfc&\\\\x8a\\\\x02\\\\x000\\\\x00\\\\xbf\\\\r\\\\nrst\\\\x9d\\\\xc2\\\\xcd (SW_RESET),boot:0x13 (SPI_FAST_FLASH_\\\\xcf\\\\xa5\\\\r\\\\ncon\\\\xe6\\\\xfe\\\\xf8S\\\\xf8~\\\\xb8\\\\xfce\\\\xff\\\\xfc\\\\x9b\\\\xbd\\\\xbdt\\\\xfa:0x00,hd_drv:0x00>wp_drv:0x00\\\\x8d\\\\xa1\\\\xeb\\\\xcbets Jul 29 2019 12:21:46\\\\r\\\\n\\\\r\\\\nrst:0x7 (TG0WDT_SYS_RESET),boot:0x13 (SPI_FAST_FLASH_BOOT)\\\\r\\\\nconfigsip: 0, SPIWP:0xee\\\\r\\\\nclk_drv:0x00,q_drv:0x00,d_drv:0x00,cs0_drv:0x00,hd_drv:0x00,wp_drv:0x00\\\\r\\\\nmode:DIO, clock div:2\\\\r\\\\nload:0x3fff0018,len:4\\\\r\\\\nload:0x3fff001c,len:4252\\\\r\\\\nload:0x40078000,len:11920\\\\r\\\\nload:0x40080400,len:3344\\\\r\\\\nentry 0x4008060c\\\\r\\\\n\\\\x1b[0;33mW (58) boot: PRO CPU has been reset by WDT.\\\\x1b[0m\\\\r\\\\n\\\\x1b[0;33mW (58) boot: WDT reset info: PRO CPU PC=0x4000fdc7\\\\x1b[0m\\\\r\\\\n\\\\x1b[0;33mW (58) boot: WDT reset info: APP CPU PC=0xe0bc3391\\\\x1b[0m\\\\r\\\\n'\"]\n",
      "\n",
      "[missing-OK]b'\\xc9\\xd9\\xe90x\\xf8Lmod\\xe5\\xd2\\xf1\\xff\\xff\\xc9\\r\\n'\n",
      "[missing-OK]b'l\\xff\\xf0x\\xf3fff0018,len:4\\r\\xfe2\\x99\\x99\\xc10\\xf1\\xe3\\xff\\xfc\\x07\\x00\\x00'\n",
      "[missing-OK]\n",
      "[missing-OK]"
     ]
    },
    {
     "name": "stderr",
     "output_type": "stream",
     "text": [
      "b'\\x00\\x00ets Jul 29 2019 12:21\\xfe'"
     ]
    },
    {
     "name": "stdout",
     "output_type": "stream",
     "text": [
      "\n",
      "[missing-OK]"
     ]
    },
    {
     "name": "stderr",
     "output_type": "stream",
     "text": [
      "b'\\xff\\x0f\\xe0\\x00\\x00\\x00\\x00\\x07\\x00 \\x00\\xff$\\xfb\\xc1\\x9bN\\x92\\x82\\x8a\\xca\\x02\\x8a\\x92\\xd2\\x92\\x8a\\xd2\\xa2\\xb2j\\n\\r\\n'"
     ]
    },
    {
     "name": "stdout",
     "output_type": "stream",
     "text": [
      "\n",
      "[missing-OK]"
     ]
    },
    {
     "name": "stderr",
     "output_type": "stream",
     "text": [
      "rst:0x1 (POWERON_RESET),boot:0x13 (SPI_FAST_FLASH_BOOT)\r\n"
     ]
    },
    {
     "name": "stdout",
     "output_type": "stream",
     "text": [
      "\n",
      "[missing-OK]"
     ]
    },
    {
     "name": "stderr",
     "output_type": "stream",
     "text": [
      "configsip: 0, SPIWP:0xee\r\n"
     ]
    },
    {
     "name": "stdout",
     "output_type": "stream",
     "text": [
      "\n",
      "[missing-OK]"
     ]
    },
    {
     "name": "stderr",
     "output_type": "stream",
     "text": [
      "clk_drv:0x00,q_drv:0x00,d_drv:0x00,cs0_drv:0x00,hd_drv:0x00,wp_drv:0x00\r\n"
     ]
    },
    {
     "name": "stdout",
     "output_type": "stream",
     "text": [
      "\n",
      "[missing-OK]"
     ]
    },
    {
     "name": "stderr",
     "output_type": "stream",
     "text": [
      "mode:DIO, clock div:2\r\n"
     ]
    },
    {
     "name": "stdout",
     "output_type": "stream",
     "text": [
      "\n",
      "[missing-OK]"
     ]
    },
    {
     "name": "stderr",
     "output_type": "stream",
     "text": [
      "load:0x3fff0018,len:4\r\n"
     ]
    },
    {
     "name": "stdout",
     "output_type": "stream",
     "text": [
      "\n",
      "[missing-OK]"
     ]
    },
    {
     "name": "stderr",
     "output_type": "stream",
     "text": [
      "load:0x3fff001c,len:4252\r\n"
     ]
    },
    {
     "name": "stdout",
     "output_type": "stream",
     "text": [
      "\n",
      "[missing-OK]"
     ]
    },
    {
     "name": "stderr",
     "output_type": "stream",
     "text": [
      "load:0x40078000,len:11920\r\n"
     ]
    },
    {
     "name": "stdout",
     "output_type": "stream",
     "text": [
      "\n",
      "[missing-OK]"
     ]
    },
    {
     "name": "stderr",
     "output_type": "stream",
     "text": [
      "load:0x40080400\f",
      "ets Jul 29 2019 12:21:46\n",
      "\n"
     ]
    },
    {
     "name": "stdout",
     "output_type": "stream",
     "text": [
      "\n",
      "[missing-OK]"
     ]
    },
    {
     "name": "stderr",
     "output_type": "stream",
     "text": [
      "rst:0x1 (POWERON_RESET),boot:0x13 (SPI_FAST_FLASH_BOOT)\r\n"
     ]
    },
    {
     "name": "stdout",
     "output_type": "stream",
     "text": [
      "\n",
      "[missing-OK]"
     ]
    },
    {
     "name": "stderr",
     "output_type": "stream",
     "text": [
      "configsip: 0, SPIWP:0xee\r\n"
     ]
    },
    {
     "name": "stdout",
     "output_type": "stream",
     "text": [
      "\n",
      "[missing-OK]"
     ]
    },
    {
     "name": "stderr",
     "output_type": "stream",
     "text": [
      "clk_drv:0x00,q_drv:0x00,d_drv:0x00,cs0_drv:0x00,hd_drv:0x00,wp_drv:0x00\r\n"
     ]
    },
    {
     "name": "stdout",
     "output_type": "stream",
     "text": [
      "\n",
      "[missing-OK]"
     ]
    },
    {
     "name": "stderr",
     "output_type": "stream",
     "text": [
      "mode:DIO, clock div:2\r\n"
     ]
    },
    {
     "name": "stdout",
     "output_type": "stream",
     "text": [
      "\n",
      "[missing-OK]"
     ]
    },
    {
     "name": "stderr",
     "output_type": "stream",
     "text": [
      "load:0x3fff0018,len:4\r\n"
     ]
    },
    {
     "name": "stdout",
     "output_type": "stream",
     "text": [
      "\n",
      "[missing-OK]"
     ]
    },
    {
     "name": "stderr",
     "output_type": "stream",
     "text": [
      "load:0x3fff001c,len:4252\r\n"
     ]
    },
    {
     "name": "stdout",
     "output_type": "stream",
     "text": [
      "\n",
      "[missing-OK]"
     ]
    },
    {
     "name": "stderr",
     "output_type": "stream",
     "text": [
      "load:0x40078000,len:11920\r\n"
     ]
    },
    {
     "name": "stdout",
     "output_type": "stream",
     "text": [
      "\n",
      "[missing-OK]"
     ]
    },
    {
     "name": "stderr",
     "output_type": "stream",
     "text": [
      "load:0x40080400,len:3344\r\n"
     ]
    },
    {
     "name": "stdout",
     "output_type": "stream",
     "text": [
      "\n",
      "[missing-OK]"
     ]
    },
    {
     "name": "stderr",
     "output_type": "stream",
     "text": [
      "entry 0x4008060c\r\n"
     ]
    },
    {
     "name": "stdout",
     "output_type": "stream",
     "text": [
      "\n",
      "[missing-OK]"
     ]
    },
    {
     "name": "stderr",
     "output_type": "stream",
     "text": [
      "OT)\r\n"
     ]
    },
    {
     "name": "stdout",
     "output_type": "stream",
     "text": [
      "\n",
      "[missing-OK]"
     ]
    },
    {
     "name": "stderr",
     "output_type": "stream",
     "text": [
      "b'configsip: 0, S\\xf0R\\x05\\xa5'"
     ]
    },
    {
     "name": "stdout",
     "output_type": "stream",
     "text": [
      "..............\u001b[34m\n",
      "\n",
      "*** Sending Ctrl-C\n",
      "\n",
      "\u001b[0m\u001b[31m[Timed out waiting for recognizable response]\n",
      "\u001b[0m"
     ]
    }
   ],
   "source": [
    "from lib.runner import Runner\n",
    "\n",
    "Nc = 1\n",
    "Ns = 128\n",
    "Nt = 3\n",
    "stim_freqs = [7, 10, 12]\n",
    "\n",
    "# Here, we select the algorithm. Can be one of ['MsetCCA', 'GCCA', 'CCA']\n",
    "decoding_algo = 'MsetCCA'\n",
    "\n",
    "runner = Runner(decoding_algo, buffer_size=Ns) # initialise a base runner\n",
    "runner.setup() # setup peripherals and memory buffers"
   ]
  },
  {
   "cell_type": "markdown",
   "metadata": {},
   "source": [
    "### Calibration\n",
    "If you are using an algorithm that leverages calibration data (MsetCCA, GCCA), you will need to record some calibration data to fit the decoder model. This is usually only done once off before inference starts. You may want to recalibrate at some semi-regular interval too though. \n",
    "\n",
    "At the moment, there is not an integrated process to record calibration data in the `Runner` class. You have to record calibration data and provide it to the runner which it will in turn use to fit its internal decoder model. In future, this will hopefully become more integrated and easy. For now, some random calibration data is generated below to illustrate the format which the runner/decoder expects. You need to provide iid calibration data trials for each stimulus frequency.\n",
    "\n",
    "Note that if you try to run calibration using an incompatible algorithm (such as standard CCA), a warning will be generated and the calibration sequence will be skipped."
   ]
  },
  {
   "cell_type": "code",
   "execution_count": 4,
   "metadata": {},
   "outputs": [],
   "source": [
    "gc.collect()"
   ]
  },
  {
   "cell_type": "code",
   "execution_count": 7,
   "metadata": {},
   "outputs": [],
   "source": [
    "from lib.synthetic import synth_X\n",
    "\n",
    "calibration_data = {f:synth_X(f, Nc, Ns, Nt=Nt) for f in stim_freqs}\n",
    "runner.calibrate(calibration_data)"
   ]
  },
  {
   "cell_type": "code",
   "execution_count": 82,
   "metadata": {},
   "outputs": [
    {
     "name": "stdout",
     "output_type": "stream",
     "text": [
      "110224\r\n"
     ]
    }
   ],
   "source": [
    "print(gc.mem_free())"
   ]
  },
  {
   "cell_type": "markdown",
   "metadata": {},
   "source": [
    "### Decoding\n",
    "When configured with a set of stimulus frequencies $\\mathcal{F}=\\{f_1, \\dots, f_k, \\dots, f_K\\}$, the `Runner`'s decoder model consists of $K$ independent sub-classifiers $\\Phi_k$ that each leverage the decoding algorithm selected. These independent classifiers must be calibrated independently. When the `Runner` is presented a new test observation, each sub-classifier $\\Phi_k$ produces an output correlation estimate corresponding to $f_k$. Ultimately, the runner outputs a dictionary of frequency-correlation pairs of the form\n",
    "```python\n",
    "{f_1: 0.12, f_2: 0.03, f_3: 0.85}\n",
    "```\n",
    "The decoded output frequency is the one corresponding to the largest correlation in this output dictionary. In this example, it would be $f_3$."
   ]
  },
  {
   "cell_type": "code",
   "execution_count": 9,
   "metadata": {},
   "outputs": [
    {
     "name": "stdout",
     "output_type": "stream",
     "text": [
      "{12: 0.003198147, 10: 0.004834049, 7: 0.9978853}\r\n"
     ]
    }
   ],
   "source": [
    "test_freq = 7 # 7 Hz test signal\n",
    "test_data = synth_X(test_freq, Nc, Ns, Nt=1)\n",
    "\n",
    "print(runner.decoder.classify(test_data))"
   ]
  },
  {
   "cell_type": "code",
   "execution_count": 223,
   "metadata": {},
   "outputs": [
    {
     "name": "stdout",
     "output_type": "stream",
     "text": [
      "ADC initialised\n",
      "SPI initialised\n",
      "DigiPot set to 100 = gain of 10.62498\n"
     ]
    }
   ],
   "source": [
    "from ulab import numpy as np\n",
    "import utime as time\n",
    "from lib.runner import Runner\n",
    "\n",
    "decode_period_s = 4 # decode every x seconds\n",
    "Nc = 1\n",
    "Ns = 256\n",
    "Nt = 3\n",
    "stim_freqs = [7, 10, 12]\n",
    "decoding_period_s = 4\n",
    "\n",
    "runner = Runner('CCA', buffer_size=Ns)\n",
    "runner.setup() \n",
    "\n",
    "def preprocess_data(signal):\n",
    "    \n",
    "    \"\"\"Preprocess incoming signal before decoding algorithms.\n",
    "    This involves applying a bandpass filter to isolate the target SSVEP range\n",
    "    and then downsampling the signal to the Nyquist boundary.\n",
    "    \n",
    "    Returns:\n",
    "        [np.ndarray]: filtered and downsampled signal\n",
    "    \"\"\"\n",
    "    from lib.signal import sos_filter\n",
    "    downsample_freq = 64\n",
    "    ds_factor = 256//downsample_freq\n",
    "    return sos_filter(signal)[::ds_factor]\n",
    "\n",
    "def collectData(decode_period_s):\n",
    "    \n",
    "    global runner\n",
    "    \n",
    "    time.sleep(decode_period_s)\n",
    "    data = runner.output_buffer\n",
    "#     print(data)\n",
    "    gc.collect()\n",
    "    return np.array(data)\n",
    "\n",
    "def getData(Nt, decode_period_s):\n",
    "\n",
    "    global runner\n",
    "    \n",
    "    runner.run()\n",
    "    \n",
    "    trials = []\n",
    "    time.sleep(5)\n",
    "    count=0\n",
    "    \n",
    "    if Nt <=1:\n",
    "        return collectData(decode_period_s)\n",
    "    for i in range(Nt):\n",
    "        trials.append(collectData(decode_period_s).flatten())\n",
    "        print(trials)\n",
    "    runner.stop()\n",
    "\n",
    "    print(len(trials))\n",
    "\n",
    "    gc.collect()\n",
    "    return np.array(trials)\n"
   ]
  },
  {
   "cell_type": "code",
   "execution_count": 224,
   "metadata": {},
   "outputs": [
    {
     "name": "stdout",
     "output_type": "stream",
     "text": [
      "..[array([0.08634076, 8.545462, 42.98019, ..., 97.61092, -3.459775, -20.31974], dtype=float32)]\n",
      "[array([0.08634076, 8.545462, 42.98019, ..., 97.61092, -3.459775, -20.31974], dtype=float32), array([-0.02931638, -6.392175, -38.09158, ..., -78.71885, 69.01193, 55.54964], dtype=float32)]\n",
      ".[array([0.08634076, 8.545462, 42.98019, ..., 97.61092, -3.459775, -20.31974], dtype=float32), array([-0.02931638, -6.392175, -38.09158, ..., -78.71885, 69.01193, 55.54964], dtype=float32), array([-0.03085766, -6.425589, -38.14616, ..., 18.17148, -87.5854, 48.37291], dtype=float32)]\n",
      "3\n"
     ]
    }
   ],
   "source": [
    "#calibration_data = {f:getData(Nt, decoding_period_s) for f in stim_freqs}\n",
    "calibration_data = {}\n",
    "calibration_data[7] = getData(Nt, decoding_period_s)\n",
    "gc.collect()"
   ]
  },
  {
   "cell_type": "code",
   "execution_count": 225,
   "metadata": {},
   "outputs": [
    {
     "name": "stdout",
     "output_type": "stream",
     "text": [
      "..[array([0.03892149, -1.824592, -16.74177, ..., -46.97706, -26.35656, 53.12239], dtype=float32)]\n",
      ".[array([0.03892149, -1.824592, -16.74177, ..., -46.97706, -26.35656, 53.12239], dtype=float32), array([-0.0820171, -4.940385, -29.50849, ..., 21.95615, -15.09412, -38.33946], dtype=float32)]\n",
      "[array([0.03892149, -1.824592, -16.74177, ..., -46.97706, -26.35656, 53.12239], dtype=float32), array([-0.0820171, -4.940385, -29.50849, ..., 21.95615, -15.09412, -38.33946], dtype=float32), array([-0.03215155, 0.2907192, 4.834551, ..., -30.60293, 12.70001, 3.70228], dtype=float32)]\n",
      "3\n"
     ]
    }
   ],
   "source": [
    "calibration_data[10] = getData(Nt, decoding_period_s)\n",
    "gc.collect()"
   ]
  },
  {
   "cell_type": "code",
   "execution_count": 226,
   "metadata": {},
   "outputs": [
    {
     "name": "stdout",
     "output_type": "stream",
     "text": [
      "..[array([-0.02674809, -4.16443, -27.3649, ..., -26.07845, 71.28967, 11.53605], dtype=float32)]\n",
      ".[array([-0.02674809, -4.16443, -27.3649, ..., -26.07845, 71.28967, 11.53605], dtype=float32), array([-0.07761034, -5.542633, -27.10412, ..., -72.21498, -2.75113, 20.43653], dtype=float32)]\n",
      "[array([-0.02674809, -4.16443, -27.3649, ..., -26.07845, 71.28967, 11.53605], dtype=float32), array([-0.07761034, -5.542633, -27.10412, ..., -72.21498, -2.75113, 20.43653], dtype=float32), array([-0.08334971, -6.051135, -38.19429, ..., 34.40073, 39.43405, -46.61026], dtype=float32)]\n",
      "3\n"
     ]
    }
   ],
   "source": [
    "calibration_data[12] = getData(Nt, decoding_period_s)\n",
    "gc.collect()"
   ]
  },
  {
   "cell_type": "code",
   "execution_count": 227,
   "metadata": {},
   "outputs": [
    {
     "name": "stdout",
     "output_type": "stream",
     "text": [
      "32000\r\n"
     ]
    }
   ],
   "source": [
    "print(gc.mem_free())"
   ]
  },
  {
   "cell_type": "code",
   "execution_count": 228,
   "metadata": {},
   "outputs": [
    {
     "name": "stdout",
     "output_type": "stream",
     "text": [
      "ADC initialised\n",
      "SPI initialised\n",
      "DigiPot set to 100 = gain of 10.62498\n",
      "36704\n"
     ]
    }
   ],
   "source": [
    "decode = Runner('MsetCCA', buffer_size=Ns) # initialise a base runner\n",
    "decode.setup() # setup peripherals and memory buffers\n",
    "decode.calibrate(calibration_data)\n",
    "print(gc.mem_free())"
   ]
  },
  {
   "cell_type": "code",
   "execution_count": 229,
   "metadata": {},
   "outputs": [],
   "source": [
    "decode.run()"
   ]
  },
  {
   "cell_type": "code",
   "execution_count": 230,
   "metadata": {},
   "outputs": [
    {
     "name": "stdout",
     "output_type": "stream",
     "text": [
      "{12: 0.5870772, 10: 0.1082675, 7: 0.168113}\r\n"
     ]
    }
   ],
   "source": [
    "print(decode.decoder.classify(np.array(runner.output_buffer)))"
   ]
  },
  {
   "cell_type": "code",
   "execution_count": 231,
   "metadata": {},
   "outputs": [],
   "source": [
    "decode.stop()"
   ]
  },
  {
   "cell_type": "code",
   "execution_count": 232,
   "metadata": {},
   "outputs": [
    {
     "name": "stdout",
     "output_type": "stream",
     "text": [
      "{12: array([[-0.02674809, -4.16443, -27.3649, ..., -26.07845, 71.28967, 11.53605],\n",
      "       [-0.07761034, -5.542633, -27.10412, ..., -72.21498, -2.75113, 20.43653],\n",
      "       [-0.08334971, -6.051135, -38.19429, ..., 34.40073, 39.43405, -46.61026]], dtype=float32), 10: array([[0.03892149, -1.824592, -16.74177, ..., -46.97706, -26.35656, 53.12239],\n",
      "       [-0.0820171, -4.940385, -29.50849, ..., 21.95615, -15.09412, -38.33946],\n",
      "       [-0.03215155, 0.2907192, 4.834551, ..., -30.60293, 12.70001, 3.70228]], dtype=float32), 7: array([[0.08634076, 8.545462, 42.98019, ..., 97.61092, -3.459775, -20.31974],\n",
      "       [-0.02931638, -6.392175, -38.09158, ..., -78.71885, 69.01193, 55.54964],\n",
      "       [-0.03085766, -6.425589, -38.14616, ..., 18.17148, -87.5854, 48.37291]], dtype=float32)}\n"
     ]
    }
   ],
   "source": [
    "print(calibration_data)"
   ]
  },
  {
   "cell_type": "markdown",
   "metadata": {},
   "source": [
    "### Asynchronous operation\n",
    "Once the `Runner` has been configured and calibrated (if applicable), its internal `run()` loop can be started in which it will asynchronously sample and decode EEG data at preconfigured frequencies. Timing is handled using hardware timers on the ESP32 and interrupts are used to run asynchronous ISRs that handle sampling, preprocessing, filtering and decoding.\n",
    "\n",
    "Note that once the async run loop has begun, you can still run commands or view the `Runner`'s attributes although there may be a noticeable delay since ISRs will typically get higher execution priority and there are quite a few interrupt loops running."
   ]
  },
  {
   "cell_type": "code",
   "execution_count": 10,
   "metadata": {},
   "outputs": [],
   "source": [
    "# start sampling and recording data (logging not setup in this case)\n",
    "runner.run()"
   ]
  },
  {
   "cell_type": "code",
   "execution_count": 11,
   "metadata": {},
   "outputs": [
    {
     "name": "stdout",
     "output_type": "stream",
     "text": [
      "True\r\n"
     ]
    }
   ],
   "source": [
    "# see if runner has indeed started smapling\n",
    "print(runner.is_sampling)"
   ]
  },
  {
   "cell_type": "code",
   "execution_count": 12,
   "metadata": {},
   "outputs": [
    {
     "name": "stdout",
     "output_type": "stream",
     "text": [
      "[0.01507123, -0.1242969, -3.783963, -4.679721, 12.78181, 10.15671, -14.30577, 5.90723, 7.604455, -20.70899, 1.988277, 23.75715, 5.733761, -15.70858, -0.009125322, 7.742811, -16.0752, 1.230154, 25.41746, -0.5433288, -24.25103, 1.165697, 11.85342, -9.039201, 3.084062, 20.4376, -3.930146, -24.24293, 3.079892, 13.03915, -10.38186, 3.659443, 19.37393, -11.8056, -13.80852, 0.5107684, -7.631972, 19.07999, 11.34653, -23.30199, -5.879449, 11.77741, -0.7432878, -8.251669, 16.0036, 4.825533, -25.24554, -5.17767, 19.78535, 2.912423, -13.8064, 9.380515, 1.505076, -24.19353, -1.632591, 24.53315, 2.496613, -15.5124, 6.368776, 0.1071856, -18.20533, 1.534543, 20.90966, -1.599402, 0.01541734, 0.1648534, -0.7294103, -4.831893, -2.270404, 16.73792, 12.61396, -20.84267, -8.847502, 16.36489, -3.325031, -5.523794, 15.86657, 5.061106, -23.20341, -6.536437, 22.66838, 1.498738, -11.56312, 9.114537, 2.338871, -23.04785, -1.987546, 26.49001, 1.777297, -13.62673, 6.082272, 1.311298, -17.68964, 1.939265, 22.11768, -1.703995, -5.514104, 13.14146, -24.41747, -36.82439, 15.49795, 9.156306, -11.74053, 10.3658, 12.33155, -12.06935, -21.26627, 12.44292, 18.70275, -11.48039, -0.3330323, 13.96738, -11.00366, -17.71519, 18.38236, 20.83065, -12.19157, -5.793219, 8.950476, -10.64068, -11.79949, 20.60327, 17.05137, -15.07719, -4.251667, 9.416369, -16.91222, -6.692222]\r\n"
     ]
    }
   ],
   "source": [
    "# display the contents of the output buffer - this will be updated internally by the runner\n",
    "# at a rate determined by the sampling frequency and sample buffer size (typically every 1s)\n",
    "print(runner.output_buffer)"
   ]
  },
  {
   "cell_type": "code",
   "execution_count": 15,
   "metadata": {},
   "outputs": [
    {
     "name": "stdout",
     "output_type": "stream",
     "text": [
      "{12: 0.00438, 10: 0.00906, 7: 0.03817}\r\n"
     ]
    }
   ],
   "source": [
    "# decode the contents of the output buffer. There will be a delay here if the runner \n",
    "# is currently running (i.e. `is_sampling=True`).\n",
    "print(runner.decode())"
   ]
  },
  {
   "cell_type": "code",
   "execution_count": 16,
   "metadata": {},
   "outputs": [],
   "source": [
    "# stop runner\n",
    "runner.stop()"
   ]
  },
  {
   "cell_type": "markdown",
   "metadata": {},
   "source": [
    "#### Simple decoding loop\n",
    "In order to test online decoding, here is a basic synchronous loop-based option. Interrupt the cell to stop the infinite loop."
   ]
  },
  {
   "cell_type": "code",
   "execution_count": 2,
   "metadata": {},
   "outputs": [
    {
     "name": "stdout",
     "output_type": "stream",
     "text": [
      "ADC initialised\n",
      "SPI initialised\n",
      "DigiPot set to 100 = gain of 10.62497708393011\n",
      "{}\n",
      ".{12: 0.15038, 10: 0.02075, 7: 0.11349}\n",
      "{12: 0.15038, 10: 0.02075, 7: 0.11349}\n",
      ".{12: 0.04253, 10: 0.02158, 7: 0.00613}\n",
      "{12: 0.04253, 10: 0.02158, 7: 0.00613}\n",
      "{12: 0.05438, 10: 0.00615, 7: 0.08}\n",
      ".{12: 0.05438, 10: 0.00615, 7: 0.08}\n",
      "{12: 0.0278, 10: 0.00456, 7: 0.02368}\n",
      "\u001b[34m\n",
      "\n",
      "*** Sending Ctrl-C\n",
      "\n",
      "\u001b[0mreceived SIGINT - stopping\n"
     ]
    }
   ],
   "source": [
    "import utime as time\n",
    "from lib.runner import Runner\n",
    "\n",
    "Nc = 1\n",
    "Ns = 128\n",
    "Nt = 3\n",
    "stim_freqs = [7, 10, 12]\n",
    "\n",
    "# Here, we select the algorithm. Can be one of ['MsetCCA', 'GCCA', 'CCA']\n",
    "decoding_algo = 'MsetCCA'\n",
    "\n",
    "decode_period_s = 2 # read decoded output every x seconds\n",
    "\n",
    "runner = Runner(decoding_algo, buffer_size=Ns) # initialise a base runner\n",
    "runner.setup()\n",
    "\n",
    "if decoding_algo in ['MsetCCA', 'GCCA']:\n",
    "    from lib.synthetic import synth_X\n",
    "\n",
    "    calibration_data = {f:synth_X(f, Nc, Ns, Nt=Nt) for f in stim_freqs}\n",
    "    runner.calibrate(calibration_data)\n",
    "\n",
    "runner.run() # start async run loop\n",
    "\n",
    "try:\n",
    "    while True:\n",
    "        time.sleep(decode_period_s)\n",
    "        print(runner.decoded_output)\n",
    "except KeyboardInterrupt:\n",
    "    runner.stop()\n",
    "    print('received SIGINT - stopping')"
   ]
  },
  {
   "cell_type": "markdown",
   "metadata": {},
   "source": [
    "### Testing your WiFi connection\n",
    "In order to connect to a local WiFi network, you'll need to supply your network SSID and password in a `.env` file on the board. Doing this is easy: \n",
    "1. On your computer, create a `.env` file using `touch .env`. Update the `.env` file with the required fields:\n",
    "    \n",
    "    ```bash\n",
    "    #.env \n",
    "    WIFI_SSID=<your network name>\n",
    "    WIFI_PASSWORD=<your network password>\n",
    "    \n",
    "    ```\n",
    "    \n",
    "2. Send this file to your target device using the following command:\n",
    "    ```ipython\n",
    "%sendtofile --source lib/.env lib/.env  --binary\n",
    "```\n",
    "\n",
    "You may need to update the local (source) path to your `.env` file depending on where you created/stored it."
   ]
  },
  {
   "cell_type": "code",
   "execution_count": 269,
   "metadata": {},
   "outputs": [
    {
     "name": "stdout",
     "output_type": "stream",
     "text": [
      "Sent 55 bytes in 2 chunks to lib/.env.\n"
     ]
    }
   ],
   "source": [
    "%sendtofile --source /Users/rishil/Desktop/.env lib/.env  --binary"
   ]
  },
  {
   "cell_type": "code",
   "execution_count": 67,
   "metadata": {},
   "outputs": [
    {
     "name": "stdout",
     "output_type": "stream",
     "text": [
      "network config: ('192.168.0.68', '255.255.255.0', '192.168.0.1', '194.168.4.100')\r\n"
     ]
    }
   ],
   "source": [
    "from lib.utils import connect_wifi, load_env_vars\n",
    "from lib.synthetic import synth_X\n",
    "\n",
    "Nc = 1\n",
    "Ns = 128\n",
    "Nt = 3\n",
    "stim_freqs = [7, 10, 12]\n",
    "\n",
    "# Here, we select the algorithm. Can be one of ['MsetCCA', 'GCCA', 'CCA']\n",
    "decoding_algo = 'MsetCCA'\n",
    "calibration_data = {f:synth_X(f, Nc, Ns, Nt=Nt) for f in stim_freqs}\n",
    "\n",
    "env_vars = load_env_vars(\"lib/.env\")\n",
    "# connect WiFI\n",
    "ssid = env_vars.get(\"WIFI_SSID\")\n",
    "password = env_vars.get(\"WIFI_PASSWORD\")\n",
    "connect_wifi(ssid, password)"
   ]
  },
  {
   "cell_type": "markdown",
   "metadata": {},
   "source": [
    "#### Online Runner\n",
    "Now that you've established network connectivitiy, you can test out an `OnlineRunner`. In order to test web logging to a remote server, we can use a basic HTTP logger. However, this obviously needs an API/server willing to accept our requests. There is a basic logging API using `Flask` in `/eeg_lib/logging_server.py`. You can run it using `python logging_server.py` which will spin up a development server on the predefined port (5000 or 5001). Then, just configure your `OnlineRunner` with the appropriate logger params and you're set."
   ]
  },
  {
   "cell_type": "code",
   "execution_count": 68,
   "metadata": {},
   "outputs": [
    {
     "name": "stdout",
     "output_type": "stream",
     "text": [
      "ADC initialised\n",
      "SPI initialised\n",
      "DigiPot set to 100 = gain of 10.62498\n",
      "network config: ('192.168.0.68', '255.255.255.0', '192.168.0.1', '194.168.4.100')\n"
     ]
    }
   ],
   "source": [
    "from lib.runner import OnlineRunner\n",
    "from lib.logging import logger_types\n",
    "\n",
    "api_host = \"http://192.168.0.13:5001/\" # make sure the port corresponds to your logging server configuration\n",
    "log_params = dict(server=api_host, log_period=4, logger_type=logger_types.HTTP, send_raw=True, session_id='test_session_1')\n",
    "\n",
    "runner = OnlineRunner(decoding_algo, buffer_size=Ns)\n",
    "runner.setup(**log_params)"
   ]
  },
  {
   "cell_type": "code",
   "execution_count": 69,
   "metadata": {},
   "outputs": [],
   "source": [
    "# start the runner - you should see requests being made to your local server\n",
    "runner.calibrate(calibration_data)\n",
    "runner.run()"
   ]
  },
  {
   "cell_type": "code",
   "execution_count": 70,
   "metadata": {},
   "outputs": [],
   "source": [
    "runner.stop()"
   ]
  },
  {
   "cell_type": "markdown",
   "metadata": {},
   "source": [
    "## Experimentation"
   ]
  },
  {
   "cell_type": "code",
   "execution_count": 155,
   "metadata": {},
   "outputs": [
    {
     "name": "stdout",
     "output_type": "stream",
     "text": [
      "repl is in normal command mode\n",
      "[\\r\\x03\\x03] b'\\r\\nMicroPython d8a7bf8-dirty on 2022-02-09; ESP32 module with ESP32\\r\\nType \"help()\" for more information.\\r\\n>>> \\r\\n>>> \\r\\nMPY: soft reboot\\r\\nMicroPython d8a7bf8-dirty on 2022-02-09; ESP32 module with ESP32\\r\\nType \"help()\" for more information.\\r\\n>>> \\r\\n>>> \\r\\n>>> '\n",
      "[\\r\\x01] b'\\r\\n>>> \\r\\nraw REPL; CTRL-B to exit\\r\\n>'"
     ]
    }
   ],
   "source": [
    "%rebootdevice"
   ]
  },
  {
   "cell_type": "code",
   "execution_count": 12,
   "metadata": {},
   "outputs": [
    {
     "name": "stdout",
     "output_type": "stream",
     "text": [
      "%capture [--quiet] [--QUIET] outputfilename\n",
      "    records output to a file\n",
      "\n",
      "%comment\n",
      "    print this into output\n",
      "\n",
      "%disconnect [--raw]\n",
      "    disconnects from web/serial connection\n",
      "\n",
      "%esptool [--port PORT] {erase,esp32,esp8266} [binfile]\n",
      "    commands for flashing your esp-device\n",
      "\n",
      "%fetchfile [--binary] [--print] [--load] [--quiet] [--QUIET]\n",
      "                  sourcefilename [destinationfilename]\n",
      "    fetch and save a file from the device\n",
      "\n",
      "%ls [--recurse] [dirname]\n",
      "    list files on the device\n",
      "\n",
      "%lsmagic\n",
      "    list magic commands\n",
      "\n",
      "%mpy-cross [--set-exe SET_EXE] [pyfile]\n",
      "    cross-compile a .py file to a .mpy file\n",
      "\n",
      "%readbytes [--binary]\n",
      "    does serial.read_all()\n",
      "\n",
      "%rebootdevice\n",
      "    reboots device\n",
      "\n",
      "%sendtofile [--append] [--mkdir] [--binary] [--execute] [--source [SOURCE]] [--quiet]\n",
      "                   [--QUIET]\n",
      "                   [destinationfilename]\n",
      "    send cell contents or file/direcectory to the device\n",
      "\n",
      "%serialconnect [--raw] [--port PORT] [--baud BAUD] [--verbose]\n",
      "    connects to a device over USB wire\n",
      "\n",
      "%socketconnect [--raw] ipnumber portnumber\n",
      "    connects to a socket of a device over wifi\n",
      "\n",
      "%suppressendcode\n",
      "    doesn't send x04 or wait to read after sending the contents of the cell\n",
      "  (assists for debugging using %writebytes and %readbytes)\n",
      "\n",
      "%websocketconnect [--raw] [--password PASSWORD] [--verbose] [websocketurl]\n",
      "    connects to the webREPL websocket of an ESP8266 over wifi\n",
      "    websocketurl defaults to ws://192.168.4.1:8266 but be sure to be connected\n",
      "\n",
      "%writebytes [--binary] [--verbose] stringtosend\n",
      "    does serial.write() of the python quoted string given\n",
      "\n",
      "%%writefile [--append] [--execute] destinationfilename\n",
      "    write contents of cell to a file\n",
      "\n"
     ]
    }
   ],
   "source": [
    "%lsmagic"
   ]
  }
 ],
 "metadata": {
  "kernelspec": {
   "display_name": "MicroPython - USB",
   "language": "micropython",
   "name": "micropython"
  },
  "language_info": {
   "codemirror_mode": "python",
   "file_extension": ".py",
   "mimetype": "text/python",
   "name": "micropython"
  }
 },
 "nbformat": 4,
 "nbformat_minor": 4
}
