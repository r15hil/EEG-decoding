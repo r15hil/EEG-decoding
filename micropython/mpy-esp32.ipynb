{
 "cells": [
  {
   "cell_type": "markdown",
   "metadata": {},
   "source": [
    "## MicroPython ESP32 Experimentation"
   ]
  },
  {
   "cell_type": "markdown",
   "metadata": {},
   "source": [
    "### Establishing connection to target board\n",
    "First, make sure you've got the right serial port. On unix-based systems, you can run `ls /dev/tty.*` to see your available serial devices. Replace as necessary below.\n",
    "\n",
    "This will allow Jupyter (your host computer) to run commands and send/receive information to/from your target board in real time using the MicroPython REPL."
   ]
  },
  {
   "cell_type": "code",
   "execution_count": 61,
   "metadata": {},
   "outputs": [
    {
     "name": "stdout",
     "output_type": "stream",
     "text": [
      "[leftinbuffer] [\"b'\\\\xfcets Jul 29 2019 12:21:46\\\\r\\\\n\\\\r\\\\nrst:0x1 (POWERON_RESET),boot:0x13 (SPI_FAST_FLASH_BOOT)\\\\r\\\\nconfigsip: 0, SPIWP:0xee\\\\r\\\\nclk_drv:0x00,q_drv:0x00,d_drv:0x00,cs0_drv:0x00,hd_drv:0x00,wp_drv:0x00\\\\r\\\\nmode:DIO, clock div:2\\\\r\\\\nload:0x3fff0018,len:4\\\\r\\\\nload:0x3fff001c,len:5204\\\\r\\\\nload:0x40078000,len:12136\\\\r\\\\nload:0x40080400,len:3496\\\\r\\\\nentry 0x4008063c\\\\r\\\\nets Jul 29 2019 12:21:46\\\\r\\\\n\\\\r\\\\nrst:0x1 (POWERON_RESET),boot:0x13 (SPI_FAST_FLASH_BOOT)\\\\r\\\\nconfigsip: 0, SPIWP:0xee\\\\r\\\\nclk_drv:0x00,q_drv:0x00,d_drv:0x00,cs0_drv:0x00,hd_drv:0x00,wp_drv:0x00\\\\r\\\\nmode:DIO, clock div:2\\\\r\\\\nload:0x3fff0018,len:4\\\\r\\\\nload:0x3fff001c,len:5204\\\\r\\\\nload:0x40078000,len:12136\\\\r\\\\nload:0x40080400,l\\\\x80\\\\xe5\\\\x810x4008063c\\\\r\\\\nets Jul 29 2019 12:21:46\\\\r\\\\n\\\\r\\\\nrst:0x10 (RTCWDT_RTC_RESET),boot:0x13 (SPI_FAST_FLASH_BOOT)\\\\r\\\\nconfigsip: 0, SPIWP:0xee\\\\r\\\\nclk_drv:0x00,q_drv:0x00,d_drv:0x00,cs0_drv:0x00,hd_drv:0x00,wp_drv:0x00\\\\r\\\\nmode:DIO, clock div:2\\\\r\\\\nload:0x3fff0018,len:4\\\\r\\\\nload:0x3fff001c,len:5204\\\\r\\\\nload:0x40078000,len:12136\\\\r\\\\nload:0x40080400,len:3496\\\\r\\\\nentry 0x4008063c\\\\r\\\\nets Jul 29 2019 12:21:46\\\\r\\\\n\\\\r\\\\nrst:0x1 (POWERON_R'\"]\n",
      "\u001b[34mConnecting to --port=/dev/tty.usbserial-0001 --baud=115200 \u001b[0m\n",
      "\u001b[34mReady.\n",
      "\u001b[0m"
     ]
    }
   ],
   "source": [
    "#%serialconnect to --port=\"/dev/tty.usbserial-02U1W54L\" --baud=115200\n",
    "%serialconnect to --port=\"/dev/tty.usbserial-0001\" --baud=115200"
   ]
  },
  {
   "cell_type": "code",
   "execution_count": 10,
   "metadata": {},
   "outputs": [
    {
     "name": "stdout",
     "output_type": "stream",
     "text": [
      "Sent 246 lines (8210 bytes) to lib/runnera.py.\n"
     ]
    }
   ],
   "source": [
    "%sendtofile lib/runnera.py --source lib/runner.py"
   ]
  },
  {
   "cell_type": "code",
   "execution_count": 11,
   "metadata": {},
   "outputs": [
    {
     "name": "stdout",
     "output_type": "stream",
     "text": [
      "Sent 47 lines (1573 bytes) to lib/synthetica.py.\n"
     ]
    }
   ],
   "source": [
    "%sendtofile lib/synthetica.py --source lib/synthetic.py"
   ]
  },
  {
   "cell_type": "code",
   "execution_count": 12,
   "metadata": {},
   "outputs": [
    {
     "name": "stdout",
     "output_type": "stream",
     "text": [
      "Sent 238 lines (8870 bytes) to lib/decodinga.py.\n"
     ]
    }
   ],
   "source": [
    "%sendtofile lib/decodinga.py --source lib/decoding.py"
   ]
  },
  {
   "cell_type": "markdown",
   "metadata": {},
   "source": [
    "## Using a Runner for experimentation and logging\n",
    "The a `Runner` is encapsulates the core functions in this EEG system, including peripheral setup, sampling, signal processing, logging and memory management. The `OnlineRunner` offers mostly the same functionality as the standard `Runner` class, except it allows for logging and other communication with a remote server - either on the Internet or on your local network.\n",
    "\n",
    "### Offline functionality\n",
    "The standard `Runner` is good for testing core functionality without the need for remote logging. See below for initialisation and execution."
   ]
  },
  {
   "cell_type": "code",
   "execution_count": 31,
   "metadata": {},
   "outputs": [
    {
     "name": "stdout",
     "output_type": "stream",
     "text": [
      "ADC initialised\n",
      "SPI initialised\n",
      "DigiPot set to 100 = gain of 10.62498\n"
     ]
    }
   ],
   "source": [
    "from lib.runner import Runner\n",
    "\n",
    "Nc = 1\n",
    "Ns = 128\n",
    "Nt = 3\n",
    "stim_freqs = [7, 10, 12]\n",
    "\n",
    "# Here, we select the algorithm. Can be one of ['MsetCCA', 'GCCA', 'CCA']\n",
    "decoding_algo = 'MsetCCA'\n",
    "\n",
    "runner = Runner(decoding_algo, buffer_size=Ns) # initialise a base runner\n",
    "runner.setup() # setup peripherals and memory buffers"
   ]
  },
  {
   "cell_type": "markdown",
   "metadata": {},
   "source": [
    "### Calibration\n",
    "If you are using an algorithm that leverages calibration data (MsetCCA, GCCA), you will need to record some calibration data to fit the decoder model. This is usually only done once off before inference starts. You may want to recalibrate at some semi-regular interval too though. \n",
    "\n",
    "At the moment, there is not an integrated process to record calibration data in the `Runner` class. You have to record calibration data and provide it to the runner which it will in turn use to fit its internal decoder model. In future, this will hopefully become more integrated and easy. For now, some random calibration data is generated below to illustrate the format which the runner/decoder expects. You need to provide iid calibration data trials for each stimulus frequency.\n",
    "\n",
    "Note that if you try to run calibration using an incompatible algorithm (such as standard CCA), a warning will be generated and the calibration sequence will be skipped."
   ]
  },
  {
   "cell_type": "code",
   "execution_count": 29,
   "metadata": {},
   "outputs": [
    {
     "name": "stdout",
     "output_type": "stream",
     "text": [
      "None\r\n"
     ]
    }
   ],
   "source": [
    "print(gc.collect())"
   ]
  },
  {
   "cell_type": "code",
   "execution_count": 33,
   "metadata": {},
   "outputs": [],
   "source": [
    "from lib.synthetic import synth_X\n",
    "\n",
    "calibration_data = {f:synth_X(f, Nc, Ns, Nt=Nt) for f in stim_freqs}\n",
    "runner.calibrate(calibration_data)"
   ]
  },
  {
   "cell_type": "code",
   "execution_count": 62,
   "metadata": {},
   "outputs": [
    {
     "name": "stdout",
     "output_type": "stream",
     "text": [
      "110224\r\n"
     ]
    }
   ],
   "source": [
    "print(gc.mem_free())"
   ]
  },
  {
   "cell_type": "markdown",
   "metadata": {},
   "source": [
    "### Decoding\n",
    "When configured with a set of stimulus frequencies $\\mathcal{F}=\\{f_1, \\dots, f_k, \\dots, f_K\\}$, the `Runner`'s decoder model consists of $K$ independent sub-classifiers $\\Phi_k$ that each leverage the decoding algorithm selected. These independent classifiers must be calibrated independently. When the `Runner` is presented a new test observation, each sub-classifier $\\Phi_k$ produces an output correlation estimate corresponding to $f_k$. Ultimately, the runner outputs a dictionary of frequency-correlation pairs of the form\n",
    "```python\n",
    "{f_1: 0.12, f_2: 0.03, f_3: 0.85}\n",
    "```\n",
    "The decoded output frequency is the one corresponding to the largest correlation in this output dictionary. In this example, it would be $f_3$."
   ]
  },
  {
   "cell_type": "code",
   "execution_count": 39,
   "metadata": {},
   "outputs": [
    {
     "name": "stdout",
     "output_type": "stream",
     "text": [
      "{12: 0.004733905, 10: 0.01099741, 7: 0.9917706}\r\n"
     ]
    }
   ],
   "source": [
    "test_freq = 7 # 7 Hz test signal\n",
    "test_data = synth_X(test_freq, Nc, Ns, Nt=1)\n",
    "\n",
    "print(runner.decoder.classify(test_data))"
   ]
  },
  {
   "cell_type": "markdown",
   "metadata": {},
   "source": [
    "### Asynchronous operation\n",
    "Once the `Runner` has been configured and calibrated (if applicable), its internal `run()` loop can be started in which it will asynchronously sample and decode EEG data at preconfigured frequencies. Timing is handled using hardware timers on the ESP32 and interrupts are used to run asynchronous ISRs that handle sampling, preprocessing, filtering and decoding.\n",
    "\n",
    "Note that once the async run loop has begun, you can still run commands or view the `Runner`'s attributes although there may be a noticeable delay since ISRs will typically get higher execution priority and there are quite a few interrupt loops running."
   ]
  },
  {
   "cell_type": "code",
   "execution_count": 41,
   "metadata": {},
   "outputs": [],
   "source": [
    "# start sampling and recording data (logging not setup in this case)\n",
    "runner.run()"
   ]
  },
  {
   "cell_type": "code",
   "execution_count": 42,
   "metadata": {},
   "outputs": [
    {
     "name": "stdout",
     "output_type": "stream",
     "text": [
      "True\r\n"
     ]
    }
   ],
   "source": [
    "# see if runner has indeed started smapling\n",
    "print(runner.is_sampling)"
   ]
  },
  {
   "cell_type": "code",
   "execution_count": 43,
   "metadata": {},
   "outputs": [
    {
     "name": "stdout",
     "output_type": "stream",
     "text": [
      "[-0.001441792, -0.3037838, -1.551759, -0.219501, 3.194653, -1.072062, -0.200694, 6.702996, -1.947414, -5.027199, 1.564445, 2.672828, 1.21374, -1.437051, 2.925138, -1.231109, -6.948754, 2.045549, 4.036036, -2.170489, 0.03711551, 4.074638, -3.130945, -4.147216, 4.156588, 4.188887, -1.814264, -0.1168619, 2.935409, -4.270164, -3.49786, 3.961716, 3.079408, -3.522197, -4.539949, -3.970249, -0.990411, 7.356385, -0.0371345, -2.75865, 2.164335, -1.930601, -4.593678, 0.5314817, 6.744837, -3.217182, -5.489737, -0.693433, -3.941568, -1.549129, 3.282845, 1.359998, -4.587076, 3.524699, 2.54799, -5.847449, 1.876395, 4.986438, 2.018594, -2.166026, 3.279232, 5.460333, -2.510297, -0.7549546, -0.002938264, -0.4208137, -2.996173, -5.388202, 0.4557866, 6.510355, 0.5805722, -2.615711, 1.715585, -0.9709125, -5.372795, 1.403303, 6.322515, -2.846665, -5.36191, -0.8382293, -3.404387, -1.949912, 3.903792, 1.038809, -4.176731, 3.496768, 2.636908, -5.576463, 1.728363, 5.407993, 1.815191, -1.779266, 3.18501, 5.686372, -2.418493, -0.7140501, 1.276452, 0.7122659, 1.185026, 6.790073, 2.009449, -6.969475, 4.530318, -2.006969, -7.354259, 3.396944, 3.545485, 0.0793584, -4.284382, 2.440937, 2.515472, -1.909997, 2.056627, 1.857708, -3.361202, -6.154236, 5.267018, 4.987566, -4.774137, -3.148875, 1.406031, 0.671388, -4.804065, 2.04232, 4.519926, -6.888287, -3.872569, 4.796066]\r\n"
     ]
    }
   ],
   "source": [
    "# display the contents of the output buffer - this will be updated internally by the runner\n",
    "# at a rate determined by the sampling frequency and sample buffer size (typically every 1s)\n",
    "print(runner.output_buffer)"
   ]
  },
  {
   "cell_type": "code",
   "execution_count": 46,
   "metadata": {},
   "outputs": [
    {
     "name": "stdout",
     "output_type": "stream",
     "text": [
      "{12: 0.0095, 10: 0.02259, 7: 0.02649}\r\n"
     ]
    }
   ],
   "source": [
    "# decode the contents of the output buffer. There will be a delay here if the runner \n",
    "# is currently running (i.e. `is_sampling=True`).\n",
    "print(runner.decode())"
   ]
  },
  {
   "cell_type": "code",
   "execution_count": 47,
   "metadata": {},
   "outputs": [],
   "source": [
    "# stop runner\n",
    "runner.stop()"
   ]
  },
  {
   "cell_type": "markdown",
   "metadata": {},
   "source": [
    "#### Simple decoding loop\n",
    "In order to test online decoding, here is a basic synchronous loop-based option. Interrupt the cell to stop the infinite loop."
   ]
  },
  {
   "cell_type": "code",
   "execution_count": 2,
   "metadata": {},
   "outputs": [
    {
     "name": "stdout",
     "output_type": "stream",
     "text": [
      "ADC initialised\n",
      "SPI initialised\n",
      "DigiPot set to 100 = gain of 10.62497708393011\n",
      "{}\n",
      ".{12: 0.15038, 10: 0.02075, 7: 0.11349}\n",
      "{12: 0.15038, 10: 0.02075, 7: 0.11349}\n",
      ".{12: 0.04253, 10: 0.02158, 7: 0.00613}\n",
      "{12: 0.04253, 10: 0.02158, 7: 0.00613}\n",
      "{12: 0.05438, 10: 0.00615, 7: 0.08}\n",
      ".{12: 0.05438, 10: 0.00615, 7: 0.08}\n",
      "{12: 0.0278, 10: 0.00456, 7: 0.02368}\n",
      "\u001b[34m\n",
      "\n",
      "*** Sending Ctrl-C\n",
      "\n",
      "\u001b[0mreceived SIGINT - stopping\n"
     ]
    }
   ],
   "source": [
    "import utime as time\n",
    "from lib.runner import Runner\n",
    "\n",
    "Nc = 1\n",
    "Ns = 128\n",
    "Nt = 3\n",
    "stim_freqs = [7, 10, 12]\n",
    "\n",
    "# Here, we select the algorithm. Can be one of ['MsetCCA', 'GCCA', 'CCA']\n",
    "decoding_algo = 'MsetCCA'\n",
    "\n",
    "decode_period_s = 2 # read decoded output every x seconds\n",
    "\n",
    "runner = Runner(decoding_algo, buffer_size=Ns) # initialise a base runner\n",
    "runner.setup()\n",
    "\n",
    "if decoding_algo in ['MsetCCA', 'GCCA']:\n",
    "    from lib.synthetic import synth_X\n",
    "\n",
    "    calibration_data = {f:synth_X(f, Nc, Ns, Nt=Nt) for f in stim_freqs}\n",
    "    runner.calibrate(calibration_data)\n",
    "\n",
    "runner.run() # start async run loop\n",
    "\n",
    "try:\n",
    "    while True:\n",
    "        time.sleep(decode_period_s)\n",
    "        print(runner.decoded_output)\n",
    "except KeyboardInterrupt:\n",
    "    runner.stop()\n",
    "    print('received SIGINT - stopping')"
   ]
  },
  {
   "cell_type": "markdown",
   "metadata": {},
   "source": [
    "### Testing your WiFi connection\n",
    "In order to connect to a local WiFi network, you'll need to supply your network SSID and password in a `.env` file on the board. Doing this is easy: \n",
    "1. On your computer, create a `.env` file using `touch .env`. Update the `.env` file with the required fields:\n",
    "    \n",
    "    ```bash\n",
    "    #.env \n",
    "    WIFI_SSID=<your network name>\n",
    "    WIFI_PASSWORD=<your network password>\n",
    "    \n",
    "    ```\n",
    "    \n",
    "2. Send this file to your target device using the following command:\n",
    "    ```ipython\n",
    "%sendtofile --source lib/.env lib/.env  --binary\n",
    "```\n",
    "\n",
    "You may need to update the local (source) path to your `.env` file depending on where you created/stored it."
   ]
  },
  {
   "cell_type": "code",
   "execution_count": 48,
   "metadata": {},
   "outputs": [
    {
     "name": "stdout",
     "output_type": "stream",
     "text": [
      "Sent 55 bytes in 2 chunks to lib/.env.\n"
     ]
    }
   ],
   "source": [
    "%sendtofile --source /Users/rishil/Desktop/.env lib/.env  --binary"
   ]
  },
  {
   "cell_type": "code",
   "execution_count": 67,
   "metadata": {},
   "outputs": [
    {
     "name": "stdout",
     "output_type": "stream",
     "text": [
      "network config: ('192.168.0.68', '255.255.255.0', '192.168.0.1', '194.168.4.100')\r\n"
     ]
    }
   ],
   "source": [
    "from lib.utils import connect_wifi, load_env_vars\n",
    "from lib.synthetic import synth_X\n",
    "\n",
    "Nc = 1\n",
    "Ns = 128\n",
    "Nt = 3\n",
    "stim_freqs = [7, 10, 12]\n",
    "\n",
    "# Here, we select the algorithm. Can be one of ['MsetCCA', 'GCCA', 'CCA']\n",
    "decoding_algo = 'MsetCCA'\n",
    "calibration_data = {f:synth_X(f, Nc, Ns, Nt=Nt) for f in stim_freqs}\n",
    "\n",
    "env_vars = load_env_vars(\"lib/.env\")\n",
    "# connect WiFI\n",
    "ssid = env_vars.get(\"WIFI_SSID\")\n",
    "password = env_vars.get(\"WIFI_PASSWORD\")\n",
    "connect_wifi(ssid, password)"
   ]
  },
  {
   "cell_type": "markdown",
   "metadata": {},
   "source": [
    "#### Online Runner\n",
    "Now that you've established network connectivitiy, you can test out an `OnlineRunner`. In order to test web logging to a remote server, we can use a basic HTTP logger. However, this obviously needs an API/server willing to accept our requests. There is a basic logging API using `Flask` in `/eeg_lib/logging_server.py`. You can run it using `python logging_server.py` which will spin up a development server on the predefined port (5000 or 5001). Then, just configure your `OnlineRunner` with the appropriate logger params and you're set."
   ]
  },
  {
   "cell_type": "code",
   "execution_count": 68,
   "metadata": {},
   "outputs": [
    {
     "name": "stdout",
     "output_type": "stream",
     "text": [
      "ADC initialised\n",
      "SPI initialised\n",
      "DigiPot set to 100 = gain of 10.62498\n",
      "network config: ('192.168.0.68', '255.255.255.0', '192.168.0.1', '194.168.4.100')\n"
     ]
    }
   ],
   "source": [
    "from lib.runner import OnlineRunner\n",
    "from lib.logging import logger_types\n",
    "\n",
    "api_host = \"http://192.168.0.13:5001/\" # make sure the port corresponds to your logging server configuration\n",
    "log_params = dict(server=api_host, log_period=4, logger_type=logger_types.HTTP, send_raw=True, session_id='test_session_1')\n",
    "\n",
    "runner = OnlineRunner(decoding_algo, buffer_size=Ns)\n",
    "runner.setup(**log_params)"
   ]
  },
  {
   "cell_type": "code",
   "execution_count": 69,
   "metadata": {},
   "outputs": [],
   "source": [
    "# start the runner - you should see requests being made to your local server\n",
    "runner.calibrate(calibration_data)\n",
    "runner.run()"
   ]
  },
  {
   "cell_type": "code",
   "execution_count": 70,
   "metadata": {},
   "outputs": [],
   "source": [
    "runner.stop()"
   ]
  },
  {
   "cell_type": "markdown",
   "metadata": {},
   "source": [
    "## Experimentation"
   ]
  },
  {
   "cell_type": "code",
   "execution_count": 155,
   "metadata": {},
   "outputs": [
    {
     "name": "stdout",
     "output_type": "stream",
     "text": [
      "repl is in normal command mode\n",
      "[\\r\\x03\\x03] b'\\r\\nMicroPython d8a7bf8-dirty on 2022-02-09; ESP32 module with ESP32\\r\\nType \"help()\" for more information.\\r\\n>>> \\r\\n>>> \\r\\nMPY: soft reboot\\r\\nMicroPython d8a7bf8-dirty on 2022-02-09; ESP32 module with ESP32\\r\\nType \"help()\" for more information.\\r\\n>>> \\r\\n>>> \\r\\n>>> '\n",
      "[\\r\\x01] b'\\r\\n>>> \\r\\nraw REPL; CTRL-B to exit\\r\\n>'"
     ]
    }
   ],
   "source": [
    "%rebootdevice"
   ]
  },
  {
   "cell_type": "code",
   "execution_count": 12,
   "metadata": {},
   "outputs": [
    {
     "name": "stdout",
     "output_type": "stream",
     "text": [
      "%capture [--quiet] [--QUIET] outputfilename\n",
      "    records output to a file\n",
      "\n",
      "%comment\n",
      "    print this into output\n",
      "\n",
      "%disconnect [--raw]\n",
      "    disconnects from web/serial connection\n",
      "\n",
      "%esptool [--port PORT] {erase,esp32,esp8266} [binfile]\n",
      "    commands for flashing your esp-device\n",
      "\n",
      "%fetchfile [--binary] [--print] [--load] [--quiet] [--QUIET]\n",
      "                  sourcefilename [destinationfilename]\n",
      "    fetch and save a file from the device\n",
      "\n",
      "%ls [--recurse] [dirname]\n",
      "    list files on the device\n",
      "\n",
      "%lsmagic\n",
      "    list magic commands\n",
      "\n",
      "%mpy-cross [--set-exe SET_EXE] [pyfile]\n",
      "    cross-compile a .py file to a .mpy file\n",
      "\n",
      "%readbytes [--binary]\n",
      "    does serial.read_all()\n",
      "\n",
      "%rebootdevice\n",
      "    reboots device\n",
      "\n",
      "%sendtofile [--append] [--mkdir] [--binary] [--execute] [--source [SOURCE]] [--quiet]\n",
      "                   [--QUIET]\n",
      "                   [destinationfilename]\n",
      "    send cell contents or file/direcectory to the device\n",
      "\n",
      "%serialconnect [--raw] [--port PORT] [--baud BAUD] [--verbose]\n",
      "    connects to a device over USB wire\n",
      "\n",
      "%socketconnect [--raw] ipnumber portnumber\n",
      "    connects to a socket of a device over wifi\n",
      "\n",
      "%suppressendcode\n",
      "    doesn't send x04 or wait to read after sending the contents of the cell\n",
      "  (assists for debugging using %writebytes and %readbytes)\n",
      "\n",
      "%websocketconnect [--raw] [--password PASSWORD] [--verbose] [websocketurl]\n",
      "    connects to the webREPL websocket of an ESP8266 over wifi\n",
      "    websocketurl defaults to ws://192.168.4.1:8266 but be sure to be connected\n",
      "\n",
      "%writebytes [--binary] [--verbose] stringtosend\n",
      "    does serial.write() of the python quoted string given\n",
      "\n",
      "%%writefile [--append] [--execute] destinationfilename\n",
      "    write contents of cell to a file\n",
      "\n"
     ]
    }
   ],
   "source": [
    "%lsmagic"
   ]
  }
 ],
 "metadata": {
  "kernelspec": {
   "display_name": "MicroPython - USB",
   "language": "micropython",
   "name": "micropython"
  },
  "language_info": {
   "codemirror_mode": "python",
   "file_extension": ".py",
   "mimetype": "text/python",
   "name": "micropython"
  }
 },
 "nbformat": 4,
 "nbformat_minor": 4
}
