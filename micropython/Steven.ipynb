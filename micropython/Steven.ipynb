{
 "cells": [
  {
   "cell_type": "markdown",
   "metadata": {},
   "source": [
    "Connect to correct port that the board is connected to\n",
    "find the port like this on terminal:\n",
    "```\n",
    "ls /dev/tty.*\n",
    "```\n",
    "\n",
    "and send the entire lib folder to it with ampy like this on terminal (change to your path of the board):\n",
    "```\n",
    "ampy -p /dev/tty.usbserial-0001 put lib/\n",
    "```\n",
    "\n",
    "Make a file called .env with this inside it:\n",
    "\n",
    "```\n",
    "#.env\n",
    "WIFI_SSID=WIFI_NAME\n",
    "WIFI_PASSWORD=WIFI_PASSWORD\n",
    "```\n",
    "change WIFI_NAME and WIFI_PASSWORD to your WiFi credentials\n",
    "\n",
    "and then run the following on terminal to send it to board (change to your path of the board):\n",
    "\n",
    "```\n",
    "ampy -p /dev/tty.usbserial-0001 put .env lib/.env\n",
    "```"
   ]
  },
  {
   "cell_type": "markdown",
   "metadata": {},
   "source": [
    "Now connect to the board on this notebook by running the next code, change path to your board port:"
   ]
  },
  {
   "cell_type": "code",
   "execution_count": 10,
   "metadata": {},
   "outputs": [
    {
     "name": "stdout",
     "output_type": "stream",
     "text": [
      "\u001b[34mConnecting to --port=/dev/tty.usbserial-0001 --baud=115200 \u001b[0m\n",
      "\u001b[34mReady.\n",
      "\u001b[0m"
     ]
    }
   ],
   "source": [
    "%serialconnect to --port=\"/dev/tty.usbserial-0001\" --baud=115200"
   ]
  },
  {
   "cell_type": "markdown",
   "metadata": {},
   "source": [
    "You can test if it is connecting to wifi here:"
   ]
  },
  {
   "cell_type": "code",
   "execution_count": null,
   "metadata": {},
   "outputs": [],
   "source": [
    "from lib.utils import connect_wifi, load_env_vars\n",
    "\n",
    "env_vars = load_env_vars(\"lib/.env\")\n",
    "# connect WiFI\n",
    "ssid = env_vars.get(\"WIFI_SSID\")\n",
    "password = env_vars.get(\"WIFI_PASSWORD\")\n",
    "connect_wifi(ssid, password)"
   ]
  },
  {
   "cell_type": "markdown",
   "metadata": {},
   "source": [
    "Now you need to run the flask server by running on terminal, but change the path to your eeg_lib folder:\n",
    "```\n",
    "python /Users/rishil/Desktop/FYP/EEG-decoding/eeg_lib/simple_server.py\n",
    "```\n",
    "\n",
    "Inside the file you can change your output logs file name and path:\n",
    "```\n",
    "DEFAULT_FILENAME = \"/Users/rishil/Desktop/FYP/EEG-decoding/eeg_lib/logs/rishil_test_1_raw.json\"\n",
    "```\n",
    "\n",
    "You will need to send posts to the server with the code as followed, you can run it here to test:"
   ]
  },
  {
   "cell_type": "code",
   "execution_count": 3,
   "metadata": {},
   "outputs": [
    {
     "name": "stdout",
     "output_type": "stream",
     "text": [
      "ADC initialised\n",
      "SPI initialised\n",
      "DigiPot set to 250 = gain of 2.031451\n",
      "2\n",
      ".network config: ('192.168.0.76', '255.255.255.0', '192.168.0.1', '194.168.4.100')\n",
      "{'raw_data': [1726, 1968, 2140, 1805, 1682, 1776, 2013, 2158, 2080, 1915, 1808, 2038, 2153, 2055, 1878, 1709, 1709, 2146, 2032, 1854, 1689, 1742, 1978, 2109, 1949, 1787, 2027, 2160, 2064, 1888, 1712, 1703, 2146, 2033, 1851, 1696, 1721, 1957, 2130, 1813, 1687, 1771, 2007, 2156, 2076, 1906, 1872, 2087, 2128, 2005, 1827, 1683, 1747, 2113, 1968, 1785, 1681, 1787, 2027, 2157, 1758, 1687, 1840, 2063, 2152, 2046, 1863, 1871, 2093, 2127, 1997, 1813, 1681, 1755, 2018, 1776, 1686, 1840, 2063, 2156, 2041, 1861, 1894, 2096, 2129, 2003, 1823, 1689, 1750, 2112, 1968, 1779, 1689, 1792, 2031, 2159, 1751, 1685, 1841, 2082, 2132, 1809, 1687, 1795, 2082, 1909, 1726, 1697, 1874, 2081, 2129, 1697, 1712, 2093, 2119, 1934, 1751, 1694, 2163, 2070, 1891, 1717, 1709, 1904, 2106, 1697, 1930, 2123, 2123, 1995, 1808, 1689, 1777, 2105, 1953, 1773, 1694, 1825, 2055, 2159, 1745, 1698, 1867, 2078, 2144, 2032, 1854, 1696, 2112, 2114, 1825, 1683, 2097, 2086, 1911, 1813, 2047, 2157, 2054, 1877, 1710, 1712, 2147, 2030, 1842, 1690, 1722, 1955, 2135, 2113, 1687, 1817, 2059, 2154, 2032, 1738, 1695, 2157, 2039, 1863, 1698, 1711, 1931, 2114, 1848, 1695, 1728, 1968, 2133, 2105, 1958, 1775, 2032, 2154, 1712, 1983, 2150, 2090, 1933, 1762, 1691, 1830, 2060, 1875, 1703, 1719, 2146, 2082, 1920, 1801, 2033, 2160, 2069, 1898, 1725, 1703, 1893, 2032, 1855, 1696, 1733, 1969, 2140, 2111, 1686, 1746, 1999, 2158, 2096, 1917, 1735, 2144, 1906, 1725, 1705, 1892, 2091, 2135, 2015, 1712, 1935, 2122, 2123, 1999, 1814, 1691, 2135, 2115, 1968, 1795, 1689, 1790, 2027, 2160, 1726, 1711]}\n"
     ]
    },
    {
     "name": "stderr",
     "output_type": "stream",
     "text": [
      "Traceback (most recent call last):\n",
      "  File \"<stdin>\", line 52, in <module>\n",
      "  File \"lib/requests.py\", line 163, in JSONRequest\n",
      "  File \"lib/requests.py\", line 381, in OpenRequestJSONData\n",
      "  File \"lib/requests.py\", line 282, in OpenRequest\n",
      "Exception: Error to connect to 192.168.0.13:5001\n"
     ]
    }
   ],
   "source": [
    "import gc\n",
    "from micropython import alloc_emergency_exception_buf\n",
    "from lib.requests import MicroWebCli as requests\n",
    "from lib.utils import load_env_vars\n",
    "import ujson as json\n",
    "from lib.utils import connect_wifi, load_env_vars\n",
    "\n",
    "# allocate exception buffer for ISRs\n",
    "alloc_emergency_exception_buf(100)\n",
    "# enable and configure garbage collection\n",
    "gc.enable()\n",
    "gc.collect()\n",
    "gc.threshold(gc.mem_free() // 4 + gc.mem_alloc())\n",
    "\n",
    "from machine import Pin\n",
    "import time\n",
    "\n",
    "p26 = Pin(26, Pin.OUT)  #green\n",
    "p13 = Pin(13, Pin.OUT)  #red\n",
    "buttonA = Pin(32, Pin.IN)\n",
    "buttonB = Pin(34, Pin.IN)\n",
    "p26.on()\n",
    "p13.on()\n",
    "\n",
    "from ulab import numpy as np\n",
    "import utime as time\n",
    "from lib.runner import Runner  \n",
    "\n",
    "runner = Runner('CCA', buffer_size=256)\n",
    "runner.setup()\n",
    "runner.run()\n",
    "\n",
    "p26.off()\n",
    "p13.off()\n",
    "\n",
    "print(2)\n",
    "time.sleep(5)\n",
    "\n",
    "p26.on()\n",
    "p13.on()\n",
    "\n",
    "env_vars = load_env_vars(\"lib/.env\")\n",
    "ssid = env_vars.get(\"WIFI_SSID\")\n",
    "password = env_vars.get(\"WIFI_PASSWORD\")\n",
    "connect_wifi(ssid, password)\n",
    "\n",
    "while True:\n",
    "    time.sleep(4)\n",
    "    data = runner.periph_manager.read_adc_buffer()\n",
    "    toSend = {\"raw_data\":data}\n",
    "    print(toSend)\n",
    "    requests.JSONRequest(\"http://192.168.0.13:5001/\", toSend)\n",
    "    del data"
   ]
  },
  {
   "cell_type": "code",
   "execution_count": null,
   "metadata": {},
   "outputs": [],
   "source": [
    "runner.stop()"
   ]
  },
  {
   "cell_type": "markdown",
   "metadata": {},
   "source": [
    "Now if it works on here then you need to make a file called main.py with that code in and send it to the board using:\n",
    "\n",
    "Make sure source main.py is in same directory as this notebook"
   ]
  },
  {
   "cell_type": "code",
   "execution_count": 19,
   "metadata": {},
   "outputs": [
    {
     "name": "stdout",
     "output_type": "stream",
     "text": [
      "Sent 252 lines (8517 bytes) to lib/runner.py.\n"
     ]
    }
   ],
   "source": [
    "%sendtofile lib/runner.py --source lib/runner.py"
   ]
  },
  {
   "cell_type": "code",
   "execution_count": 14,
   "metadata": {},
   "outputs": [
    {
     "name": "stdout",
     "output_type": "stream",
     "text": [
      "\u001b[34mConnecting to --port=/dev/tty.usbserial-0001 --baud=115200 \u001b[0m\n",
      "\u001b[34mReady.\n",
      "\u001b[0m"
     ]
    }
   ],
   "source": [
    "%serialconnect to --port=\"/dev/tty.usbserial-0001\" --baud=115200"
   ]
  },
  {
   "cell_type": "code",
   "execution_count": 15,
   "metadata": {},
   "outputs": [],
   "source": [
    "def preprocess_data(signal):\n",
    "\n",
    "    \"\"\"Preprocess incoming signal before decoding algorithms.\n",
    "    This involves applying a bandpass filter to isolate the target SSVEP range\n",
    "    and then downsampling the signal to the Nyquist boundary.\n",
    "\n",
    "    Returns:\n",
    "        [np.ndarray]: filtered and downsampled signal\n",
    "    \"\"\"\n",
    "    from lib.signal import sos_filter\n",
    "\n",
    "    signal = np.array(signal) - np.mean(signal)  # remove DC component\n",
    "\n",
    "    # downsample filtered signal by only selecting every `ds_factor` sample\n",
    "    return sos_filter(signal, fs=self.base_sample_freq)"
   ]
  },
  {
   "cell_type": "code",
   "execution_count": 24,
   "metadata": {},
   "outputs": [],
   "source": [
    "data = [1735, 1698, 1687, 1699, 1699, 1694, 1701, 1734, 1709, 1739, 1773, 1739, 1772, 1759, 1775, 1767, 1777, 1758, 1741, 1751, 1719, 1690, 1711, 1689, 1702, 1687, 1704, 1744, 1714, 1700, 1727, 1756, 1776, 1765, 1776, 1774, 1776, 1747, 1712, 1744, 1766, 1734, 1703, 1687, 1691, 1680, 1704, 1682, 1712, 1747, 1714, 1694, 1717, 1754, 1777, 1763, 1739, 1765, 1778, 1751, 1719, 1779, 1774, 1737, 1699, 1686, 1712, 1726, 1691, 1687, 1719, 1755, 1680, 1694, 1731, 1771, 1773, 1745, 1746, 1777, 1766, 1729, 1695, 1719, 1755, 1719, 1683, 1692, 1701, 1701, 1680, 1709, 1744, 1774, 1761, 1723, 1762, 1776, 1755, 1775, 1775, 1775, 1745, 1711, 1681, 1701, 1734, 1694, 1682, 1712, 1691, 1725, 1692, 1726, 1762, 1773, 1773, 1739, 1770, 1773, 1742, 1767, 1734, 1763, 1730, 1693, 1713, 1683, 1714, 1686, 1691, 1698, 1687, 1728, 1696, 1738, 1769, 1744, 1773, 1763, 1774, 1771, 1776, 1741, 1769, 1744, 1773, 1775, 1742, 1770, 1749, 1761, 1733, 1695, 1681, 1690, 1715, 1682, 1687, 1722, 1693, 1699, 1694, 1730, 1762, 1773, 1775, 1749, 1773, 1764, 1729, 1694, 1777, 1758, 1727, 1694, 1685, 1700, 1712, 1680, 1694, 1728, 1770, 1680, 1699, 1737, 1767, 1771, 1727, 1749, 1777, 1762, 1728, 1686, 1771, 1746, 1712, 1679, 1691, 1679, 1713, 1680, 1689, 1719, 1734, 1679, 1699, 1733, 1768, 1762, 1769, 1744, 1767, 1754, 1715, 1740, 1767, 1744, 1701, 1673, 1669, 1675, 1693, 1675, 1703, 1738, 1709, 1742, 1707, 1744, 1771, 1764, 1710, 1681, 1712, 1681, 1712, 1744, 1776, 1744, 1742, 1741, 1760, 1762, 1757, 1762, 1750, 1757, 1759, 1730, 1758, 1766, 1757, 1726, 1687, 1717]\n",
    "# print(preprocess_data(self,data))"
   ]
  },
  {
   "cell_type": "code",
   "execution_count": 20,
   "metadata": {},
   "outputs": [
    {
     "name": "stdout",
     "output_type": "stream",
     "text": [
      "ADC initialised\n",
      "SPI initialised\n",
      "DigiPot set to 200 = gain of 4.895959610426813\n"
     ]
    }
   ],
   "source": [
    "from ulab import numpy as np\n",
    "import utime as time\n",
    "from lib.runner import Runner  \n",
    "\n",
    "runner = Runner('CCA', buffer_size=256)\n",
    "runner.setup()\n",
    "runner.run()\n"
   ]
  },
  {
   "cell_type": "code",
   "execution_count": 26,
   "metadata": {},
   "outputs": [
    {
     "name": "stdout",
     "output_type": "stream",
     "text": [
      "64\r\n"
     ]
    }
   ],
   "source": [
    "print(len(runner.preprocess_data(data)))"
   ]
  },
  {
   "cell_type": "code",
   "execution_count": 23,
   "metadata": {},
   "outputs": [],
   "source": [
    "runner.stop()"
   ]
  },
  {
   "cell_type": "code",
   "execution_count": null,
   "metadata": {},
   "outputs": [],
   "source": []
  }
 ],
 "metadata": {
  "kernelspec": {
   "display_name": "MicroPython - USB",
   "language": "micropython",
   "name": "micropython"
  },
  "language_info": {
   "codemirror_mode": "python",
   "file_extension": ".py",
   "mimetype": "text/python",
   "name": "micropython"
  }
 },
 "nbformat": 4,
 "nbformat_minor": 4
}
