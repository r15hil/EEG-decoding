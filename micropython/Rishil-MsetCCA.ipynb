{
 "cells": [
  {
   "cell_type": "code",
   "execution_count": 292,
   "metadata": {},
   "outputs": [
    {
     "name": "stdout",
     "output_type": "stream",
     "text": [
      "\u001b[34mConnecting to --port=/dev/tty.usbserial-0001 --baud=115200 \u001b[0m\n",
      "\u001b[34mReady.\n",
      "\u001b[0m"
     ]
    }
   ],
   "source": [
    "%serialconnect to --port=\"/dev/tty.usbserial-0001\" --baud=115200"
   ]
  },
  {
   "cell_type": "code",
   "execution_count": 293,
   "metadata": {},
   "outputs": [],
   "source": [
    "from ulab import numpy as np\n",
    "import gc\n",
    "\n",
    "from lib.computation import solve_eig_qr, standardise, solve_gen_eig_prob\n",
    "    \n",
    "class CCA():\n",
    "    \n",
    "    def __init__(self, stim_freqs, fs, Nh=2):\n",
    "        self.Nh = Nh\n",
    "        self.stim_freqs = stim_freqs\n",
    "        self.fs = fs\n",
    "        \n",
    "    def compute_corr(self, X_test):            \n",
    "        result = {}\n",
    "        Cxx = np.dot(X_test, X_test.transpose()) # precompute data auto correlation matrix\n",
    "        for f in self.stim_freqs:\n",
    "            Y = harmonic_reference(f, self.fs, np.max(X_test.shape), Nh=self.Nh, standardise_out=False)\n",
    "            rho = self.cca_eig(X_test, Y, Cxx=Cxx) # canonical variable matrices. Xc = X^T.W_x\n",
    "            result[f] = rho\n",
    "        return result\n",
    "    \n",
    "    @staticmethod\n",
    "    def cca_eig(X, Y, Cxx=None, eps=1e-6):\n",
    "        if Cxx is None:\n",
    "            Cxx = np.dot(X, X.transpose()) # auto correlation matrix\n",
    "        Cyy = np.dot(Y, Y.transpose()) \n",
    "        Cxy = np.dot(X, Y.transpose()) # cross correlation matrix\n",
    "        Cyx = np.dot(Y, X.transpose()) # same as Cxy.T\n",
    "\n",
    "        M1 = np.dot(np.linalg.inv(Cxx+eps), Cxy) # intermediate result\n",
    "        M2 = np.dot(np.linalg.inv(Cyy+eps), Cyx)\n",
    "\n",
    "        lam, _ = solve_eig_qr(np.dot(M1, M2), 20)\n",
    "        return np.sqrt(lam)\n",
    "    \n",
    "class UnivariateMsetCCA():\n",
    "    \"\"\"\n",
    "    Multiset CCA algorithm for SSVEP decoding.\n",
    "    \n",
    "    Computes optimised reference signal set based on historical observations\n",
    "    and uses ordinary CCA for final correlation computation given a new test\n",
    "    signal.\n",
    "    \n",
    "    Note: this is a 1 channel implementation (Nc=1)\n",
    "    \"\"\"\n",
    "    \n",
    "    def __init__(self):\n",
    "        self.Ns, self.Nt = None, None\n",
    "        \n",
    "    def fit(self, X, compress_ref=True):\n",
    "        \"\"\"\n",
    "        Expects a training matrix X of shape Nt x Ns. If `compress_ref=True`, the `Nt` components\n",
    "        in optimised reference signal Y will be averaged to form a single reference vector. This\n",
    "        can be used for memory optimisation but will likely degrade performance slightly.         \n",
    "        \"\"\"\n",
    "        if X.shape[0] > X.shape[1]:\n",
    "            print(\"Warning: received more trials than samples. This is unusual behaviour: check orientation of X\"\n",
    "                 )\n",
    "        R = np.dot(X, X.transpose()) # inter trial covariance matrix\n",
    "        S = np.eye(len(R))*np.diag(R) # intra-trial diag covariance matrix\n",
    "\n",
    "        lam, V = solve_gen_eig_prob((R-S), S) # solve generalised eig problem\n",
    "        w = V[:, np.argmax(lam)] # find eigenvector corresp to largest eigenvalue\n",
    "        Y = np.array([x*w[i] for i, x in enumerate(X)]) # store optimised reference vector Nt x Ns\n",
    "        self.Y  = Y\n",
    "        if compress_ref:\n",
    "            self.Y = np.mean(Y, axis=0).reshape((1, max(Y.shape))) # this will average Nt components in Y: Nc x Nt -> 1 x Nt\n",
    "        \n",
    "    def compute_corr(self, X_test):\n",
    "        if self.Y is None:\n",
    "            raise ValueError(\"Reference matrix Y must be computed using `fit` before computing corr\")\n",
    "        if len(X_test.shape) == 1:\n",
    "            X_test = X_test.reshape((1, len(X_test)))\n",
    "            \n",
    "        print(X_test.shape, self.Y.shape)\n",
    "        return CCA.cca_eig(X_test, self.Y)[0]\n",
    "          \n",
    "\n",
    "def harmonic_reference(f0, fs, Ns, Nh=1, standardise_out=False):\n",
    "    \n",
    "    '''\n",
    "    Generate reference signals for canonical correlation analysis (CCA)\n",
    "    -based steady-state visual evoked potentials (SSVEPs) detection [1, 2].\n",
    "    function [ y_ref ] = cca_reference(listFreq, fs,  Ns, Nh) \n",
    "    Input:\n",
    "      f0        : stimulus frequency\n",
    "      fs              : Sampling frequency\n",
    "      Ns              : # of samples in trial\n",
    "      Nh          : # of harmonics\n",
    "    Output:\n",
    "      y_ref           : Generated reference signals with shape (Nf, Ns, 2*Nh)\n",
    "    '''  \n",
    "    X = np.zeros((Nh*2, Ns))\n",
    "    \n",
    "    for harm_i in range(Nh):\n",
    "        # Sin and Cos\n",
    "        X[2*harm_i, :] = np.sin(np.arange(1,Ns+1)*(1/fs)*2*np.pi*(harm_i+1)*f0)\n",
    "        gc.collect()\n",
    "        X[2*harm_i+1, :] = np.cos(np.arange(1,Ns+1)*(1/fs)*2*np.pi*(harm_i+1)*f0)\n",
    "        gc.collect()\n",
    "\n",
    "    # print(micropython.mem_info(1))\n",
    "    if standardise_out: # zero mean, unit std. dev\n",
    "        return standardise(X)\n",
    "    return X\n"
   ]
  },
  {
   "cell_type": "code",
   "execution_count": 239,
   "metadata": {},
   "outputs": [
    {
     "name": "stdout",
     "output_type": "stream",
     "text": [
      "array([], dtype=float32)\n",
      "array([1.0, 1.0, 1.0], dtype=float32)\n",
      "array([1.0, 1.0, 1.0, 1.0, 1.0, 1.0], dtype=float32)\n",
      "array([[1.0, 1.0, 1.0],\n",
      "       [1.0, 1.0, 1.0]], dtype=float32)\n"
     ]
    }
   ],
   "source": [
    "from ulab import numpy as np\n",
    "\n",
    "data1 = np.array([])\n",
    "data2 = np.array([1,1,1])\n",
    "data4 = np.array([1,1,1])\n",
    "\n",
    "data3 = np.concatenate((data1,data2,data4))\n",
    "\n",
    "print(data1)\n",
    "print(data2)\n",
    "print(data3)\n",
    "data3 = data3.reshape((2,3))\n",
    "print(data3)"
   ]
  },
  {
   "cell_type": "markdown",
   "metadata": {},
   "source": [
    "# For testing on Notebook"
   ]
  },
  {
   "cell_type": "markdown",
   "metadata": {},
   "source": [
    "### Get the data for calibration"
   ]
  },
  {
   "cell_type": "code",
   "execution_count": 294,
   "metadata": {},
   "outputs": [
    {
     "name": "stdout",
     "output_type": "stream",
     "text": [
      "ADC initialised\n",
      "SPI initialised\n",
      "DigiPot set to 100 = gain of 10.62498\n"
     ]
    }
   ],
   "source": [
    "from ulab import numpy as np\n",
    "import utime as time\n",
    "from lib.runner import Runner\n",
    "\n",
    "decode_period_s = 4 # decode every x seconds\n",
    "number_of_calibrations = 4\n",
    "\n",
    "runner = Runner() # initialise a base runner\n",
    "runner.setup()\n",
    "\n",
    "def calibration(number_of_calibrations, decode_period_s):\n",
    "\n",
    "    global runner\n",
    "    \n",
    "    data = np.array([])\n",
    "    runner.run() #depending on implementation, if already running then not needed, however may want to manually call this\n",
    "    time.sleep(5)\n",
    "    count=0\n",
    "\n",
    "    while count < number_of_calibrations:\n",
    "        time.sleep(decode_period_s)\n",
    "        data = np.concatenate((data,np.array(np.array(runner.output_buffer))))\n",
    "        count+=1\n",
    "        gc.collect()\n",
    "    runner.stop()\n",
    "\n",
    "    print(data.shape)\n",
    "\n",
    "    data = data.reshape((number_of_calibrations,256))\n",
    "\n",
    "    print(data.shape)\n",
    "    gc.collect()\n",
    "    return data\n",
    "\n",
    "# def preprocess_data(signal):\n",
    "    \n",
    "#     \"\"\"Preprocess incoming signal before decoding algorithms.\n",
    "#     This involves applying a bandpass filter to isolate the target SSVEP range\n",
    "#     and then downsampling the signal to the Nyquist boundary.\n",
    "    \n",
    "#     Returns:\n",
    "#         [np.ndarray]: filtered and downsampled signal\n",
    "#     \"\"\"\n",
    "#     from lib.signal import sos_filter\n",
    "#     downsample_freq = 64\n",
    "#     ds_factor = 256//downsample_freq\n",
    "#     return sos_filter(signal)[::ds_factor]\n",
    "\n",
    "\n",
    "\n"
   ]
  },
  {
   "cell_type": "markdown",
   "metadata": {},
   "source": [
    "### Instantiate the MsetCCA Decoder, calibrate"
   ]
  },
  {
   "cell_type": "code",
   "execution_count": 295,
   "metadata": {},
   "outputs": [
    {
     "name": "stdout",
     "output_type": "stream",
     "text": [
      "....(1024,)\n",
      "(4, 256)\n"
     ]
    }
   ],
   "source": [
    "mset7hz = UnivariateMsetCCA()\n",
    "data7 = calibration(number_of_calibrations,decode_period_s)\n",
    "gc.collect()\n",
    "mset7hz.fit(data7, False)"
   ]
  },
  {
   "cell_type": "code",
   "execution_count": 296,
   "metadata": {},
   "outputs": [
    {
     "name": "stdout",
     "output_type": "stream",
     "text": [
      "....(1024,)\n",
      "(4, 256)\n"
     ]
    }
   ],
   "source": [
    "mset10hz = UnivariateMsetCCA()\n",
    "data10 = calibration(number_of_calibrations,decode_period_s)\n",
    "gc.collect()\n",
    "mset10hz.fit(data10, False)"
   ]
  },
  {
   "cell_type": "code",
   "execution_count": 167,
   "metadata": {},
   "outputs": [
    {
     "name": "stdout",
     "output_type": "stream",
     "text": [
      "1.0\r\n"
     ]
    }
   ],
   "source": [
    "print(mset10hz.compute_corr(data10))"
   ]
  },
  {
   "cell_type": "code",
   "execution_count": 207,
   "metadata": {},
   "outputs": [
    {
     "name": "stdout",
     "output_type": "stream",
     "text": [
      "....(1024,)\n",
      "(4, 256)\n"
     ]
    }
   ],
   "source": [
    "mset12hz = UnivariateMsetCCA()\n",
    "data12 = calibration(number_of_calibrations,decode_period_s)\n",
    "mset12hz.fit(data12, False)"
   ]
  },
  {
   "cell_type": "code",
   "execution_count": 208,
   "metadata": {},
   "outputs": [],
   "source": []
  },
  {
   "cell_type": "code",
   "execution_count": 209,
   "metadata": {},
   "outputs": [],
   "source": [
    "import json\n",
    "\n",
    "data = {\"12hz\": data12list}\n",
    "\n",
    "with open('data12hz.json', 'w') as jsonfile:\n",
    "    json.dump(data, jsonfile)"
   ]
  },
  {
   "cell_type": "code",
   "execution_count": 176,
   "metadata": {},
   "outputs": [
    {
     "name": "stdout",
     "output_type": "stream",
     "text": [
      "0.9999975\r\n"
     ]
    }
   ],
   "source": [
    "print(mset7hz.compute_corr(data7))"
   ]
  },
  {
   "cell_type": "code",
   "execution_count": 247,
   "metadata": {},
   "outputs": [
    {
     "name": "stdout",
     "output_type": "stream",
     "text": [
      "(2, 256)\r\n"
     ]
    }
   ],
   "source": [
    "print(mset7hz.Y.shape)\n",
    "runner.run()\n"
   ]
  },
  {
   "cell_type": "code",
   "execution_count": 250,
   "metadata": {},
   "outputs": [
    {
     "name": "stdout",
     "output_type": "stream",
     "text": [
      "(256,)\r\n"
     ]
    }
   ],
   "source": [
    "print(np.array(runner.output_buffer).shape)"
   ]
  },
  {
   "cell_type": "code",
   "execution_count": 251,
   "metadata": {},
   "outputs": [],
   "source": [
    "runner.stop()"
   ]
  },
  {
   "cell_type": "code",
   "execution_count": 291,
   "metadata": {},
   "outputs": [
    {
     "name": "stdout",
     "output_type": "stream",
     "text": [
      "(1, 256) (4, 256)\n",
      "(1, 256) (4, 256)\n",
      "LEFT 0.2957219 0.1061028\n",
      ".Traceback (most recent call last):\n",
      "  File \"lib/runner.py\", line 95, in decode\n",
      "  File \"lib/decoding.py\", line 20, in compute_corr\n",
      "  File \"lib/decoding.py\", line 57, in harmonic_reference\n",
      "MemoryError: memory allocation failed, allocating 4096 bytes\n",
      "(1, 256) (4, 256)\n",
      "(1, 256) (4, 256)\n",
      "UP 0.1349685 0.2012595\n",
      ".(1, 256) (4, 256)\n",
      "(1, 256) (4, 256)\n",
      "UP 0.1371359 0.1429319\n",
      ".(1, 256) (4, 256)\n",
      "(1, 256) (4, 256)\n",
      "UP 0.1037697 0.1103653\n",
      "(1, 256) (4, 256)\n",
      "(1, 256) (4, 256)\n",
      "UP 0.1556868 0.1624804\n",
      ".(1, 256) (4, 256)\n",
      "(1, 256) (4, 256)\n",
      "LEFT 0.1528386 0.114336\n",
      ".(1, 256) (4, 256)\n",
      "(1, 256) (4, 256)\n",
      "UP 0.2112024 0.2341473\n",
      ".(1, 256) (4, 256)\n",
      "(1, 256) (4, 256)\n",
      "LEFT 0.2002512 0.09901379\n",
      ".(1, 256) (4, 256)\n",
      "(1, 256) (4, 256)\n",
      "UP 0.1278256 0.2234941\n",
      "(1, 256) (4, 256)\n",
      "(1, 256) (4, 256)\n",
      "UP 0.1290136 0.1468532\n",
      ".(1, 256) (4, 256)\n",
      "(1, 256) (4, 256)\n",
      "LEFT 0.1799493 0.1408222\n",
      ".(1, 256) (4, 256)\n",
      "(1, 256) (4, 256)\n",
      "LEFT 0.1529382 0.1180655\n",
      "Traceback (most recent call last):\n",
      "  File \"lib/runner.py\", line 130, in sample_callback\n",
      "  File \"lib/runner.py\", line 95, in decode\n",
      "  File \"lib/decoding.py\", line 20, in compute_corr\n",
      "  File \"lib/decoding.py\", line 57, in harmonic_reference\n",
      "MemoryError: memory allocation failed, allocating 4096 bytes\n",
      ".(1, 256) (4, 256)\n",
      "(1, 256) (4, 256)\n",
      "LEFT 0.2575302 0.07453115\n",
      "(1, 256) (4, 256)\n",
      "(1, 256) (4, 256)\n",
      "LEFT 0.1899445 0.1058692\n",
      ".(1, 256) (4, 256)\n",
      "(1, 256) (4, 256)\n",
      "UP 0.109925 0.1731468\n",
      ".(1, 256) (4, 256)\n",
      "(1, 256) (4, 256)\n",
      "UP 0.1582299 0.1815971\n",
      ".(1, 256) (4, 256)\n",
      "(1, 256) (4, 256)\n",
      "LEFT 0.1249299 0.07815075\n",
      ".(1, 256) (4, 256)\n",
      "(1, 256) (4, 256)\n",
      "LEFT 0.1445052 0.1113064\n",
      "(1, 256) (4, 256)\n",
      "(1, 256) (4, 256)\n",
      "LEFT 0.1194069 0.03787102\n",
      ".(1, 256) (4, 256)\n",
      "(1, 256) (4, 256)\n",
      "UP 0.1015888 0.2278435\n",
      ".(1, 256) (4, 256)\n",
      "(1, 256) (4, 256)\n",
      "UP 0.1462277 0.176013\n",
      "\u001b[34m\n",
      "\n",
      "*** Sending Ctrl-C\n",
      "\n",
      "\u001b[0mreceived SIGINT - stopping\n"
     ]
    }
   ],
   "source": [
    "try:\n",
    "    while True:\n",
    "        runner.run()\n",
    "        time.sleep(decode_period_s)\n",
    "        signals = np.array(runner.output_buffer)\n",
    "        seven = mset7hz.compute_corr(signals)\n",
    "        ten = mset10hz.compute_corr(signals)\n",
    "        if seven > ten:\n",
    "            print(\"LEFT\",seven, ten)\n",
    "        else: \n",
    "            print(\"UP\",seven, ten)\n",
    "#         print(\"12:\",mset12hz.compute_corr(signals))\n",
    "        gc.collect()\n",
    "except KeyboardInterrupt:\n",
    "    runner.stop()\n",
    "    print('received SIGINT - stopping')"
   ]
  },
  {
   "cell_type": "code",
   "execution_count": 114,
   "metadata": {},
   "outputs": [],
   "source": [
    "test = [0.1242559, 11.46469, 74.65332, 103.8912, -34.06412, -60.70904, 14.68118, -53.45461, 8.520441, 5.189057, -52.20088, 18.83386, -39.87533, -63.34948, -62.88006, -7.184746, 7.670803, -55.21675, -6.25758, -4.994353, 0.5614357, -31.81414, -39.97784, -13.29278, -29.46731, -27.87234, -32.13979, -1.18476, 15.23, 28.73038, 5.43701, -17.22902, -13.46323, 34.19746, 56.66936, -42.65666, -11.44159, 47.63587, 23.49923, 33.89868, 36.91066, 53.96599, 34.08094, 10.92797, 15.98665, -6.482882, 0.408886, 5.840509, 18.16956, 10.95813, -15.54138, 34.28454, 13.00534, -46.4482, -15.40177, -1.627297, 5.766224, 8.314998, -1.119732, 10.07932, 3.315748, 0.03746986, -1.078606, -27.79785, 0.01785966, 5.351636, 50.84169, 101.661, 0.7994409, -71.67712, 27.90154, -21.18307, -16.46765, 116.172, 18.59735, -76.45651, 2.352575, 37.39071, -17.10242, 5.487722, 29.96381, 22.48346, -15.15711, -54.20102, 10.04527, 2.682909, -15.34871, -5.530307, 0.474077, -0.7739229, -13.96313, -3.159647, -41.81649, -59.99507, -53.90737, -17.03086, -34.74346, -53.52586, 12.70059, 29.6495, 19.60801, 0.9641957, 32.63427, 17.31091, -9.930633, 7.225876, -0.9699779, 44.28185, 46.07536, 33.65012, 30.92655, -0.7912481, 26.36427, 51.49652, -5.184861, -37.20837, 20.43198, 42.41333, 3.472577, -17.00937, 8.404181, 9.773996, -18.75221, -23.85296, -67.33251, -98.90683, -43.48698, 34.19974, -0.1304363, -10.77824, -56.37276, -55.54525, 38.63149, 0.2614212, -60.9148, 11.9404, -26.60442, -14.86391, 44.23504, 15.14816, -14.136, -48.55381, 8.350963, -28.15352, -73.79556, -17.79183, 9.946865, 8.26569, -45.27136, 3.866302, 18.80053, -11.55937, -21.47431, -42.30291, -9.220036, -29.43005, -26.04054, 1.93306, 15.30578, 22.80381, 39.88576, 55.90287, 27.19797, 45.74711, 67.56344, 13.89118, -12.04704, 74.86397, 66.64375, 37.44535, 36.4254, -9.222485, 27.44955, -9.426237, -9.804419, -4.118249, -20.63764, 2.659115, -5.301051, 32.51813, -19.36118, -28.64934, 2.767703, -30.41734, -22.98153, 30.98759, 3.012625, -50.10794, 5.20744, -16.45278, 28.40638, 57.91431, -0.1297985, -11.91543, -74.49046, -123.9902, -38.90279, 33.8967, 15.32243, -21.15151, -52.58987, -2.684384, -13.47912, 22.47922, 122.6188, -10.70152, -74.81825, 42.68987, 25.29355, -20.02717, 3.962679, 10.90367, 28.50235, -35.6212, -50.40169, 11.51803, 3.826478, 2.460785, -9.174918, 18.92617, 5.485937, 18.22744, 44.68678, -40.20915, -54.41223, 7.552943, 58.81316, -6.156619, 1.746366, 39.31748, -17.60847, -19.35892, -16.52242, 11.28899, -4.493011, -8.112165, -10.51986, 1.142932, 40.35253, 28.09395, 34.61413, 1.831679, -2.851778, 34.99657, 59.66302, -9.836491, -34.39755, 52.23692, 24.66334, 13.21892, 6.807874, -12.62385, -4.796031, -30.46659, -29.79107, -28.90603]"
   ]
  },
  {
   "cell_type": "code",
   "execution_count": 145,
   "metadata": {},
   "outputs": [
    {
     "name": "stderr",
     "output_type": "stream",
     "text": [
      "Traceback (most recent call last):\n",
      "  File \"<stdin>\", line 1, in <module>\n",
      "NameError: name 'data10' isn't defined\n"
     ]
    }
   ],
   "source": [
    "print(data10)"
   ]
  },
  {
   "cell_type": "code",
   "execution_count": 198,
   "metadata": {},
   "outputs": [
    {
     "name": "stderr",
     "output_type": "stream",
     "text": [
      "Traceback (most recent call last):\n",
      "  File \"<stdin>\", line 3, in <module>\n",
      "AttributeError: 'ndarray' object has no attribute 'tolist'\n"
     ]
    }
   ],
   "source": [
    "import json\n",
    "\n",
    "data = {\"7hz\": data7list(),\n",
    "        \"10hz\": data10list(),\n",
    "        \"12hz\": data12list()}\n",
    "\n",
    "with open('data1.json', 'w') as jsonfile:\n",
    "    json.dump(data, jsonfile)"
   ]
  },
  {
   "cell_type": "code",
   "execution_count": 143,
   "metadata": {},
   "outputs": [
    {
     "name": "stdout",
     "output_type": "stream",
     "text": [
      "Listing directory '/'.\n",
      "       55    .env\n",
      "      666    data.json\n",
      "             lib/\n"
     ]
    }
   ],
   "source": [
    "%ls"
   ]
  },
  {
   "cell_type": "code",
   "execution_count": 180,
   "metadata": {},
   "outputs": [
    {
     "name": "stdout",
     "output_type": "stream",
     "text": [
      "[leftinbuffer] ['>']\n",
      "[leftinbuffer] ['MicroPython v1.16-141-g224ac355c-dirty on 2021-07-28; ESP32 module with ESP32']\n",
      "[leftinbuffer] ['Type \"help()\" for more information.']\n",
      "[leftinbuffer] ['>>> ']\n",
      "[leftinbuffer] ['Brownout detector was triggered']\n",
      "[leftinbuffer] ['ets Jul 29 2019 12:21:46']\n",
      "[leftinbuffer] ['rst:0xc (SW_CPU_RESET),boot:0x13 (SPI_FAST_FLASH_BOOT)']\n",
      "[leftinbuffer] ['configsip: 0, SPIWP:0xee']\n",
      "[leftinbuffer] ['clk_drv:0x00,q_drv:0x00,d_drv:0x00,cs0_drv:0x00,hd_drv:0x00,wp_drv:0x00']\n",
      "[leftinbuffer] ['mode:DIO, clock div:2']\n",
      "[leftinbuffer] ['load:0x3fff0018,len:4']\n",
      "[leftinbuffer] ['load:0x3fff001c,len:5204']\n",
      "[leftinbuffer] ['load:0x40078000,len:12136']\n",
      "[leftinbuffer] ['load:0x40080400,len:3496']\n",
      "[leftinbuffer] ['entry 0x4008063c']\n",
      "[leftinbuffer] ['MicroPython v1.16-141-g224ac355c-dirty on 2021-07-28; ESP32 module with ESP32']\n",
      "[leftinbuffer] ['Type \"help()\" for more information.']\n",
      "[leftinbuffer] ['>>> ']\n",
      "\n",
      "[missing-OK]print(data7list)\n",
      "\n",
      "[missing-OK]Traceback (most recent call last):\n",
      "\n",
      "[missing-OK]  File \"<stdin>\n",
      "[missing-OK]\", line 1, in <module>\n",
      "\n",
      "[missing-OK]NameError: name 'data7list' isn't defined\n",
      ">>> \n",
      ">>> \n",
      "\n",
      "[missing-OK]MPY: soft reboot\n",
      "\n",
      "[missing-OK]MicroPython v1.16-141-g224ac355c-dirty on 2021-07-28; ESP32 module with ESP32\n",
      "\n",
      "[missing-OK]Type \"help()\" for more information.\n",
      ">>>[reboot detected 0]repl is in normal command mode\n",
      "[\\r\\x03\\x03] b'\\r\\n>>> '\n",
      "[\\r\\x01] b'\\r\\n>>> \\r\\nraw REPL; CTRL-B to exit\\r\\n>' "
     ]
    }
   ],
   "source": [
    "print(data7list)"
   ]
  },
  {
   "cell_type": "code",
   "execution_count": null,
   "metadata": {},
   "outputs": [],
   "source": []
  }
 ],
 "metadata": {
  "kernelspec": {
   "display_name": "MicroPython - USB",
   "language": "micropython",
   "name": "micropython"
  },
  "language_info": {
   "codemirror_mode": "python",
   "file_extension": ".py",
   "mimetype": "text/python",
   "name": "micropython"
  }
 },
 "nbformat": 4,
 "nbformat_minor": 4
}
