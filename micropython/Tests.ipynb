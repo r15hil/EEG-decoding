{
 "cells": [
  {
   "cell_type": "code",
   "execution_count": null,
   "metadata": {},
   "outputs": [],
   "source": [
    "%serialconnect to --port=\"COM5\" --baud=115200"
   ]
  },
  {
   "cell_type": "code",
   "execution_count": null,
   "metadata": {},
   "outputs": [],
   "source": [
    "f = open(\"main.py\", \"r\")\n",
    "print(f.read())"
   ]
  },
  {
   "cell_type": "code",
   "execution_count": 1,
   "metadata": {},
   "outputs": [
    {
     "name": "stdout",
     "output_type": "stream",
     "text": [
      "\u001b[31mNo serial connected\n",
      "\u001b[0m  %serialconnect to connect\n",
      "  %esptool to flash the device\n",
      "  %lsmagic to list commands"
     ]
    }
   ],
   "source": [
    "%sendtofile lib/collector.py --source lib/collector.py\n",
    "%sendtofile lib/peripherals.py --source lib/peripherals.py"
   ]
  },
  {
   "cell_type": "code",
   "execution_count": null,
   "metadata": {},
   "outputs": [],
   "source": [
    "import gc\n",
    "from micropython import alloc_emergency_exception_buf\n",
    "\n",
    "from lib.requests import MicroWebCli as requests\n",
    "import ujson as json\n",
    "\n",
    "from lib.utils import load_env_vars\n",
    "from lib.utils import connect_wifi, load_env_vars\n",
    "\n",
    "from ulab import numpy as np\n",
    "import utime as time\n",
    "from lib.collector import Collector "
   ]
  },
  {
   "cell_type": "code",
   "execution_count": null,
   "metadata": {},
   "outputs": [],
   "source": [
    "collector = Collector(buffer_size=256, preprocess=False, ds=False)\n",
    "\n",
    "SPI_params= {\n",
    "    \"spi_num\": 2,\n",
    "    \"sck\": 18,\n",
    "    \"mosi\": 23,\n",
    "    \"miso\": 19,\n",
    "    \"output_amp_gain\": 200,\n",
    "}\n",
    "\n",
    "collector.setup(spi_params=SPI_params)\n",
    "\n",
    "ssid = 'VM0857951'\n",
    "password = 'cchk7mrYgrzq'\n",
    "connect_wifi(ssid, password)\n",
    "time.sleep(4)\n",
    "\n",
    "collector.run()\n",
    "\n",
    "while True:\n",
    "    time.sleep(1)\n",
    "    data = runner.output_buffer\n",
    "    print(data)\n",
    "#     toSend = {\"raw_data\":data}\n",
    "#     print(toSend)\n",
    "#     requests.JSONRequest(\"http://192.168.0.13:5001/collect\", toSend)\n",
    "#     # requests.JSONRequest(\"http://172.20.10.2:5001/collect\", toSend)\n",
    "#     del data\n",
    "#     del toSend\n",
    "#     # requests.GETRequest(\"http://172.20.10.2:5001/save\")\n",
    "#     requests.GETRequest(\"http://192.168.0.13:5001/save\")"
   ]
  }
 ],
 "metadata": {
  "kernelspec": {
   "display_name": "MicroPython - USB",
   "language": "micropython",
   "name": "micropython"
  },
  "language_info": {
   "codemirror_mode": "python",
   "file_extension": ".py",
   "mimetype": "text/python",
   "name": "micropython"
  }
 },
 "nbformat": 4,
 "nbformat_minor": 4
}
